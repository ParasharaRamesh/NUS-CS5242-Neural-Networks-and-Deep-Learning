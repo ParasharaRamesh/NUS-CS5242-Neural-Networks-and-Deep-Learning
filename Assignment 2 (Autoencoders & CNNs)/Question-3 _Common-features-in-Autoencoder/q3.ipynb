{
 "cells": [
  {
   "cell_type": "code",
   "execution_count": 2,
   "metadata": {
    "collapsed": true,
    "ExecuteTime": {
     "end_time": "2023-09-28T14:44:35.829377Z",
     "start_time": "2023-09-28T14:44:35.782502300Z"
    }
   },
   "outputs": [],
   "source": [
    "%load_ext autoreload\n",
    "%autoreload 2"
   ]
  },
  {
   "cell_type": "code",
   "execution_count": 3,
   "outputs": [],
   "source": [
    "import sys\n",
    "sys.path.append(\"../Question-2_Autoencoders\")\n",
    "\n",
    "import torch\n",
    "import torch.optim as optim\n",
    "from torch.utils.data import DataLoader, SubsetRandomSampler\n",
    "import torchvision\n",
    "from torchvision import transforms\n",
    "import os\n",
    "from datetime import datetime  # For generating timestamped folder names\n",
    "from tqdm.auto import tqdm\n",
    "from CNN_autoencoder_model import *"
   ],
   "metadata": {
    "collapsed": false,
    "ExecuteTime": {
     "end_time": "2023-09-28T14:44:39.303284900Z",
     "start_time": "2023-09-28T14:44:36.711773200Z"
    }
   }
  },
  {
   "cell_type": "code",
   "execution_count": 4,
   "outputs": [],
   "source": [
    "# Check if GPU is available, otherwise use CPU\n",
    "device = torch.device('cuda' if torch.cuda.is_available() else 'cpu')"
   ],
   "metadata": {
    "collapsed": false,
    "ExecuteTime": {
     "end_time": "2023-09-28T14:44:39.397923Z",
     "start_time": "2023-09-28T14:44:39.303284900Z"
    }
   }
  },
  {
   "cell_type": "markdown",
   "source": [
    "# Use the saved model weights"
   ],
   "metadata": {
    "collapsed": false
   }
  },
  {
   "cell_type": "code",
   "execution_count": 5,
   "outputs": [
    {
     "data": {
      "text/plain": "CNNAutoencoder(\n  (encoder): CNNEncoder(\n    (encoder): Sequential(\n      (0): Conv2d(1, 16, kernel_size=(3, 3), stride=(1, 1), padding=(1, 1))\n      (1): ReLU()\n      (2): MaxPool2d(kernel_size=2, stride=2, padding=0, dilation=1, ceil_mode=False)\n      (3): Conv2d(16, 8, kernel_size=(3, 3), stride=(1, 1), padding=(1, 1))\n      (4): ReLU()\n      (5): MaxPool2d(kernel_size=2, stride=2, padding=0, dilation=1, ceil_mode=False)\n    )\n    (fc1): Sequential(\n      (0): Linear(in_features=392, out_features=392, bias=True)\n      (1): ReLU()\n    )\n    (fc2): Sequential(\n      (0): Linear(in_features=392, out_features=32, bias=True)\n      (1): ReLU()\n    )\n  )\n  (decoder): CNNDecoder(\n    (decoder): Sequential(\n      (0): Linear(in_features=32, out_features=392, bias=True)\n      (1): ReLU()\n      (2): Unflatten(dim=1, unflattened_size=(8, 7, 7))\n      (3): ConvTranspose2d(8, 8, kernel_size=(4, 4), stride=(2, 2), padding=(1, 1))\n      (4): ReLU()\n      (5): ConvTranspose2d(8, 16, kernel_size=(3, 3), stride=(1, 1), padding=(1, 1))\n      (6): ReLU()\n      (7): ConvTranspose2d(16, 16, kernel_size=(4, 4), stride=(2, 2), padding=(1, 1))\n      (8): ReLU()\n      (9): ConvTranspose2d(16, 1, kernel_size=(3, 3), stride=(1, 1), padding=(1, 1))\n    )\n  )\n)"
     },
     "execution_count": 5,
     "metadata": {},
     "output_type": "execute_result"
    }
   ],
   "source": [
    "lambda_2_cnn_autoencoder = CNNAutoencoder(2)\n",
    "lambda_32_cnn_autoencoder = CNNAutoencoder(32)\n",
    "\n",
    "best_lambda_2_model_path = \"../Question-2_Autoencoders/model_ckpts_CNN/2/model_epoch_30.pt\"\n",
    "checkpoint_lambda_2 = torch.load(best_lambda_2_model_path)\n",
    "\n",
    "best_lambda_32_model_path = \"../Question-2_Autoencoders/model_ckpts_CNN/32/model_epoch_30.pt\"\n",
    "checkpoint_lambda_32 = torch.load(best_lambda_32_model_path)\n",
    "\n",
    "lambda_2_cnn_autoencoder.load_state_dict(checkpoint_lambda_2['model_state_dict'])\n",
    "lambda_32_cnn_autoencoder.load_state_dict(checkpoint_lambda_32['model_state_dict'])\n",
    "\n",
    "#move it to GPU\n",
    "lambda_2_cnn_autoencoder.to(device)\n",
    "lambda_32_cnn_autoencoder.to(device)"
   ],
   "metadata": {
    "collapsed": false,
    "ExecuteTime": {
     "end_time": "2023-09-28T14:44:39.671653500Z",
     "start_time": "2023-09-28T14:44:39.397923Z"
    }
   }
  },
  {
   "cell_type": "markdown",
   "source": [
    "# Load the mnist data"
   ],
   "metadata": {
    "collapsed": false
   }
  },
  {
   "cell_type": "code",
   "execution_count": 6,
   "outputs": [],
   "source": [
    "# Load MNIST dataset and apply transformations\n",
    "transform = transforms.Compose([transforms.ToTensor()])\n",
    "mnist_dataset = torchvision.datasets.MNIST(root='./data', train=True, transform=transform, download=True)\n",
    "train_loader = DataLoader(mnist_dataset, batch_size=1, shuffle=False)"
   ],
   "metadata": {
    "collapsed": false,
    "ExecuteTime": {
     "end_time": "2023-09-28T14:44:41.981850Z",
     "start_time": "2023-09-28T14:44:41.809258300Z"
    }
   }
  },
  {
   "cell_type": "markdown",
   "source": [
    "# Now pass the whole dataset through the encoder and get the latent embeddings"
   ],
   "metadata": {
    "collapsed": false
   }
  },
  {
   "cell_type": "markdown",
   "source": [
    "### First lets see lambda = 2"
   ],
   "metadata": {
    "collapsed": false
   }
  },
  {
   "cell_type": "code",
   "execution_count": 12,
   "outputs": [
    {
     "data": {
      "text/plain": "0it [00:00, ?it/s]",
      "application/vnd.jupyter.widget-view+json": {
       "version_major": 2,
       "version_minor": 0,
       "model_id": "cb41bef9b7b843629649f25eae5cb068"
      }
     },
     "metadata": {},
     "output_type": "display_data"
    }
   ],
   "source": [
    "#set in eval mode\n",
    "lambda_2_cnn_autoencoder.encoder.eval()\n",
    "lambda_2_cnn_autoencoder.decoder.eval()\n",
    "\n",
    "lambda_2_all_latent_features = []\n",
    "\n",
    "with torch.no_grad():\n",
    "    for batch_idx, data in tqdm(enumerate(train_loader)):\n",
    "        images, _ = data\n",
    "        images = images.to(device)\n",
    "        # Forward pass through the model\n",
    "        latent_features_batch = lambda_2_cnn_autoencoder.encoder(images)\n",
    "        lambda_2_all_latent_features.append(latent_features_batch)\n"
   ],
   "metadata": {
    "collapsed": false,
    "ExecuteTime": {
     "end_time": "2023-09-28T14:48:37.301087700Z",
     "start_time": "2023-09-28T14:47:52.290646800Z"
    }
   }
  },
  {
   "cell_type": "code",
   "execution_count": 18,
   "outputs": [
    {
     "data": {
      "text/plain": "torch.Size([1, 2])"
     },
     "execution_count": 18,
     "metadata": {},
     "output_type": "execute_result"
    }
   ],
   "source": [
    "all_latent_features[0].size()"
   ],
   "metadata": {
    "collapsed": false,
    "ExecuteTime": {
     "end_time": "2023-09-28T14:51:38.909596100Z",
     "start_time": "2023-09-28T14:51:38.842422400Z"
    }
   }
  },
  {
   "cell_type": "code",
   "execution_count": null,
   "outputs": [],
   "source": [],
   "metadata": {
    "collapsed": false
   }
  }
 ],
 "metadata": {
  "kernelspec": {
   "display_name": "Python 3",
   "language": "python",
   "name": "python3"
  },
  "language_info": {
   "codemirror_mode": {
    "name": "ipython",
    "version": 2
   },
   "file_extension": ".py",
   "mimetype": "text/x-python",
   "name": "python",
   "nbconvert_exporter": "python",
   "pygments_lexer": "ipython2",
   "version": "2.7.6"
  }
 },
 "nbformat": 4,
 "nbformat_minor": 0
}
