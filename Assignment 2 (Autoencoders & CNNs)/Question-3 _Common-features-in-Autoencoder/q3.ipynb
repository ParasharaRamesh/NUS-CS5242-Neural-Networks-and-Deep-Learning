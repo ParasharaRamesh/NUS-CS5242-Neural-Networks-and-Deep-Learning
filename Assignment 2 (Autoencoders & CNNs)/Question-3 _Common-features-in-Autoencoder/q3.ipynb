{
 "cells": [
  {
   "cell_type": "code",
   "execution_count": 2,
   "metadata": {
    "collapsed": true,
    "ExecuteTime": {
     "end_time": "2023-09-28T14:44:35.829377Z",
     "start_time": "2023-09-28T14:44:35.782502300Z"
    }
   },
   "outputs": [],
   "source": [
    "%load_ext autoreload\n",
    "%autoreload 2"
   ]
  },
  {
   "cell_type": "code",
   "execution_count": 3,
   "outputs": [],
   "source": [
    "import sys\n",
    "sys.path.append(\"../Question-2_Autoencoders\")\n",
    "\n",
    "import torch\n",
    "import torch.optim as optim\n",
    "from torch.utils.data import DataLoader, SubsetRandomSampler\n",
    "import torchvision\n",
    "from torchvision import transforms\n",
    "import os\n",
    "from datetime import datetime  # For generating timestamped folder names\n",
    "from tqdm.auto import tqdm\n",
    "from CNN_autoencoder_model import *"
   ],
   "metadata": {
    "collapsed": false,
    "ExecuteTime": {
     "end_time": "2023-09-28T14:44:39.303284900Z",
     "start_time": "2023-09-28T14:44:36.711773200Z"
    }
   }
  },
  {
   "cell_type": "code",
   "execution_count": 4,
   "outputs": [],
   "source": [
    "# Check if GPU is available, otherwise use CPU\n",
    "device = torch.device('cuda' if torch.cuda.is_available() else 'cpu')"
   ],
   "metadata": {
    "collapsed": false,
    "ExecuteTime": {
     "end_time": "2023-09-28T14:44:39.397923Z",
     "start_time": "2023-09-28T14:44:39.303284900Z"
    }
   }
  },
  {
   "cell_type": "markdown",
   "source": [
    "# Use the saved model weights"
   ],
   "metadata": {
    "collapsed": false
   }
  },
  {
   "cell_type": "code",
   "execution_count": 5,
   "outputs": [
    {
     "data": {
      "text/plain": "CNNAutoencoder(\n  (encoder): CNNEncoder(\n    (encoder): Sequential(\n      (0): Conv2d(1, 16, kernel_size=(3, 3), stride=(1, 1), padding=(1, 1))\n      (1): ReLU()\n      (2): MaxPool2d(kernel_size=2, stride=2, padding=0, dilation=1, ceil_mode=False)\n      (3): Conv2d(16, 8, kernel_size=(3, 3), stride=(1, 1), padding=(1, 1))\n      (4): ReLU()\n      (5): MaxPool2d(kernel_size=2, stride=2, padding=0, dilation=1, ceil_mode=False)\n    )\n    (fc1): Sequential(\n      (0): Linear(in_features=392, out_features=392, bias=True)\n      (1): ReLU()\n    )\n    (fc2): Sequential(\n      (0): Linear(in_features=392, out_features=32, bias=True)\n      (1): ReLU()\n    )\n  )\n  (decoder): CNNDecoder(\n    (decoder): Sequential(\n      (0): Linear(in_features=32, out_features=392, bias=True)\n      (1): ReLU()\n      (2): Unflatten(dim=1, unflattened_size=(8, 7, 7))\n      (3): ConvTranspose2d(8, 8, kernel_size=(4, 4), stride=(2, 2), padding=(1, 1))\n      (4): ReLU()\n      (5): ConvTranspose2d(8, 16, kernel_size=(3, 3), stride=(1, 1), padding=(1, 1))\n      (6): ReLU()\n      (7): ConvTranspose2d(16, 16, kernel_size=(4, 4), stride=(2, 2), padding=(1, 1))\n      (8): ReLU()\n      (9): ConvTranspose2d(16, 1, kernel_size=(3, 3), stride=(1, 1), padding=(1, 1))\n    )\n  )\n)"
     },
     "execution_count": 5,
     "metadata": {},
     "output_type": "execute_result"
    }
   ],
   "source": [
    "lambda_2_cnn_autoencoder = CNNAutoencoder(2)\n",
    "lambda_32_cnn_autoencoder = CNNAutoencoder(32)\n",
    "\n",
    "best_lambda_2_model_path = \"../Question-2_Autoencoders/model_ckpts_CNN/2/model_epoch_30.pt\"\n",
    "checkpoint_lambda_2 = torch.load(best_lambda_2_model_path)\n",
    "\n",
    "best_lambda_32_model_path = \"../Question-2_Autoencoders/model_ckpts_CNN/32/model_epoch_30.pt\"\n",
    "checkpoint_lambda_32 = torch.load(best_lambda_32_model_path)\n",
    "\n",
    "lambda_2_cnn_autoencoder.load_state_dict(checkpoint_lambda_2['model_state_dict'])\n",
    "lambda_32_cnn_autoencoder.load_state_dict(checkpoint_lambda_32['model_state_dict'])\n",
    "\n",
    "#move it to GPU\n",
    "lambda_2_cnn_autoencoder.to(device)\n",
    "lambda_32_cnn_autoencoder.to(device)"
   ],
   "metadata": {
    "collapsed": false,
    "ExecuteTime": {
     "end_time": "2023-09-28T14:44:39.671653500Z",
     "start_time": "2023-09-28T14:44:39.397923Z"
    }
   }
  },
  {
   "cell_type": "markdown",
   "source": [
    "# Load the mnist data"
   ],
   "metadata": {
    "collapsed": false
   }
  },
  {
   "cell_type": "code",
   "execution_count": 6,
   "outputs": [],
   "source": [
    "# Load MNIST dataset and apply transformations\n",
    "transform = transforms.Compose([transforms.ToTensor()])\n",
    "mnist_dataset = torchvision.datasets.MNIST(root='./data', train=True, transform=transform, download=True)\n",
    "train_loader = DataLoader(mnist_dataset, batch_size=1, shuffle=False)"
   ],
   "metadata": {
    "collapsed": false,
    "ExecuteTime": {
     "end_time": "2023-09-28T14:44:41.981850Z",
     "start_time": "2023-09-28T14:44:41.809258300Z"
    }
   }
  },
  {
   "cell_type": "markdown",
   "source": [
    "# Now pass the whole dataset through the encoder and get the latent embeddings"
   ],
   "metadata": {
    "collapsed": false
   }
  },
  {
   "cell_type": "markdown",
   "source": [
    "### First lets see lambda = 2"
   ],
   "metadata": {
    "collapsed": false
   }
  },
  {
   "cell_type": "code",
   "execution_count": 20,
   "outputs": [
    {
     "data": {
      "text/plain": "0it [00:00, ?it/s]",
      "application/vnd.jupyter.widget-view+json": {
       "version_major": 2,
       "version_minor": 0,
       "model_id": "d3f813177d4a43469c90e5c50f86e614"
      }
     },
     "metadata": {},
     "output_type": "display_data"
    }
   ],
   "source": [
    "#set in eval mode\n",
    "lambda_2_cnn_autoencoder.encoder.eval()\n",
    "lambda_2_cnn_autoencoder.decoder.eval()\n",
    "\n",
    "lambda_2_all_latent_features = []\n",
    "\n",
    "with torch.no_grad():\n",
    "    for batch_idx, data in tqdm(enumerate(train_loader)):\n",
    "        images, _ = data\n",
    "        images = images.to(device)\n",
    "        # Forward pass through the model\n",
    "        latent_features_batch = lambda_2_cnn_autoencoder.encoder(images)\n",
    "        lambda_2_all_latent_features.append(latent_features_batch)\n"
   ],
   "metadata": {
    "collapsed": false,
    "ExecuteTime": {
     "end_time": "2023-09-28T15:04:21.677476800Z",
     "start_time": "2023-09-28T15:03:11.468944700Z"
    }
   }
  },
  {
   "cell_type": "code",
   "execution_count": 23,
   "outputs": [],
   "source": [
    "lambda_2_avg_latent_feature = sum(lambda_2_all_latent_features)/len(mnist_dataset)\n",
    "reconstructed_lambda_2 = lambda_2_cnn_autoencoder.decoder(lambda_2_avg_latent_feature)"
   ],
   "metadata": {
    "collapsed": false,
    "ExecuteTime": {
     "end_time": "2023-09-28T15:20:59.147772500Z",
     "start_time": "2023-09-28T15:20:58.222250Z"
    }
   }
  },
  {
   "cell_type": "markdown",
   "source": [
    "# First lets see lambda = 32"
   ],
   "metadata": {
    "collapsed": false
   }
  },
  {
   "cell_type": "code",
   "execution_count": 24,
   "outputs": [
    {
     "data": {
      "text/plain": "0it [00:00, ?it/s]",
      "application/vnd.jupyter.widget-view+json": {
       "version_major": 2,
       "version_minor": 0,
       "model_id": "22de8d64aa35412ca3a97768ab61ca91"
      }
     },
     "metadata": {},
     "output_type": "display_data"
    }
   ],
   "source": [
    "#set in eval mode\n",
    "lambda_32_cnn_autoencoder.encoder.eval()\n",
    "lambda_32_cnn_autoencoder.decoder.eval()\n",
    "\n",
    "lambda_32_all_latent_features = []\n",
    "\n",
    "with torch.no_grad():\n",
    "    for batch_idx, data in tqdm(enumerate(train_loader)):\n",
    "        images, _ = data\n",
    "        images = images.to(device)\n",
    "        # Forward pass through the model\n",
    "        latent_features_batch = lambda_32_cnn_autoencoder.encoder(images)\n",
    "        lambda_32_all_latent_features.append(latent_features_batch)\n"
   ],
   "metadata": {
    "collapsed": false,
    "ExecuteTime": {
     "end_time": "2023-09-28T15:24:51.768734100Z",
     "start_time": "2023-09-28T15:23:34.990065600Z"
    }
   }
  },
  {
   "cell_type": "code",
   "execution_count": 25,
   "outputs": [],
   "source": [
    "lambda_32_avg_latent_feature = sum(lambda_32_all_latent_features)/len(mnist_dataset)\n",
    "reconstructed_lambda_32 = lambda_32_cnn_autoencoder.decoder(lambda_32_avg_latent_feature)"
   ],
   "metadata": {
    "collapsed": false,
    "ExecuteTime": {
     "end_time": "2023-09-28T15:24:53.917414900Z",
     "start_time": "2023-09-28T15:24:51.770731Z"
    }
   }
  },
  {
   "cell_type": "markdown",
   "source": [
    "# Lets now plot the reconstructed images"
   ],
   "metadata": {
    "collapsed": false
   }
  },
  {
   "cell_type": "code",
   "execution_count": 29,
   "outputs": [
    {
     "data": {
      "text/plain": "<Figure size 1200x400 with 2 Axes>",
      "image/png": "[encoded data removed]"
     },
     "metadata": {},
     "output_type": "display_data"
    }
   ],
   "source": [
    "import matplotlib.pyplot as plt\n",
    "\n",
    "# Create a subplot grid\n",
    "fig, axes = plt.subplots(1, 2, figsize=(12, 4))\n",
    "\n",
    "# Plot original image\n",
    "axes[0].imshow(reconstructed_lambda_2.squeeze().cpu().detach().numpy(), cmap='gray')\n",
    "axes[0].set_title('Lambda2: Reconstructed Image')\n",
    "axes[0].axis('off')\n",
    "\n",
    "# Plot reconstructed image\n",
    "axes[1].imshow(reconstructed_lambda_32.squeeze().cpu().detach().numpy(), cmap='gray')\n",
    "axes[1].set_title('Lambda32: Reconstructed Image')\n",
    "axes[1].axis('off')\n",
    "\n",
    "plt.tight_layout()\n",
    "plt.show()\n"
   ],
   "metadata": {
    "collapsed": false,
    "ExecuteTime": {
     "end_time": "2023-09-28T15:33:45.666717700Z",
     "start_time": "2023-09-28T15:33:45.461993Z"
    }
   }
  },
  {
   "cell_type": "markdown",
   "source": [
    "# Interpretation\n",
    "\n",
    "\n",
    "For both images since we are taking the average of all latent features for the entire training dataset there will be some kind of blurring effect in the reconstructed image as in some sense we are finding a compromise between all input digits and trying to find the most \"average\" looking digit. Additionally , we can see that the images are lacking clarity as well as we cannot clearly classify this reconstruction as belonging to one particular class.\n",
    "\n",
    "In case of lambda 2 since the model itself is not that powerful it has only learnt the most basic features which is why the blurred reconstruction image just shows the parts which is common in most digits. ( which in this case is most probably the right hand side line present in numbers like 7 and 9 etc)\n",
    "\n",
    "However, in the case of lambda 32 model it has learnt that the most \"average looking\" number is something which looks like an 8 which makes sense since in most digital clocks all digits can be representable using the parts of the digit \"8\".\n",
    "\n",
    "This kind of high level/abstract concept would have been learnt across all the handwritten digits in the dataset.\n",
    "\n"
   ],
   "metadata": {
    "collapsed": false
   }
  },
  {
   "cell_type": "markdown",
   "source": [],
   "metadata": {
    "collapsed": false
   }
  },
  {
   "cell_type": "markdown",
   "source": [],
   "metadata": {
    "collapsed": false
   }
  }
 ],
 "metadata": {
  "kernelspec": {
   "display_name": "Python 3",
   "language": "python",
   "name": "python3"
  },
  "language_info": {
   "codemirror_mode": {
    "name": "ipython",
    "version": 2
   },
   "file_extension": ".py",
   "mimetype": "text/x-python",
   "name": "python",
   "nbconvert_exporter": "python",
   "pygments_lexer": "ipython2",
   "version": "2.7.6"
  }
 },
 "nbformat": 4,
 "nbformat_minor": 0
}
