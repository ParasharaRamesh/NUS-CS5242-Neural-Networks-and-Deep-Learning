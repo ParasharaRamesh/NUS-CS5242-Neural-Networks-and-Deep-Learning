{
 "cells": [
  {
   "cell_type": "markdown",
   "metadata": {},
   "source": [
    "# <u>1.0 Finding the equation for the input graph</u>\n",
    "\n",
    "### <u>Input graph</u>\n",
    "\n",
    "![graph](./resources/graph.png)\n",
    "\n",
    "### <u>Equation</u>\n",
    "\n",
    "The equation for this graph corresponds to the following formula shown below\n",
    "\n",
    "a. L = f(x)\n",
    "    <br>\n",
    "  -> 1 - x&nbsp;&nbsp;&nbsp;&nbsp;&nbsp;&nbsp;&nbsp;&nbsp;&nbsp;&nbsp;&nbsp;&nbsp;&nbsp;{x E [0,1)}\n",
    "  <br>\n",
    "  -> x - 1&nbsp;&nbsp;&nbsp;&nbsp;&nbsp;&nbsp;&nbsp;&nbsp;&nbsp;&nbsp;&nbsp;&nbsp;&nbsp;{x E [1,1+h)}\n",
    "  <br>\n",
    "  -> 1 - x + 2*h&nbsp;&nbsp;&nbsp;{x E [1+h,1+2h]}\n",
    "\n",
    "b. Therefore, the partial derivative for this function in the specific ranges mentioned above are\n",
    "\n",
    "$\\frac{\\partial L}{\\partial x}$ = $\\frac{\\partial f(x)}{\\partial x}$\n",
    "<br>\n",
    "    -> -1&nbsp;&nbsp;&nbsp;&nbsp;&nbsp;&nbsp;&nbsp;&nbsp;&nbsp;&nbsp;&nbsp;&nbsp;&nbsp;{x E [0,1)}\n",
    "    <br>\n",
    "    -> +1&nbsp;&nbsp;&nbsp;&nbsp;&nbsp;&nbsp;&nbsp;&nbsp;&nbsp;&nbsp;&nbsp;&nbsp;{x E [1,1+h)}\n",
    "    <br>\n",
    "    -> -1&nbsp;&nbsp;&nbsp;&nbsp;&nbsp;&nbsp;&nbsp;&nbsp;&nbsp;&nbsp;&nbsp;&nbsp;&nbsp;{x E [1+h,1+2h]}"
   ]
  },
  {
   "cell_type": "markdown",
   "metadata": {},
   "source": [
    "# <u>1.1 What happens on Standard Gradient Descent?</u>\n",
    "\n",
    "![1.1](./resources/1_1.png)\n",
    "\n",
    "### <u>Assuming h = 0.5 means the equations and partial derivatives change like this</u>\n",
    "\n",
    "a. L = f(x)\n",
    "<br>\n",
    "  -> 1 - x&nbsp;&nbsp;&nbsp;&nbsp;&nbsp;&nbsp;&nbsp;&nbsp;&nbsp;&nbsp;&nbsp;&nbsp;&nbsp;{x E [0,1)}\n",
    "  <br>\n",
    "  -> x - 1&nbsp;&nbsp;&nbsp;&nbsp;&nbsp;&nbsp;&nbsp;&nbsp;&nbsp;&nbsp;&nbsp;&nbsp;&nbsp;{x E [1,1.5)}\n",
    "  <br>\n",
    "  -> 2 - x&nbsp;&nbsp;&nbsp;&nbsp;&nbsp;&nbsp;&nbsp;&nbsp;&nbsp;&nbsp;&nbsp;&nbsp;&nbsp;{x E [1.5,2]}\n",
    "  <br>\n",
    "\n",
    "b. Therefore, the partial derivative for this function in the specific ranges mentioned above are\n",
    "\n",
    "$\\frac{\\partial L}{\\partial x}$ = $\\frac{\\partial f(x)}{\\partial x}$\n",
    "<br>\n",
    "    -> -1&nbsp;&nbsp;&nbsp;&nbsp;&nbsp;&nbsp;&nbsp;&nbsp;&nbsp;&nbsp;&nbsp;&nbsp;&nbsp;{x E [0,1)}\n",
    "    <br>\n",
    "    -> +1&nbsp;&nbsp;&nbsp;&nbsp;&nbsp;&nbsp;&nbsp;&nbsp;&nbsp;&nbsp;&nbsp;&nbsp;{x E [1,1.5)}\n",
    "    <br>\n",
    "    -> -1&nbsp;&nbsp;&nbsp;&nbsp;&nbsp;&nbsp;&nbsp;&nbsp;&nbsp;&nbsp;&nbsp;&nbsp;&nbsp;{x E [1.5,2]}\n",
    "    <br>\n",
    "\n",
    "### <u>Derivation</u>\n",
    "\n",
    "let x0 = 0\n",
    "\n",
    ". x1 = x0 - 0.3*(-1) = 0.3 {as x0 E [0,1)}\n",
    "\n",
    ". x2 = x1 - 0.3*(-1) = 0.3 + 0.3 = 0.6 {as x1 E [0,1)}\n",
    "\n",
    ". x3 = x2 - 0.3*(-1) = 0.6 + 0.3 = 0.9 {as x2 E [0, 1)}\n",
    "\n",
    ". x4 = x3 - 0.3*(-1) = 0.9 + 0.3 = 1.2 {as x3 E [0, 1)}\n",
    "\n",
    ". x5 = x4 - 0.3*(+1) = 1.2 - 0.3 = 0.9 {as x4 E [1, 1.5)}\n",
    "\n",
    "Here we can see that x5 is the same as x3. Which means that the values will keep switching 0.9 and 1.2 forever and there will be no convergence.\n",
    "\n",
    "The natural question which arises then would be, assuming we actually stopped at the point when the curve changes equation to x-1 would that have been a natural stopping point?\n",
    "\n",
    "In that particular case the answer is still no as there is no derivative defined for sharp points. ( if it was instead a smooth point instead of a sharp one a derivative could have probably been definable )"
   ]
  },
  {
   "cell_type": "markdown",
   "metadata": {},
   "source": [
    "# <u> 1.3 What happens on applying adam optimizer instead? </u>\n",
    "\n",
    "![1.2](./resources/1_2.png)\n",
    "\n",
    "\n",
    "Given below is an implementation of the adam optimizer code using the parameters mentioned\n"
   ]
  },
  {
   "cell_type": "code",
   "execution_count": 1,
   "metadata": {
    "ExecuteTime": {
     "end_time": "2023-09-27T12:07:58.301983100Z",
     "start_time": "2023-09-27T12:07:58.285873500Z"
    },
    "collapsed": false,
    "jupyter": {
     "outputs_hidden": false
    },
    "tags": []
   },
   "outputs": [],
   "source": [
    "def get_gradient(x, h):\n",
    "    '''\n",
    "\n",
    "    :param x: distance on x axis\n",
    "    :param h: height of the bump\n",
    "    :return: gradient based on where x is\n",
    "    '''\n",
    "    if x >= 0 and x < 1:\n",
    "        # print(\"x is in [0,1) -> gradient is -1\")\n",
    "        return -1\n",
    "    elif x >= 1 and x < 1 + h:\n",
    "        # print(\"x is in [1,1+h) -> gradient is 1\")\n",
    "        return 1\n",
    "    elif x >= 1 + h and x <= 1 + (2 * h):\n",
    "        # print(\"x is in [1+h,1+2h] -> gradient is -1\")\n",
    "        return -1\n",
    "    else:\n",
    "        #undefined gradient\n",
    "        return None\n",
    "\n",
    "\n",
    "def update_m(m_t, g, beta1=0.9):\n",
    "    m_next = (beta1 * m_t) + ((1 - beta1) * g)\n",
    "    # print(f\"m_t:{m_t} -> m_t+1:{m_next}\")\n",
    "    return m_next\n",
    "\n",
    "\n",
    "def update_v(v_t, g, beta2=0.999):\n",
    "    v_next = (beta2 * v_t) + ((1 - beta2) * (g ** 2))\n",
    "    # print(f\"v_t:{v_t} -> v_t+1:{v_next}\")\n",
    "    return v_next\n",
    "\n",
    "\n",
    "def get_m_hat_at_t(t, m_next_t, beta1=0.9):\n",
    "    m_hat = m_next_t / (1 - (beta1 ** t))\n",
    "    # print(f\"m_hat @ t:{t} is {m_hat}\")\n",
    "    return m_hat\n",
    "\n",
    "\n",
    "def get_v_hat_at_t(t, v_next_t, beta2=0.999):\n",
    "    v_hat = v_next_t / (1 - (beta2 ** t))\n",
    "    # print(f\"v_hat @ t:{t} is {v_hat}\")\n",
    "    return v_hat\n",
    "\n",
    "\n",
    "def update_theta(theta_t, m_next_t_hat, v_next_t_hat, alpha=0.3, epsilon=0):\n",
    "    new_theta = theta_t - ((alpha * m_next_t_hat) / (epsilon + v_next_t_hat ** 0.5))\n",
    "    # print(f\"theta old {theta_t} -> theta new {new_theta}\")\n",
    "    return new_theta\n",
    "\n",
    "\n",
    "#NOTE: h is set to some arbitrarily high value as I want to see the point where x switches to the next equation\n",
    "def adam_update(t, theta_t, m_t, v_t, h=1000000, alpha=0.3, epsilon=0, beta1=0.9, beta2=0.999):\n",
    "    t += 1\n",
    "    g = get_gradient(theta_t, h)\n",
    "    m_next_t = update_m(m_t, g, beta1)\n",
    "    v_next_t = update_v(v_t, g, beta2)\n",
    "    m_next_t_hat = get_m_hat_at_t(t, m_next_t, beta1)\n",
    "    v_next_t_hat = get_v_hat_at_t(t, v_next_t, beta2)\n",
    "    next_theta = update_theta(theta_t, m_next_t_hat, v_next_t_hat, alpha, epsilon)\n",
    "    return m_next_t, v_next_t, next_theta\n",
    "\n",
    "\n",
    "def minimize(max_iterations=100, h=1000000):\n",
    "    x = 0\n",
    "    m = 0\n",
    "    v = 0\n",
    "    convergence_threshold = 1e-5\n",
    "    for t in range(max_iterations):\n",
    "        m, v, new_x = adam_update(t, x, m, v, h)\n",
    "        step = abs(new_x - x)\n",
    "        print(\"+\" * 100)\n",
    "        print(f\"x{t}: {x} -> x{t + 1}: {new_x} | Step: {step}\")\n",
    "        print(\"=\" * 100)\n",
    "        x = new_x\n",
    "        if step < convergence_threshold:\n",
    "            print(\"Reached convergence!\")\n",
    "            break\n"
   ]
  },
  {
   "cell_type": "code",
   "execution_count": 3,
   "metadata": {
    "collapsed": false,
    "jupyter": {
     "outputs_hidden": false
    },
    "tags": []
   },
   "outputs": [
    {
     "name": "stdout",
     "output_type": "stream",
     "text": [
      "++++++++++++++++++++++++++++++++++++++++++++++++++++++++++++++++++++++++++++++++++++++++++++++++++++\n",
      "x0: 0 -> x1: 0.3 | Step: 0.3\n",
      "====================================================================================================\n",
      "++++++++++++++++++++++++++++++++++++++++++++++++++++++++++++++++++++++++++++++++++++++++++++++++++++\n",
      "x1: 0.3 -> x2: 0.5999999999999979 | Step: 0.2999999999999979\n",
      "====================================================================================================\n",
      "++++++++++++++++++++++++++++++++++++++++++++++++++++++++++++++++++++++++++++++++++++++++++++++++++++\n",
      "x2: 0.5999999999999979 -> x3: 0.8999999999999977 | Step: 0.2999999999999998\n",
      "====================================================================================================\n",
      "++++++++++++++++++++++++++++++++++++++++++++++++++++++++++++++++++++++++++++++++++++++++++++++++++++\n",
      "x3: 0.8999999999999977 -> x4: 1.199999999999996 | Step: 0.29999999999999827\n",
      "====================================================================================================\n",
      "++++++++++++++++++++++++++++++++++++++++++++++++++++++++++++++++++++++++++++++++++++++++++++++++++++\n",
      "x4: 1.199999999999996 -> x5: 1.353483431418032 | Step: 0.153483431418036\n",
      "====================================================================================================\n",
      "++++++++++++++++++++++++++++++++++++++++++++++++++++++++++++++++++++++++++++++++++++++++++++++++++++\n",
      "x5: 1.353483431418032 -> x6: 1.4101842951299657 | Step: 0.056700863711933724\n",
      "====================================================================================================\n",
      "++++++++++++++++++++++++++++++++++++++++++++++++++++++++++++++++++++++++++++++++++++++++++++++++++++\n",
      "x6: 1.4101842951299657 -> x7: 1.5135207138708162 | Step: 0.10333641874085053\n",
      "====================================================================================================\n",
      "++++++++++++++++++++++++++++++++++++++++++++++++++++++++++++++++++++++++++++++++++++++++++++++++++++\n",
      "x7: 1.5135207138708162 -> x8: 1.6513878189412725 | Step: 0.1378671050704563\n",
      "====================================================================================================\n"
     ]
    }
   ],
   "source": [
    "#NOTE: This cell just shows a run for a particular value of h where the optimizer will cross the hump\n",
    "\n",
    "minimize(max_iterations=8, h=0.41018425)\n",
    "\n"
   ]
  },
  {
   "cell_type": "markdown",
   "metadata": {},
   "source": [
    "### <u>1.3 Explanation</u>\n",
    "\n",
    "I implemented adam and kept logging what the values of x are after each \"adam update\" for different values of \"h\".\n",
    "\n",
    "Using binary search and simple trial & error I figured out 2 limits\n",
    "0.41018425 (crosses the hump) -> 0.41018450 ( where it cant cross)\n",
    "\n",
    "Therefore after rounding it down to 2 decimal places the answer is just 0.41"
   ]
  },
  {
   "cell_type": "markdown",
   "metadata": {},
   "source": [
    "# <u>1.4: Plotting different values related to Adam Optimizer</u>\n",
    "\n",
    "![1.4](./resources/1_4.png)\n",
    "\n",
    "In the cells below I write the code required for plotting the values"
   ]
  },
  {
   "cell_type": "code",
   "execution_count": 12,
   "metadata": {
    "collapsed": false,
    "jupyter": {
     "outputs_hidden": false
    },
    "tags": []
   },
   "outputs": [
    {
     "name": "stderr",
     "output_type": "stream",
     "text": [
      "100%|██████████| 30/30 [00:00<?, ?it/s]\n"
     ]
    }
   ],
   "source": [
    "import numpy as np\n",
    "import matplotlib.pyplot as plt\n",
    "from tqdm import tqdm\n",
    "\n",
    "#functions\n",
    "\n",
    "def relu_derivative(x):\n",
    "    return 1 if x > 0 else 0\n",
    "\n",
    "\n",
    "def sigmoid(x):\n",
    "    return 1 / (1 + np.exp(-x))\n",
    "\n",
    "\n",
    "def sigmoid_derivative(x):\n",
    "    return sigmoid(x) * (1 - sigmoid(x))\n",
    "\n",
    "\n",
    "def abs_derivative(x):\n",
    "    if x < 0:\n",
    "        return -1\n",
    "    elif x > 0:\n",
    "        return 1\n",
    "    else:\n",
    "        return 0\n",
    "\n",
    "\n",
    "#plotting related functions\n",
    "def plot_graph(x, y, title, x_title, y_title, showScatter=True):\n",
    "    import matplotlib.pyplot as plt\n",
    "    maxim = max(y)\n",
    "    minim = min(y)\n",
    "\n",
    "    # Create a figure\n",
    "    plt.figure(figsize=(10, 6))\n",
    "\n",
    "    # Plot the complex function\n",
    "    plt.plot(x, y)\n",
    "\n",
    "    # Set y-axis limits\n",
    "    plt.ylim(minim - 0.5, maxim + 0.5)\n",
    "\n",
    "    # Add labels and legend\n",
    "    plt.xlabel(x_title)\n",
    "    plt.ylabel(y_title)\n",
    "    plt.title(title)\n",
    "    plt.legend()\n",
    "    plt.grid(True)\n",
    "\n",
    "    if showScatter:\n",
    "        # Plot only the points with a different color\n",
    "        plt.scatter(x, y, color='red', marker='o')\n",
    "\n",
    "    # Show the plot\n",
    "    plt.show()\n",
    "    plt.clf()\n",
    "    plt.cla()\n",
    "    plt.close()\n",
    "\n",
    "\n",
    "#related to adam optimization(similar to old code but slightly different!)\n",
    "\n",
    "def compute_gradient(theta_t, fx):\n",
    "    if fx == \"relu\":\n",
    "        return relu_derivative(theta_t)\n",
    "\n",
    "    if fx == \"sigmoid\":\n",
    "        return sigmoid_derivative(theta_t)\n",
    "\n",
    "    if fx == \"abs\":\n",
    "        return abs_derivative(theta_t)\n",
    "\n",
    "\n",
    "def adam(t, theta_t, m_t, v_t, fx, alpha=0.3, epsilon=0, beta1=0.9, beta2=0.999):\n",
    "    t += 1\n",
    "    g = compute_gradient(theta_t, fx)\n",
    "    m_next_t =  (beta1 * m_t) + ((1 - beta1) * g)\n",
    "    v_next_t = (beta2 * v_t) + ((1 - beta2) * (g ** 2))\n",
    "    m_next_t_hat = m_next_t / (1 - (beta1 ** t))\n",
    "    v_next_t_hat = v_next_t / (1 - (beta2 ** t))\n",
    "    next_theta = theta_t - ((alpha * m_next_t_hat) / (epsilon + v_next_t_hat ** 0.5))\n",
    "    return g, m_next_t, v_next_t, m_next_t_hat, v_next_t_hat, next_theta\n",
    "\n",
    "\n",
    "def run_adam_optimization(fx, max_iterations=30, x=2):\n",
    "    X = [x]\n",
    "    G = []\n",
    "    M = [0]\n",
    "    V = [0]\n",
    "    M_hat = []\n",
    "    V_hat = []\n",
    "\n",
    "    m = 0\n",
    "    v = 0\n",
    "    convergence_threshold = 1e-5\n",
    "    for t in tqdm(range(max_iterations)):\n",
    "        #compute\n",
    "        g, m, v, m_next_t_hat, v_next_t_hat, next_x = adam(t, x, m, v, fx)\n",
    "\n",
    "        #show steps\n",
    "        step = abs(next_x - x)\n",
    "        # print(\"+\" * 100)\n",
    "        # print(f\"x{t}: {x} -> x{t + 1}: {next_x} | Step: {step}\")\n",
    "        # print(\"=\" * 100)\n",
    "        x = next_x\n",
    "\n",
    "        #save results\n",
    "        X.append(x)\n",
    "        G.append(g)\n",
    "        M.append(m)\n",
    "        V.append(v)\n",
    "        M_hat.append(m_next_t_hat)\n",
    "        V_hat.append(v_next_t_hat)\n",
    "\n",
    "    return X, G, M, V, M_hat, V_hat\n",
    "\n",
    "relu_X, relu_G, relu_M, relu_V, relu_M_hat, relu_V_hat = run_adam_optimization(\"relu\")"
   ]
  },
  {
   "cell_type": "code",
   "execution_count": 13,
   "metadata": {
    "tags": []
   },
   "outputs": [
    {
     "data": {
      "text/plain": [
       "[1.0,\n",
       " 1.0000000000000142,\n",
       " 1.000000000000001,\n",
       " 1.0000000000000104,\n",
       " 1.0000000000000033,\n",
       " 1.0000000000000004,\n",
       " 1.0000000000000075,\n",
       " 0.8745618434223646,\n",
       " 0.7769989629648638,\n",
       " 0.698948775791258,\n",
       " 0.6350896382784526,\n",
       " 0.5818737880110546,\n",
       " 0.5368450817783748,\n",
       " 0.4982491315727593,\n",
       " 0.46479938618858624,\n",
       " 0.4355309322216247,\n",
       " 0.4097058947156843,\n",
       " 0.3867503709270387,\n",
       " 0.3662112797422215,\n",
       " 0.3477261562704408,\n",
       " 0.3310015765524705,\n",
       " 0.3157974664398453,\n",
       " 0.30191550380991333,\n",
       " 0.28919042022711317,\n",
       " 0.27748339020557217,\n",
       " 0.2666769460264618,\n",
       " 0.2566710225959553,\n",
       " 0.24737984983362493,\n",
       " 0.2387294880149524,\n",
       " 0.23065585604535102]"
      ]
     },
     "execution_count": 13,
     "metadata": {},
     "output_type": "execute_result"
    }
   ],
   "source": [
    "relu_V_hat"
   ]
  },
  {
   "cell_type": "code",
   "execution_count": null,
   "metadata": {
    "collapsed": false,
    "jupyter": {
     "outputs_hidden": false
    }
   },
   "outputs": [],
   "source": [
    "sigmoid_X, sigmoid_G, sigmoid_M, sigmoid_V, sigmoid_M_hat, sigmoid_V_hat = run_adam_optimization(sigmoid)\n"
   ]
  },
  {
   "cell_type": "code",
   "execution_count": null,
   "metadata": {
    "collapsed": false,
    "jupyter": {
     "outputs_hidden": false
    }
   },
   "outputs": [],
   "source": [
    "abs_X, abs_G, abs_M, abs_V, abs_M_hat, abs_V_hat = run_adam_optimization(abs)"
   ]
  }
 ],
 "metadata": {
  "kernelspec": {
   "display_name": "Python 3 (ipykernel)",
   "language": "python",
   "name": "python3"
  },
  "language_info": {
   "codemirror_mode": {
    "name": "ipython",
    "version": 3
   },
   "file_extension": ".py",
   "mimetype": "text/x-python",
   "name": "python",
   "nbconvert_exporter": "python",
   "pygments_lexer": "ipython3",
   "version": "3.10.9"
  }
 },
 "nbformat": 4,
 "nbformat_minor": 4
}
