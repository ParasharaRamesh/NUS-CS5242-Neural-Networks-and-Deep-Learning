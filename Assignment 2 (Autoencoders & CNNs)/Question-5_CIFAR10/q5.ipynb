{
 "cells": [
  {
   "cell_type": "markdown",
   "source": [
    "## Import statements"
   ],
   "metadata": {
    "collapsed": false
   }
  },
  {
   "cell_type": "code",
   "execution_count": 1,
   "outputs": [],
   "source": [
    "%load_ext autoreload\n",
    "%autoreload 2"
   ],
   "metadata": {
    "collapsed": false,
    "ExecuteTime": {
     "end_time": "2023-09-29T16:16:10.373932100Z",
     "start_time": "2023-09-29T16:16:10.324448800Z"
    }
   }
  },
  {
   "cell_type": "code",
   "execution_count": 12,
   "metadata": {
    "collapsed": true,
    "ExecuteTime": {
     "end_time": "2023-09-29T18:08:22.721751800Z",
     "start_time": "2023-09-29T18:08:22.643156600Z"
    }
   },
   "outputs": [],
   "source": [
    "import torch\n",
    "import torch.optim as optim\n",
    "from torch.utils.data import DataLoader, SubsetRandomSampler\n",
    "import torchvision\n",
    "from torchvision import transforms\n",
    "import os\n",
    "from datetime import datetime  # For generating timestamped folder names\n",
    "from model import *\n",
    "from data import *\n",
    "from utils import *\n",
    "from train import *\n",
    "from tqdm.auto import tqdm\n",
    "import os\n",
    "\n",
    "# Check if GPU is available, otherwise use CPU\n",
    "device = torch.device('cuda' if torch.cuda.is_available() else 'cpu')"
   ]
  },
  {
   "cell_type": "markdown",
   "source": [
    "## Hyperparameters & Dataset loading"
   ],
   "metadata": {
    "collapsed": false
   }
  },
  {
   "cell_type": "code",
   "execution_count": 3,
   "outputs": [],
   "source": [
    "params = {\n",
    "    'batch_size': 32,\n",
    "    'learning_rate': 0.0013,\n",
    "    'save_dir': 'model_ckpts'\n",
    "}"
   ],
   "metadata": {
    "collapsed": false,
    "ExecuteTime": {
     "end_time": "2023-09-29T16:16:14.618915400Z",
     "start_time": "2023-09-29T16:16:14.555668300Z"
    }
   }
  },
  {
   "cell_type": "code",
   "execution_count": 4,
   "outputs": [
    {
     "name": "stdout",
     "output_type": "stream",
     "text": [
      "Files already downloaded and verified\n",
      "Files already downloaded and verified\n",
      "Files already downloaded and verified\n",
      "Files already downloaded and verified\n",
      "Files already downloaded and verified\n",
      "Files already downloaded and verified\n"
     ]
    }
   ],
   "source": [
    "#Normal case\n",
    "train_data_loader = create_train_data_loader(params[\"batch_size\"])\n",
    "\n",
    "#num instances ranging from 1,10,100,1000\n",
    "train_data_num_1_loader = create_train_data_loader_with_num_instances(1, params[\"batch_size\"])\n",
    "train_data_num_10_loader = create_train_data_loader_with_num_instances(10, params[\"batch_size\"])\n",
    "train_data_num_100_loader = create_train_data_loader_with_num_instances(100, params[\"batch_size\"])\n",
    "train_data_num_1000_loader = create_train_data_loader_with_num_instances(1000, params[\"batch_size\"])\n",
    "\n",
    "#Testing and validation for all cases\n",
    "test_data_loader, validation_data_loader = create_test_and_validation_data_loader(params[\"batch_size\"])\n"
   ],
   "metadata": {
    "collapsed": false,
    "ExecuteTime": {
     "end_time": "2023-09-29T16:16:20.862039900Z",
     "start_time": "2023-09-29T16:16:14.618915400Z"
    }
   }
  },
  {
   "cell_type": "code",
   "execution_count": 5,
   "outputs": [],
   "source": [
    "def get_model_weight_path(experiment, epoch_num=None):\n",
    "    directory = os.path.join(params[\"save_dir\"], experiment)\n",
    "    if epoch_num == None:\n",
    "        # Get a list of all files in the directory\n",
    "        files = os.listdir(directory)\n",
    "\n",
    "        # Filter out only the files (exclude directories)\n",
    "        files = [f for f in files if os.path.isfile(os.path.join(directory, f))]\n",
    "\n",
    "        # Sort the files by their modification time in descending order (most recent first)\n",
    "        files.sort(key=lambda x: os.path.getmtime(os.path.join(directory, x)), reverse=True)\n",
    "\n",
    "        # Get the name of the most recently added file\n",
    "        model_file = files[0] if files else None\n",
    "    else:\n",
    "        model_file = f\"model_epoch_{epoch_num}.pt\"\n",
    "    return os.path.join(directory, experiment, model_file)\n"
   ],
   "metadata": {
    "collapsed": false,
    "ExecuteTime": {
     "end_time": "2023-09-29T16:16:20.941041200Z",
     "start_time": "2023-09-29T16:16:20.862039900Z"
    }
   }
  },
  {
   "cell_type": "markdown",
   "source": [
    "# <u>Experiment 1: Full dataset</u>"
   ],
   "metadata": {
    "collapsed": false
   }
  },
  {
   "cell_type": "markdown",
   "source": [
    "### 1.1 Train the model"
   ],
   "metadata": {
    "collapsed": false
   }
  },
  {
   "cell_type": "code",
   "execution_count": 6,
   "outputs": [
    {
     "data": {
      "text/plain": "CIFARClassifier(\n  (conv1): Conv2d(3, 32, kernel_size=(3, 3), stride=(1, 1), padding=(1, 1))\n  (bn1): BatchNorm2d(32, eps=1e-05, momentum=0.1, affine=True, track_running_stats=True)\n  (relu): ReLU()\n  (res_blocks): Sequential(\n    (0): ResidualBlock(\n      (conv1): Conv2d(32, 64, kernel_size=(3, 3), stride=(1, 1), padding=(1, 1))\n      (bn1): BatchNorm2d(64, eps=1e-05, momentum=0.1, affine=True, track_running_stats=True)\n      (relu): ReLU()\n      (conv2): Conv2d(64, 64, kernel_size=(3, 3), stride=(1, 1), padding=(1, 1))\n      (bn2): BatchNorm2d(64, eps=1e-05, momentum=0.1, affine=True, track_running_stats=True)\n      (downsample): Sequential(\n        (0): Conv2d(32, 64, kernel_size=(1, 1), stride=(1, 1))\n        (1): BatchNorm2d(64, eps=1e-05, momentum=0.1, affine=True, track_running_stats=True)\n      )\n    )\n    (1): ResidualBlock(\n      (conv1): Conv2d(64, 128, kernel_size=(3, 3), stride=(1, 1), padding=(1, 1))\n      (bn1): BatchNorm2d(128, eps=1e-05, momentum=0.1, affine=True, track_running_stats=True)\n      (relu): ReLU()\n      (conv2): Conv2d(128, 128, kernel_size=(3, 3), stride=(1, 1), padding=(1, 1))\n      (bn2): BatchNorm2d(128, eps=1e-05, momentum=0.1, affine=True, track_running_stats=True)\n      (downsample): Sequential(\n        (0): Conv2d(64, 128, kernel_size=(1, 1), stride=(1, 1))\n        (1): BatchNorm2d(128, eps=1e-05, momentum=0.1, affine=True, track_running_stats=True)\n      )\n    )\n    (2): ResidualBlock(\n      (conv1): Conv2d(128, 256, kernel_size=(3, 3), stride=(1, 1), padding=(1, 1))\n      (bn1): BatchNorm2d(256, eps=1e-05, momentum=0.1, affine=True, track_running_stats=True)\n      (relu): ReLU()\n      (conv2): Conv2d(256, 256, kernel_size=(3, 3), stride=(1, 1), padding=(1, 1))\n      (bn2): BatchNorm2d(256, eps=1e-05, momentum=0.1, affine=True, track_running_stats=True)\n      (downsample): Sequential(\n        (0): Conv2d(128, 256, kernel_size=(1, 1), stride=(1, 1))\n        (1): BatchNorm2d(256, eps=1e-05, momentum=0.1, affine=True, track_running_stats=True)\n      )\n    )\n    (3): ResidualBlock(\n      (conv1): Conv2d(256, 512, kernel_size=(3, 3), stride=(1, 1), padding=(1, 1))\n      (bn1): BatchNorm2d(512, eps=1e-05, momentum=0.1, affine=True, track_running_stats=True)\n      (relu): ReLU()\n      (conv2): Conv2d(512, 512, kernel_size=(3, 3), stride=(1, 1), padding=(1, 1))\n      (bn2): BatchNorm2d(512, eps=1e-05, momentum=0.1, affine=True, track_running_stats=True)\n      (downsample): Sequential(\n        (0): Conv2d(256, 512, kernel_size=(1, 1), stride=(1, 1))\n        (1): BatchNorm2d(512, eps=1e-05, momentum=0.1, affine=True, track_running_stats=True)\n      )\n    )\n    (4): ResidualBlock(\n      (conv1): Conv2d(512, 512, kernel_size=(3, 3), stride=(1, 1), padding=(1, 1))\n      (bn1): BatchNorm2d(512, eps=1e-05, momentum=0.1, affine=True, track_running_stats=True)\n      (relu): ReLU()\n      (conv2): Conv2d(512, 512, kernel_size=(3, 3), stride=(1, 1), padding=(1, 1))\n      (bn2): BatchNorm2d(512, eps=1e-05, momentum=0.1, affine=True, track_running_stats=True)\n      (downsample): Sequential()\n    )\n  )\n  (avg_pool): AdaptiveAvgPool2d(output_size=1)\n  (classifier): Sequential(\n    (0): Linear(in_features=512, out_features=512, bias=True)\n    (1): BatchNorm1d(512, eps=1e-05, momentum=0.1, affine=True, track_running_stats=True)\n    (2): ReLU()\n    (3): Dropout(p=0.15, inplace=False)\n    (4): Linear(in_features=512, out_features=10, bias=True)\n  )\n  (softmax): Softmax(dim=1)\n)"
     },
     "execution_count": 6,
     "metadata": {},
     "output_type": "execute_result"
    }
   ],
   "source": [
    "full_experiment = \"full\"\n",
    "full_cifar_model = CIFARClassifier()\n",
    "full_cifar_model.to(device)"
   ],
   "metadata": {
    "collapsed": false,
    "ExecuteTime": {
     "end_time": "2023-09-29T16:16:21.162148600Z",
     "start_time": "2023-09-29T16:16:20.941041200Z"
    }
   }
  },
  {
   "cell_type": "code",
   "execution_count": 7,
   "outputs": [
    {
     "data": {
      "text/plain": "Total Epochs: 0.0% |          | 0/30 [00:00<?, ?it/s]",
      "application/vnd.jupyter.widget-view+json": {
       "version_major": 2,
       "version_minor": 0,
       "model_id": "317b643022174c7ab499ffc11475a600"
      }
     },
     "metadata": {},
     "output_type": "display_data"
    },
    {
     "data": {
      "text/plain": "Epoch 1/30:   0%|          | 0/1563 [00:00<?, ?it/s]",
      "application/vnd.jupyter.widget-view+json": {
       "version_major": 2,
       "version_minor": 0,
       "model_id": "d765a5377d394227a040c2bf809529af"
      }
     },
     "metadata": {},
     "output_type": "display_data"
    },
    {
     "name": "stdout",
     "output_type": "stream",
     "text": [
      "Epoch 1: train_loss: 2.1865932632545135 | train_accuracy: 0.25868 | val_loss: 2.103141500836327 | val_accuracy: 0.3475 \n"
     ]
    },
    {
     "data": {
      "text/plain": "Epoch 2/30:   0%|          | 0/1563 [00:00<?, ?it/s]",
      "application/vnd.jupyter.widget-view+json": {
       "version_major": 2,
       "version_minor": 0,
       "model_id": "6a05d13635dd4bab805798c08189cbc4"
      }
     },
     "metadata": {},
     "output_type": "display_data"
    },
    {
     "name": "stdout",
     "output_type": "stream",
     "text": [
      "Epoch 2: train_loss: 2.1070121031728832 | train_accuracy: 0.345 | val_loss: 2.0686236468572465 | val_accuracy: 0.381 \n"
     ]
    },
    {
     "data": {
      "text/plain": "Epoch 3/30:   0%|          | 0/1563 [00:00<?, ?it/s]",
      "application/vnd.jupyter.widget-view+json": {
       "version_major": 2,
       "version_minor": 0,
       "model_id": "231d1da5ad0e4a73854fe23e45d5d17e"
      }
     },
     "metadata": {},
     "output_type": "display_data"
    },
    {
     "name": "stdout",
     "output_type": "stream",
     "text": [
      "Epoch 3: train_loss: 2.0567890407180296 | train_accuracy: 0.39684 | val_loss: 2.00625403154464 | val_accuracy: 0.451 \n"
     ]
    },
    {
     "data": {
      "text/plain": "Epoch 4/30:   0%|          | 0/1563 [00:00<?, ?it/s]",
      "application/vnd.jupyter.widget-view+json": {
       "version_major": 2,
       "version_minor": 0,
       "model_id": "63659a13ed954e05a764e634c89c850d"
      }
     },
     "metadata": {},
     "output_type": "display_data"
    },
    {
     "name": "stdout",
     "output_type": "stream",
     "text": [
      "Epoch 4: train_loss: 2.021863561216563 | train_accuracy: 0.4339 | val_loss: 1.9833501709832086 | val_accuracy: 0.4745 \n"
     ]
    },
    {
     "data": {
      "text/plain": "Epoch 5/30:   0%|          | 0/1563 [00:00<?, ?it/s]",
      "application/vnd.jupyter.widget-view+json": {
       "version_major": 2,
       "version_minor": 0,
       "model_id": "5845f523d7ad471e8f4961b1fbc7b0c9"
      }
     },
     "metadata": {},
     "output_type": "display_data"
    },
    {
     "name": "stdout",
     "output_type": "stream",
     "text": [
      "Epoch 5: train_loss: 1.9872107596559092 | train_accuracy: 0.46888 | val_loss: 1.9449262562252225 | val_accuracy: 0.5095 \n",
      "Going to save model @ Epoch:5\n",
      "Save checkpointed the model at the path model_ckpts\\full\\model_epoch_5.pt\n"
     ]
    },
    {
     "data": {
      "text/plain": "Epoch 6/30:   0%|          | 0/1563 [00:00<?, ?it/s]",
      "application/vnd.jupyter.widget-view+json": {
       "version_major": 2,
       "version_minor": 0,
       "model_id": "11943a74c0454847bd03588938d90a54"
      }
     },
     "metadata": {},
     "output_type": "display_data"
    },
    {
     "name": "stdout",
     "output_type": "stream",
     "text": [
      "Epoch 6: train_loss: 1.9656726671043148 | train_accuracy: 0.49132 | val_loss: 1.9320480634295751 | val_accuracy: 0.5215 \n"
     ]
    },
    {
     "data": {
      "text/plain": "Epoch 7/30:   0%|          | 0/1563 [00:00<?, ?it/s]",
      "application/vnd.jupyter.widget-view+json": {
       "version_major": 2,
       "version_minor": 0,
       "model_id": "f4776ce1a7784c1ea052e2518a3dc585"
      }
     },
     "metadata": {},
     "output_type": "display_data"
    },
    {
     "name": "stdout",
     "output_type": "stream",
     "text": [
      "Epoch 7: train_loss: 1.946186634263242 | train_accuracy: 0.51106 | val_loss: 1.9078653956216478 | val_accuracy: 0.546 \n"
     ]
    },
    {
     "data": {
      "text/plain": "Epoch 8/30:   0%|          | 0/1563 [00:00<?, ?it/s]",
      "application/vnd.jupyter.widget-view+json": {
       "version_major": 2,
       "version_minor": 0,
       "model_id": "40416885e3ba4a318a982c74abcddfb4"
      }
     },
     "metadata": {},
     "output_type": "display_data"
    },
    {
     "name": "stdout",
     "output_type": "stream",
     "text": [
      "Epoch 8: train_loss: 1.928026316719641 | train_accuracy: 0.52958 | val_loss: 1.9062264192672003 | val_accuracy: 0.5535 \n"
     ]
    },
    {
     "data": {
      "text/plain": "Epoch 9/30:   0%|          | 0/1563 [00:00<?, ?it/s]",
      "application/vnd.jupyter.widget-view+json": {
       "version_major": 2,
       "version_minor": 0,
       "model_id": "cada601e24ec49e49175b764a82fd653"
      }
     },
     "metadata": {},
     "output_type": "display_data"
    },
    {
     "name": "stdout",
     "output_type": "stream",
     "text": [
      "Epoch 9: train_loss: 1.914676120856292 | train_accuracy: 0.54444 | val_loss: 1.8622071440257724 | val_accuracy: 0.5975 \n"
     ]
    },
    {
     "data": {
      "text/plain": "Epoch 10/30:   0%|          | 0/1563 [00:00<?, ?it/s]",
      "application/vnd.jupyter.widget-view+json": {
       "version_major": 2,
       "version_minor": 0,
       "model_id": "a9caa76cc91a438f8cf4e669af8b90e0"
      }
     },
     "metadata": {},
     "output_type": "display_data"
    },
    {
     "name": "stdout",
     "output_type": "stream",
     "text": [
      "Epoch 10: train_loss: 1.8992222684816298 | train_accuracy: 0.5585 | val_loss: 1.874450511402554 | val_accuracy: 0.5835 \n",
      "Going to save model @ Epoch:10\n",
      "Save checkpointed the model at the path model_ckpts\\full\\model_epoch_10.pt\n"
     ]
    },
    {
     "data": {
      "text/plain": "Epoch 11/30:   0%|          | 0/1563 [00:00<?, ?it/s]",
      "application/vnd.jupyter.widget-view+json": {
       "version_major": 2,
       "version_minor": 0,
       "model_id": "5fce64a30efa4c2ebabe32bda25ee4a8"
      }
     },
     "metadata": {},
     "output_type": "display_data"
    },
    {
     "name": "stdout",
     "output_type": "stream",
     "text": [
      "Epoch 11: train_loss: 1.8887129991541134 | train_accuracy: 0.5686 | val_loss: 1.8428114425568354 | val_accuracy: 0.615 \n"
     ]
    },
    {
     "data": {
      "text/plain": "Epoch 12/30:   0%|          | 0/1563 [00:00<?, ?it/s]",
      "application/vnd.jupyter.widget-view+json": {
       "version_major": 2,
       "version_minor": 0,
       "model_id": "c77d77136e1749989ea4762b74f9973b"
      }
     },
     "metadata": {},
     "output_type": "display_data"
    },
    {
     "name": "stdout",
     "output_type": "stream",
     "text": [
      "Epoch 12: train_loss: 1.8788240441739064 | train_accuracy: 0.5789 | val_loss: 1.8560091767992293 | val_accuracy: 0.6015 \n"
     ]
    },
    {
     "data": {
      "text/plain": "Epoch 13/30:   0%|          | 0/1563 [00:00<?, ?it/s]",
      "application/vnd.jupyter.widget-view+json": {
       "version_major": 2,
       "version_minor": 0,
       "model_id": "f9a02d347db64aae8d85717b4fb74395"
      }
     },
     "metadata": {},
     "output_type": "display_data"
    },
    {
     "name": "stdout",
     "output_type": "stream",
     "text": [
      "Epoch 13: train_loss: 1.8688233247263952 | train_accuracy: 0.58892 | val_loss: 1.830087211396959 | val_accuracy: 0.6295 \n"
     ]
    },
    {
     "data": {
      "text/plain": "Epoch 14/30:   0%|          | 0/1563 [00:00<?, ?it/s]",
      "application/vnd.jupyter.widget-view+json": {
       "version_major": 2,
       "version_minor": 0,
       "model_id": "d36bbcc168f84b74b73905cb1315ac0b"
      }
     },
     "metadata": {},
     "output_type": "display_data"
    },
    {
     "name": "stdout",
     "output_type": "stream",
     "text": [
      "Epoch 14: train_loss: 1.859042114732514 | train_accuracy: 0.59926 | val_loss: 1.8455182635594929 | val_accuracy: 0.6155 \n"
     ]
    },
    {
     "data": {
      "text/plain": "Epoch 15/30:   0%|          | 0/1563 [00:00<?, ?it/s]",
      "application/vnd.jupyter.widget-view+json": {
       "version_major": 2,
       "version_minor": 0,
       "model_id": "91b4db57ea164c42a85e7ab3198106c3"
      }
     },
     "metadata": {},
     "output_type": "display_data"
    },
    {
     "name": "stdout",
     "output_type": "stream",
     "text": [
      "Epoch 15: train_loss: 1.851709163577909 | train_accuracy: 0.60656 | val_loss: 1.8111079268985324 | val_accuracy: 0.649 \n",
      "Going to save model @ Epoch:15\n",
      "Save checkpointed the model at the path model_ckpts\\full\\model_epoch_15.pt\n"
     ]
    },
    {
     "data": {
      "text/plain": "Epoch 16/30:   0%|          | 0/1563 [00:00<?, ?it/s]",
      "application/vnd.jupyter.widget-view+json": {
       "version_major": 2,
       "version_minor": 0,
       "model_id": "38ef2552749141bf8c48899347f2cdf7"
      }
     },
     "metadata": {},
     "output_type": "display_data"
    },
    {
     "name": "stdout",
     "output_type": "stream",
     "text": [
      "Epoch 16: train_loss: 1.844451367054242 | train_accuracy: 0.61354 | val_loss: 1.7984361440416365 | val_accuracy: 0.659 \n"
     ]
    },
    {
     "data": {
      "text/plain": "Epoch 17/30:   0%|          | 0/1563 [00:00<?, ?it/s]",
      "application/vnd.jupyter.widget-view+json": {
       "version_major": 2,
       "version_minor": 0,
       "model_id": "07bbf5bb07474878b494befa1cb89943"
      }
     },
     "metadata": {},
     "output_type": "display_data"
    },
    {
     "name": "stdout",
     "output_type": "stream",
     "text": [
      "Epoch 17: train_loss: 1.8389263349088887 | train_accuracy: 0.61924 | val_loss: 1.7818849124605693 | val_accuracy: 0.6755 \n"
     ]
    },
    {
     "data": {
      "text/plain": "Epoch 18/30:   0%|          | 0/1563 [00:00<?, ?it/s]",
      "application/vnd.jupyter.widget-view+json": {
       "version_major": 2,
       "version_minor": 0,
       "model_id": "1b4634fb7ecd4f3ab845f3e293916663"
      }
     },
     "metadata": {},
     "output_type": "display_data"
    },
    {
     "name": "stdout",
     "output_type": "stream",
     "text": [
      "Epoch 18: train_loss: 1.8337951770442003 | train_accuracy: 0.62486 | val_loss: 1.7803443443207514 | val_accuracy: 0.677 \n"
     ]
    },
    {
     "data": {
      "text/plain": "Epoch 19/30:   0%|          | 0/1563 [00:00<?, ?it/s]",
      "application/vnd.jupyter.widget-view+json": {
       "version_major": 2,
       "version_minor": 0,
       "model_id": "769e2e39b68b4598ba91985b0bb269fe"
      }
     },
     "metadata": {},
     "output_type": "display_data"
    },
    {
     "name": "stdout",
     "output_type": "stream",
     "text": [
      "Epoch 19: train_loss: 1.8263306803834491 | train_accuracy: 0.63218 | val_loss: 1.77690205119905 | val_accuracy: 0.6785 \n"
     ]
    },
    {
     "data": {
      "text/plain": "Epoch 20/30:   0%|          | 0/1563 [00:00<?, ?it/s]",
      "application/vnd.jupyter.widget-view+json": {
       "version_major": 2,
       "version_minor": 0,
       "model_id": "2e1c2b34986c4d57a44a2a99b589de0e"
      }
     },
     "metadata": {},
     "output_type": "display_data"
    },
    {
     "name": "stdout",
     "output_type": "stream",
     "text": [
      "Epoch 20: train_loss: 1.820892701832362 | train_accuracy: 0.63802 | val_loss: 1.7713427600406466 | val_accuracy: 0.686 \n",
      "Going to save model @ Epoch:20\n",
      "Save checkpointed the model at the path model_ckpts\\full\\model_epoch_20.pt\n"
     ]
    },
    {
     "data": {
      "text/plain": "Epoch 21/30:   0%|          | 0/1563 [00:00<?, ?it/s]",
      "application/vnd.jupyter.widget-view+json": {
       "version_major": 2,
       "version_minor": 0,
       "model_id": "f38144950efd45d1a80658427d4499ec"
      }
     },
     "metadata": {},
     "output_type": "display_data"
    },
    {
     "name": "stdout",
     "output_type": "stream",
     "text": [
      "Epoch 21: train_loss: 1.8137353413850927 | train_accuracy: 0.64488 | val_loss: 1.7861403264696636 | val_accuracy: 0.6715 \n"
     ]
    },
    {
     "data": {
      "text/plain": "Epoch 22/30:   0%|          | 0/1563 [00:00<?, ?it/s]",
      "application/vnd.jupyter.widget-view+json": {
       "version_major": 2,
       "version_minor": 0,
       "model_id": "018a1f33b1174be09b2c45980efc2945"
      }
     },
     "metadata": {},
     "output_type": "display_data"
    },
    {
     "name": "stdout",
     "output_type": "stream",
     "text": [
      "Epoch 22: train_loss: 1.8088956725040615 | train_accuracy: 0.64944 | val_loss: 1.7709117068184748 | val_accuracy: 0.691 \n"
     ]
    },
    {
     "data": {
      "text/plain": "Epoch 23/30:   0%|          | 0/1563 [00:00<?, ?it/s]",
      "application/vnd.jupyter.widget-view+json": {
       "version_major": 2,
       "version_minor": 0,
       "model_id": "b62bf7f6a7284b7b9db4821e19489ada"
      }
     },
     "metadata": {},
     "output_type": "display_data"
    },
    {
     "name": "stdout",
     "output_type": "stream",
     "text": [
      "Epoch 23: train_loss: 1.8051102385639917 | train_accuracy: 0.65382 | val_loss: 1.781320335373046 | val_accuracy: 0.68 \n"
     ]
    },
    {
     "data": {
      "text/plain": "Epoch 24/30:   0%|          | 0/1563 [00:00<?, ?it/s]",
      "application/vnd.jupyter.widget-view+json": {
       "version_major": 2,
       "version_minor": 0,
       "model_id": "527bfa4556924a5ab358bd8817803564"
      }
     },
     "metadata": {},
     "output_type": "display_data"
    },
    {
     "name": "stdout",
     "output_type": "stream",
     "text": [
      "Epoch 24: train_loss: 1.79964514924255 | train_accuracy: 0.6585 | val_loss: 1.753385343248882 | val_accuracy: 0.7075 \n"
     ]
    },
    {
     "data": {
      "text/plain": "Epoch 25/30:   0%|          | 0/1563 [00:00<?, ?it/s]",
      "application/vnd.jupyter.widget-view+json": {
       "version_major": 2,
       "version_minor": 0,
       "model_id": "4dfbcb67034b42c0b283878510f190d6"
      }
     },
     "metadata": {},
     "output_type": "display_data"
    },
    {
     "name": "stdout",
     "output_type": "stream",
     "text": [
      "Epoch 25: train_loss: 1.794149064209243 | train_accuracy: 0.66502 | val_loss: 1.7483258247375488 | val_accuracy: 0.7125 \n",
      "Going to save model @ Epoch:25\n",
      "Save checkpointed the model at the path model_ckpts\\full\\model_epoch_25.pt\n"
     ]
    },
    {
     "data": {
      "text/plain": "Epoch 26/30:   0%|          | 0/1563 [00:00<?, ?it/s]",
      "application/vnd.jupyter.widget-view+json": {
       "version_major": 2,
       "version_minor": 0,
       "model_id": "16974b4ca8fe4af7a0aeff988cf383c2"
      }
     },
     "metadata": {},
     "output_type": "display_data"
    },
    {
     "name": "stdout",
     "output_type": "stream",
     "text": [
      "Epoch 26: train_loss: 1.7901390537724462 | train_accuracy: 0.6688 | val_loss: 1.7652715198577396 | val_accuracy: 0.6955 \n"
     ]
    },
    {
     "data": {
      "text/plain": "Epoch 27/30:   0%|          | 0/1563 [00:00<?, ?it/s]",
      "application/vnd.jupyter.widget-view+json": {
       "version_major": 2,
       "version_minor": 0,
       "model_id": "7c8172d3681b4fac864787463d232971"
      }
     },
     "metadata": {},
     "output_type": "display_data"
    },
    {
     "name": "stdout",
     "output_type": "stream",
     "text": [
      "Epoch 27: train_loss: 1.7855299650211787 | train_accuracy: 0.67408 | val_loss: 1.7450528258369082 | val_accuracy: 0.713 \n"
     ]
    },
    {
     "data": {
      "text/plain": "Epoch 28/30:   0%|          | 0/1563 [00:00<?, ?it/s]",
      "application/vnd.jupyter.widget-view+json": {
       "version_major": 2,
       "version_minor": 0,
       "model_id": "5bbd6ac4d11044069367c73eaa65efb1"
      }
     },
     "metadata": {},
     "output_type": "display_data"
    },
    {
     "name": "stdout",
     "output_type": "stream",
     "text": [
      "Epoch 28: train_loss: 1.7791839440663655 | train_accuracy: 0.67954 | val_loss: 1.7518611635480608 | val_accuracy: 0.706 \n"
     ]
    },
    {
     "data": {
      "text/plain": "Epoch 29/30:   0%|          | 0/1563 [00:00<?, ?it/s]",
      "application/vnd.jupyter.widget-view+json": {
       "version_major": 2,
       "version_minor": 0,
       "model_id": "990a6cc442734a55a36f43e960f8e8d6"
      }
     },
     "metadata": {},
     "output_type": "display_data"
    },
    {
     "name": "stdout",
     "output_type": "stream",
     "text": [
      "Epoch 29: train_loss: 1.778225813320792 | train_accuracy: 0.68084 | val_loss: 1.740862700674269 | val_accuracy: 0.7185 \n"
     ]
    },
    {
     "data": {
      "text/plain": "Epoch 30/30:   0%|          | 0/1563 [00:00<?, ?it/s]",
      "application/vnd.jupyter.widget-view+json": {
       "version_major": 2,
       "version_minor": 0,
       "model_id": "025632cae4e34c4f81d674d2332de599"
      }
     },
     "metadata": {},
     "output_type": "display_data"
    },
    {
     "name": "stdout",
     "output_type": "stream",
     "text": [
      "Epoch 30: train_loss: 1.7734543516783858 | train_accuracy: 0.68556 | val_loss: 1.751191841231452 | val_accuracy: 0.708 \n",
      "Going to save model @ Epoch:30\n",
      "Save checkpointed the model at the path model_ckpts\\full\\model_epoch_30.pt\n"
     ]
    }
   ],
   "source": [
    "# checkpoint = get_model_weight_path(full_experiment)\n",
    "full_epoch_numbers, full_training_losses, full_training_accuracy, full_validation_losses, full_validation_accuracy = train_model(\n",
    "    full_cifar_model,\n",
    "    train_data_loader,\n",
    "    validation_data_loader,\n",
    "    30,\n",
    "    params,\n",
    "    full_experiment,\n",
    "    epoch_saver_count=5,\n",
    "    resume_checkpoint=None\n",
    ")"
   ],
   "metadata": {
    "collapsed": false,
    "ExecuteTime": {
     "end_time": "2023-09-29T18:05:29.420334200Z",
     "start_time": "2023-09-29T16:16:29.624756600Z"
    }
   }
  },
  {
   "cell_type": "markdown",
   "source": [
    "### 1.2 Test the model"
   ],
   "metadata": {
    "collapsed": false
   }
  },
  {
   "cell_type": "code",
   "execution_count": 13,
   "outputs": [
    {
     "name": "stdout",
     "output_type": "stream",
     "text": [
      "Test loss: 1.7260771822929382 | Test accuracy: 0.733375\n"
     ]
    }
   ],
   "source": [
    "full_cifar_test_accuracy, full_cifar_test_loss = perform_test(nn.CrossEntropyLoss(), device, full_cifar_model, test_data_loader)\n",
    "print(f\"Test loss: {full_cifar_test_loss} | Test accuracy: {full_cifar_test_accuracy}\")"
   ],
   "metadata": {
    "collapsed": false,
    "ExecuteTime": {
     "end_time": "2023-09-29T18:09:07.620158200Z",
     "start_time": "2023-09-29T18:08:32.025514300Z"
    }
   }
  },
  {
   "cell_type": "code",
   "execution_count": 14,
   "outputs": [
    {
     "name": "stderr",
     "output_type": "stream",
     "text": [
      "Clipping input data to the valid range for imshow with RGB data ([0..1] for floats or [0..255] for integers).\n",
      "Clipping input data to the valid range for imshow with RGB data ([0..1] for floats or [0..255] for integers).\n",
      "Clipping input data to the valid range for imshow with RGB data ([0..1] for floats or [0..255] for integers).\n",
      "Clipping input data to the valid range for imshow with RGB data ([0..1] for floats or [0..255] for integers).\n",
      "Clipping input data to the valid range for imshow with RGB data ([0..1] for floats or [0..255] for integers).\n"
     ]
    },
    {
     "data": {
      "text/plain": "<Figure size 1500x1500 with 5 Axes>",
      "image/png": "[encoded data removed]"
     },
     "metadata": {},
     "output_type": "display_data"
    }
   ],
   "source": [
    "show_predictions(full_cifar_model, test_data_loader)"
   ],
   "metadata": {
    "collapsed": false,
    "ExecuteTime": {
     "end_time": "2023-09-29T18:09:08.052825500Z",
     "start_time": "2023-09-29T18:09:07.626175400Z"
    }
   }
  },
  {
   "cell_type": "markdown",
   "source": [
    "### 1.3 Plot graphs"
   ],
   "metadata": {
    "collapsed": false
   }
  },
  {
   "cell_type": "code",
   "execution_count": 15,
   "outputs": [
    {
     "data": {
      "text/plain": "<Figure size 1600x1000 with 4 Axes>",
      "image/png": "[encoded data removed]"
     },
     "metadata": {},
     "output_type": "display_data"
    }
   ],
   "source": [
    "plot_model_training_stats(full_experiment, full_epoch_numbers, full_training_losses, full_validation_losses, full_training_accuracy, full_validation_accuracy)"
   ],
   "metadata": {
    "collapsed": false,
    "ExecuteTime": {
     "end_time": "2023-09-29T18:09:21.993275400Z",
     "start_time": "2023-09-29T18:09:21.034801300Z"
    }
   }
  },
  {
   "cell_type": "markdown",
   "source": [
    "# <u>Experiment 2: 1 instance per class dataset</u>"
   ],
   "metadata": {
    "collapsed": false
   }
  },
  {
   "cell_type": "markdown",
   "source": [
    "### 1.1 Train the model"
   ],
   "metadata": {
    "collapsed": false
   }
  },
  {
   "cell_type": "code",
   "execution_count": null,
   "outputs": [],
   "source": [],
   "metadata": {
    "collapsed": false
   }
  },
  {
   "cell_type": "markdown",
   "source": [
    "### 1.2 Test the model"
   ],
   "metadata": {
    "collapsed": false
   }
  },
  {
   "cell_type": "code",
   "execution_count": null,
   "outputs": [],
   "source": [],
   "metadata": {
    "collapsed": false
   }
  },
  {
   "cell_type": "markdown",
   "source": [
    "### 1.3 Plot graphs"
   ],
   "metadata": {
    "collapsed": false
   }
  },
  {
   "cell_type": "code",
   "execution_count": null,
   "outputs": [],
   "source": [],
   "metadata": {
    "collapsed": false
   }
  },
  {
   "cell_type": "markdown",
   "source": [],
   "metadata": {
    "collapsed": false
   }
  },
  {
   "cell_type": "markdown",
   "source": [
    "# <u>Experiment 3: 10 instance per class dataset</u>"
   ],
   "metadata": {
    "collapsed": false
   }
  },
  {
   "cell_type": "markdown",
   "source": [
    "### 1.1 Train the model"
   ],
   "metadata": {
    "collapsed": false
   }
  },
  {
   "cell_type": "code",
   "execution_count": null,
   "outputs": [],
   "source": [],
   "metadata": {
    "collapsed": false
   }
  },
  {
   "cell_type": "markdown",
   "source": [
    "### 1.2 Test the model\n"
   ],
   "metadata": {
    "collapsed": false
   }
  },
  {
   "cell_type": "code",
   "execution_count": null,
   "outputs": [],
   "source": [],
   "metadata": {
    "collapsed": false
   }
  },
  {
   "cell_type": "markdown",
   "source": [
    "### 1.3 Plot graphs"
   ],
   "metadata": {
    "collapsed": false
   }
  },
  {
   "cell_type": "code",
   "execution_count": null,
   "outputs": [],
   "source": [],
   "metadata": {
    "collapsed": false
   }
  },
  {
   "cell_type": "markdown",
   "source": [
    "# <u>Experiment 4: 100 instance per class dataset</u>"
   ],
   "metadata": {
    "collapsed": false
   }
  },
  {
   "cell_type": "markdown",
   "source": [
    "### 1.1 Train the model"
   ],
   "metadata": {
    "collapsed": false
   }
  },
  {
   "cell_type": "code",
   "execution_count": null,
   "outputs": [],
   "source": [],
   "metadata": {
    "collapsed": false
   }
  },
  {
   "cell_type": "markdown",
   "source": [
    "### 1.2 Test the model"
   ],
   "metadata": {
    "collapsed": false
   }
  },
  {
   "cell_type": "code",
   "execution_count": null,
   "outputs": [],
   "source": [],
   "metadata": {
    "collapsed": false
   }
  },
  {
   "cell_type": "markdown",
   "source": [
    "### 1.3 Plot graphs"
   ],
   "metadata": {
    "collapsed": false
   }
  },
  {
   "cell_type": "code",
   "execution_count": null,
   "outputs": [],
   "source": [],
   "metadata": {
    "collapsed": false
   }
  },
  {
   "cell_type": "markdown",
   "source": [
    "# <u>Experiment 5: 1000 instance per class dataset</u>"
   ],
   "metadata": {
    "collapsed": false
   }
  },
  {
   "cell_type": "markdown",
   "source": [
    "### 1.1 Train the model"
   ],
   "metadata": {
    "collapsed": false
   }
  },
  {
   "cell_type": "code",
   "execution_count": null,
   "outputs": [],
   "source": [],
   "metadata": {
    "collapsed": false
   }
  },
  {
   "cell_type": "markdown",
   "source": [
    "### 1.2 Test the model"
   ],
   "metadata": {
    "collapsed": false
   }
  },
  {
   "cell_type": "code",
   "execution_count": null,
   "outputs": [],
   "source": [],
   "metadata": {
    "collapsed": false
   }
  },
  {
   "cell_type": "markdown",
   "source": [
    "### 1.3 Plot graphs"
   ],
   "metadata": {
    "collapsed": false
   }
  },
  {
   "cell_type": "code",
   "execution_count": null,
   "outputs": [],
   "source": [],
   "metadata": {
    "collapsed": false
   }
  },
  {
   "cell_type": "markdown",
   "source": [
    "# <u> INTERPRETATION </u>"
   ],
   "metadata": {
    "collapsed": false
   }
  },
  {
   "cell_type": "markdown",
   "source": [],
   "metadata": {
    "collapsed": false
   }
  }
 ],
 "metadata": {
  "kernelspec": {
   "display_name": "Python 3",
   "language": "python",
   "name": "python3"
  },
  "language_info": {
   "codemirror_mode": {
    "name": "ipython",
    "version": 2
   },
   "file_extension": ".py",
   "mimetype": "text/x-python",
   "name": "python",
   "nbconvert_exporter": "python",
   "pygments_lexer": "ipython2",
   "version": "2.7.6"
  }
 },
 "nbformat": 4,
 "nbformat_minor": 0
}
