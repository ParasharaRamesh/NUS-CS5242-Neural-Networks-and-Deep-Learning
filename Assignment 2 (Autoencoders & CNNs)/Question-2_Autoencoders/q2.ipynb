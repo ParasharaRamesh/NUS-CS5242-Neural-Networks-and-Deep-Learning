{
 "cells": [
  {
   "cell_type": "code",
   "execution_count": 5,
   "metadata": {
    "collapsed": true,
    "ExecuteTime": {
     "end_time": "2023-09-28T00:45:59.215999700Z",
     "start_time": "2023-09-28T00:45:59.206211100Z"
    }
   },
   "outputs": [],
   "source": [
    "import torch\n",
    "import torch.optim as optim\n",
    "from torch.utils.data import DataLoader, SubsetRandomSampler\n",
    "import torchvision\n",
    "from torchvision import transforms\n",
    "import os\n",
    "from CNN_autoencoder_model import *\n",
    "from fully_connected_autoencoder_model import *"
   ]
  },
  {
   "cell_type": "code",
   "execution_count": 8,
   "outputs": [],
   "source": [
    "# Define parameters in a dictionary\n",
    "params = {\n",
    "    'num_epochs': 2,\n",
    "    'batch_size': 32,\n",
    "    'learning_rate': 0.001,\n",
    "    'lambda_value': [2,32],\n",
    "    'save_dir': 'saved_models',\n",
    "    'loss_criterion': nn.L1Loss(),\n",
    "    'training_split': 0.1\n",
    "}\n",
    "\n",
    "# Check if GPU is available, otherwise use CPU\n",
    "device = torch.device('cuda' if torch.cuda.is_available() else 'cpu')"
   ],
   "metadata": {
    "collapsed": false,
    "ExecuteTime": {
     "end_time": "2023-09-28T00:50:21.996186100Z",
     "start_time": "2023-09-28T00:50:21.978847700Z"
    }
   }
  },
  {
   "cell_type": "code",
   "execution_count": 9,
   "outputs": [],
   "source": [
    "# Load MNIST dataset and apply transformations\n",
    "def load_mnist_data():\n",
    "    #normalize to 0->1\n",
    "    transform = transforms.Compose([transforms.ToTensor()])\n",
    "    mnist_dataset = torchvision.datasets.MNIST(root='./data', train=True, transform=transform, download=True)\n",
    "    return mnist_dataset\n",
    "\n",
    "# Create data loader for training data\n",
    "def create_data_loaders(dataset):\n",
    "    train_loader = DataLoader(dataset, batch_size=params['batch_size'], shuffle=True)\n",
    "    num_samples = len(dataset)\n",
    "    test_sampler = SubsetRandomSampler(range(int(0.1 * num_samples), num_samples))\n",
    "    test_loader = DataLoader(dataset, batch_size=params['batch_size'], sampler=test_sampler)\n",
    "    return train_loader, test_loader\n"
   ],
   "metadata": {
    "collapsed": false,
    "ExecuteTime": {
     "end_time": "2023-09-28T00:50:40.951812500Z",
     "start_time": "2023-09-28T00:50:40.938290200Z"
    }
   }
  },
  {
   "cell_type": "code",
   "execution_count": null,
   "outputs": [],
   "source": [],
   "metadata": {
    "collapsed": false
   }
  }
 ],
 "metadata": {
  "kernelspec": {
   "display_name": "Python 3",
   "language": "python",
   "name": "python3"
  },
  "language_info": {
   "codemirror_mode": {
    "name": "ipython",
    "version": 2
   },
   "file_extension": ".py",
   "mimetype": "text/x-python",
   "name": "python",
   "nbconvert_exporter": "python",
   "pygments_lexer": "ipython2",
   "version": "2.7.6"
  }
 },
 "nbformat": 4,
 "nbformat_minor": 0
}
