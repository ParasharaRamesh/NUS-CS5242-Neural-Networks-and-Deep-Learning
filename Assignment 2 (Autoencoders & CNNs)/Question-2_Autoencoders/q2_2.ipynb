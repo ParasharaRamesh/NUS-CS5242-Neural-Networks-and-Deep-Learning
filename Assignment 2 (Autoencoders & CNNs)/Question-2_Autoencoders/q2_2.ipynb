{
 "cells": [
  {
   "cell_type": "code",
   "execution_count": 1,
   "outputs": [],
   "source": [
    "%load_ext autoreload\n",
    "%autoreload 2"
   ],
   "metadata": {
    "collapsed": false,
    "ExecuteTime": {
     "end_time": "2023-09-28T11:03:15.699076700Z",
     "start_time": "2023-09-28T11:03:15.666064800Z"
    }
   }
  },
  {
   "cell_type": "code",
   "execution_count": 2,
   "outputs": [],
   "source": [
    "import torch\n",
    "import torch.optim as optim\n",
    "from torch.utils.data import DataLoader, SubsetRandomSampler\n",
    "import torchvision\n",
    "from torchvision import transforms\n",
    "import os\n",
    "from datetime import datetime  # For generating timestamped folder names\n",
    "from CNN_autoencoder_model import *\n",
    "from fully_connected_autoencoder_model import *\n",
    "from tqdm.auto import tqdm\n",
    "from torchinfo import summary"
   ],
   "metadata": {
    "collapsed": false,
    "ExecuteTime": {
     "end_time": "2023-09-28T11:03:19.695213100Z",
     "start_time": "2023-09-28T11:03:16.272441500Z"
    }
   }
  },
  {
   "cell_type": "code",
   "execution_count": 3,
   "outputs": [],
   "source": [
    "# Define parameters in a dictionary\n",
    "params = {\n",
    "    'num_epochs': 30,\n",
    "    'batch_size': 32,\n",
    "    'learning_rate': 0.003,\n",
    "    'lambda_value': [2,32],\n",
    "    'save_dir_fc': 'model_ckpts_FC',\n",
    "    'save_dir_cnn': 'model_ckpts_CNN',\n",
    "    'loss_criterion': nn.L1Loss(),\n",
    "    'training_split': 0.1\n",
    "}\n",
    "\n",
    "# Check if GPU is available, otherwise use CPU\n",
    "device = torch.device('cuda' if torch.cuda.is_available() else 'cpu')"
   ],
   "metadata": {
    "collapsed": false,
    "ExecuteTime": {
     "end_time": "2023-09-28T11:03:20.663890Z",
     "start_time": "2023-09-28T11:03:20.564871200Z"
    }
   }
  },
  {
   "cell_type": "code",
   "execution_count": 4,
   "outputs": [],
   "source": [
    "# Load MNIST dataset and apply transformations\n",
    "def load_mnist_data():\n",
    "    #normalize to 0->1\n",
    "    transform = transforms.Compose([transforms.ToTensor()])\n",
    "    mnist_dataset = torchvision.datasets.MNIST(root='./data', train=True, transform=transform, download=True)\n",
    "    return mnist_dataset\n",
    "\n",
    "# Create data loader for training data\n",
    "def create_data_loaders(dataset):\n",
    "    train_loader = DataLoader(dataset, batch_size=params['batch_size'], shuffle=True)\n",
    "    num_samples = len(dataset)\n",
    "    test_sampler = SubsetRandomSampler(range(int(0.1 * num_samples), num_samples))\n",
    "    test_loader = DataLoader(dataset, batch_size=params['batch_size'], sampler=test_sampler)\n",
    "    return train_loader, test_loader\n"
   ],
   "metadata": {
    "collapsed": false,
    "ExecuteTime": {
     "end_time": "2023-09-28T11:03:21.532982400Z",
     "start_time": "2023-09-28T11:03:21.444526600Z"
    }
   }
  },
  {
   "cell_type": "code",
   "execution_count": 5,
   "outputs": [],
   "source": [
    "# get data loaders\n",
    "for directory in [params['save_dir_fc'], params['save_dir_cnn']]:\n",
    "    os.makedirs(directory, exist_ok=True)\n",
    "    for Lambda in params['lambda_value']:\n",
    "        os.makedirs(os.path.join(directory, str(Lambda)) , exist_ok = True)\n",
    "\n",
    "mnist_dataset = load_mnist_data()\n",
    "train_loader, test_loader = create_data_loaders(mnist_dataset)"
   ],
   "metadata": {
    "collapsed": false,
    "ExecuteTime": {
     "end_time": "2023-09-28T11:03:22.090723700Z",
     "start_time": "2023-09-28T11:03:21.964194Z"
    }
   }
  },
  {
   "cell_type": "code",
   "execution_count": 6,
   "outputs": [],
   "source": [
    "def train_model(Lambda, model, train_loader, num_epochs, save_dir, resume_checkpoint=None, old_training_loss=None, old_epoch_numbers=None):\n",
    "    device = torch.device(\"cuda\" if torch.cuda.is_available() else \"cpu\")\n",
    "\n",
    "    criterion = params['loss_criterion']  # L1 loss\n",
    "    optimizer = optim.Adam(model.parameters(), lr=params['learning_rate'])\n",
    "\n",
    "    if resume_checkpoint:\n",
    "        checkpoint = torch.load(resume_checkpoint)\n",
    "        model.load_state_dict(checkpoint['model_state_dict'])\n",
    "        optimizer.load_state_dict(checkpoint['optimizer_state_dict'])\n",
    "        start_epoch = checkpoint['epoch']\n",
    "        print(f\"Model checkpoint loaded, will resume the epochs from number #{start_epoch}\")\n",
    "    else:\n",
    "        start_epoch = 0\n",
    "\n",
    "    # Custom progress bar for total epochs with color and displaying average epoch loss\n",
    "    total_progress_bar = tqdm(total=num_epochs, desc=f\"Total Epochs\", position=0, bar_format=\"{desc}: {percentage}% |{bar}| {n_fmt}/{total_fmt} [{elapsed}<{remaining}, {rate_fmt}]\", dynamic_ncols=True, ncols=100, colour='red')\n",
    "\n",
    "    # Lists to store training loss and epoch number\n",
    "    training_loss = old_training_loss if old_training_loss else []\n",
    "    epoch_numbers = old_epoch_numbers if old_epoch_numbers else []\n",
    "\n",
    "    checkpointed_paths = []\n",
    "    for epoch in range(start_epoch, start_epoch + num_epochs):\n",
    "        model.train()\n",
    "        total_loss = 0.0\n",
    "\n",
    "        # Custom progress bar for each epoch with color\n",
    "        epoch_progress_bar = tqdm(total=len(train_loader), desc=f\"Epoch {epoch + 1}/{start_epoch + num_epochs}\", position=1, leave=False, dynamic_ncols=True, ncols=100, colour='green')\n",
    "\n",
    "        for batch_idx, data in enumerate(train_loader):\n",
    "            images, _ = data\n",
    "            images = images.to(device)\n",
    "\n",
    "            optimizer.zero_grad()\n",
    "            outputs = model(images)\n",
    "            loss = criterion(outputs, images)\n",
    "            loss.backward()\n",
    "            optimizer.step()\n",
    "            total_loss += loss.item()\n",
    "\n",
    "            # Update the epoch progress bar (overwrite in place)\n",
    "            epoch_progress_bar.set_postfix(loss=loss.item())\n",
    "            epoch_progress_bar.update(1)\n",
    "\n",
    "        # Close the epoch progress bar\n",
    "        epoch_progress_bar.close()\n",
    "\n",
    "        # Calculate average loss for the epoch\n",
    "        average_loss = total_loss / len(train_loader)\n",
    "\n",
    "        # Append training loss and epoch number to lists\n",
    "        training_loss.append(average_loss)\n",
    "        epoch_numbers.append(epoch + 1)\n",
    "\n",
    "        # Print and save checkpoint\n",
    "        print(f'Epoch {epoch + 1} Loss: {average_loss}')\n",
    "\n",
    "        # Update the total progress bar\n",
    "        total_progress_bar.set_postfix(loss=average_loss)\n",
    "        total_progress_bar.update(1)\n",
    "\n",
    "        # Save only once in 5 epochs\n",
    "        if (epoch + 1) % 5 == 0:\n",
    "            # Checkpoint the model at the end of each epoch\n",
    "            checkpoint_path = os.path.join(save_dir, str(Lambda), f'model_epoch_{epoch + 1}.pt')\n",
    "            torch.save({\n",
    "                'epoch': epoch + 1,\n",
    "                'model_state_dict': model.state_dict(),\n",
    "                'optimizer_state_dict': optimizer.state_dict(),\n",
    "                'loss': average_loss,\n",
    "            }, checkpoint_path)\n",
    "            checkpointed_paths.append(f\"Checkpointed the model at the path {checkpoint_path}\")\n",
    "\n",
    "    # Close the total progress bar\n",
    "    total_progress_bar.close()\n",
    "\n",
    "    # Print what was checkpointed\n",
    "    for checkpoint_path in checkpointed_paths:\n",
    "        print(checkpoint_path)\n",
    "\n",
    "    # Return training loss and epoch numbers for plotting\n",
    "    return training_loss, epoch_numbers\n"
   ],
   "metadata": {
    "collapsed": false,
    "ExecuteTime": {
     "end_time": "2023-09-28T11:03:22.811105700Z",
     "start_time": "2023-09-28T11:03:22.748596200Z"
    }
   }
  },
  {
   "cell_type": "markdown",
   "source": [
    "### Code for plotting results"
   ],
   "metadata": {
    "collapsed": false
   }
  },
  {
   "cell_type": "code",
   "execution_count": 33,
   "outputs": [],
   "source": [
    "#some common functions related to plotting\n",
    "import matplotlib.pyplot as plt\n",
    "import random\n",
    "\n",
    "# Function to plot original and reconstructed images\n",
    "def plot_original_vs_reconstructed(model, data_loader, num_samples=5):\n",
    "    model.eval()\n",
    "\n",
    "    # Get random samples\n",
    "    sample_indices = random.sample(range(len(data_loader.dataset)), num_samples)\n",
    "\n",
    "    # Create a subplot grid\n",
    "    fig, axes = plt.subplots(2, num_samples, figsize=(12, 4))\n",
    "\n",
    "    with torch.no_grad():\n",
    "        for i, idx in enumerate(sample_indices):\n",
    "            # Get a random sample from the data loader\n",
    "            sample_data, _ = data_loader.dataset[idx]\n",
    "\n",
    "            # Forward pass through the model\n",
    "            reconstructed_data = model(sample_data.unsqueeze(0).to(device))\n",
    "            # print(reconstructed_data)\n",
    "\n",
    "            # Plot original image\n",
    "            axes[0, i].imshow(sample_data.squeeze().cpu(), cmap='gray')\n",
    "            axes[0, i].set_title('Original')\n",
    "            axes[0, i].axis('off')\n",
    "\n",
    "            # Plot reconstructed image\n",
    "            axes[1, i].imshow(reconstructed_data.squeeze().cpu(), cmap='gray')\n",
    "            axes[1, i].set_title('Reconstructed')\n",
    "            axes[1, i].axis('off')\n",
    "\n",
    "    plt.tight_layout()\n",
    "    plt.show()\n",
    "\n",
    "def plot_training_loss(lamb_2_training_loss, lamb_2_epochs, lamb_32_training_loss, lamb_32_epochs):\n",
    "    fig, axes = plt.subplots(1, 2, figsize=(12, 8))\n",
    "\n",
    "    # Plot data on each subplot and add labels\n",
    "    axes[0].plot(lamb_2_epochs, lamb_2_training_loss)\n",
    "    axes[0].set_title(f'Lambda2: Training Loss vs Epochs')\n",
    "    axes[0].set_xlabel('Epochs')\n",
    "    axes[0].set_ylabel('Training Loss')\n",
    "\n",
    "    axes[1].plot(lamb_32_epochs, lamb_32_training_loss)\n",
    "    axes[1].set_title(f'Lambda32: Training Loss vs Epochs')\n",
    "    axes[1].set_xlabel('Epochs')\n",
    "    axes[1].set_ylabel('Training Loss')\n",
    "\n",
    "    # Add space between subplots\n",
    "    plt.tight_layout()\n",
    "\n",
    "    # Show the plot\n",
    "    plt.show()\n",
    "\n",
    "    #close it properly\n",
    "    plt.clf()\n",
    "    plt.cla()\n",
    "    plt.close()\n"
   ],
   "metadata": {
    "collapsed": false,
    "ExecuteTime": {
     "end_time": "2023-09-28T12:44:16.582157600Z",
     "start_time": "2023-09-28T12:44:16.503021900Z"
    }
   }
  },
  {
   "cell_type": "markdown",
   "source": [
    "# Convolutional Auto Encoder\n",
    "\n"
   ],
   "metadata": {
    "collapsed": false
   }
  },
  {
   "cell_type": "markdown",
   "source": [
    "### Lambda 2 for CNN Auto encoder"
   ],
   "metadata": {
    "collapsed": false
   }
  },
  {
   "cell_type": "code",
   "execution_count": 40,
   "outputs": [],
   "source": [
    "# Lambda value of 2 for CNN\n",
    "lambda_2_cnn_autoencoder = CNNAutoencoder(params['lambda_value'][0]).to(device)\n"
   ],
   "metadata": {
    "collapsed": false,
    "ExecuteTime": {
     "end_time": "2023-09-28T12:54:03.300668400Z",
     "start_time": "2023-09-28T12:54:03.208588200Z"
    }
   }
  },
  {
   "cell_type": "code",
   "execution_count": 41,
   "outputs": [
    {
     "data": {
      "text/plain": "CNNAutoencoder(\n  (encoder): CNNEncoder(\n    (encoder): Sequential(\n      (0): Conv2d(1, 16, kernel_size=(3, 3), stride=(1, 1), padding=(1, 1))\n      (1): ReLU()\n      (2): MaxPool2d(kernel_size=2, stride=2, padding=0, dilation=1, ceil_mode=False)\n      (3): Conv2d(16, 8, kernel_size=(3, 3), stride=(1, 1), padding=(1, 1))\n      (4): ReLU()\n      (5): MaxPool2d(kernel_size=2, stride=2, padding=0, dilation=1, ceil_mode=False)\n    )\n    (fc1): Sequential(\n      (0): Linear(in_features=392, out_features=392, bias=True)\n      (1): ReLU()\n    )\n    (fc2): Sequential(\n      (0): Linear(in_features=392, out_features=2, bias=True)\n      (1): ReLU()\n    )\n  )\n  (decoder): CNNDecoder(\n    (decoder): Sequential(\n      (0): Linear(in_features=2, out_features=392, bias=True)\n      (1): ReLU()\n      (2): Unflatten(dim=1, unflattened_size=(8, 7, 7))\n      (3): ConvTranspose2d(8, 8, kernel_size=(4, 4), stride=(2, 2), padding=(1, 1))\n      (4): ReLU()\n      (5): ConvTranspose2d(8, 16, kernel_size=(3, 3), stride=(1, 1), padding=(1, 1))\n      (6): ReLU()\n      (7): ConvTranspose2d(16, 16, kernel_size=(4, 4), stride=(2, 2), padding=(1, 1))\n      (8): ReLU()\n      (9): ConvTranspose2d(16, 1, kernel_size=(3, 3), stride=(1, 1), padding=(1, 1))\n    )\n  )\n)"
     },
     "execution_count": 41,
     "metadata": {},
     "output_type": "execute_result"
    }
   ],
   "source": [
    "lambda_2_cnn_autoencoder"
   ],
   "metadata": {
    "collapsed": false,
    "ExecuteTime": {
     "end_time": "2023-09-28T12:54:08.616746500Z",
     "start_time": "2023-09-28T12:54:08.536892500Z"
    }
   }
  },
  {
   "cell_type": "code",
   "execution_count": 42,
   "outputs": [
    {
     "data": {
      "text/plain": "Total Epochs: 0.0% |          | 0/30 [00:00<?, ?it/s]",
      "application/vnd.jupyter.widget-view+json": {
       "version_major": 2,
       "version_minor": 0,
       "model_id": "e34657978d224b8da6ce85257fb26ef2"
      }
     },
     "metadata": {},
     "output_type": "display_data"
    },
    {
     "data": {
      "text/plain": "Epoch 1/30:   0%|          | 0/1875 [00:00<?, ?it/s]",
      "application/vnd.jupyter.widget-view+json": {
       "version_major": 2,
       "version_minor": 0,
       "model_id": "631c4392902a4289bfe7dfbf9d07a13e"
      }
     },
     "metadata": {},
     "output_type": "display_data"
    },
    {
     "name": "stdout",
     "output_type": "stream",
     "text": [
      "Epoch 1 Loss: 0.11468489035367965\n"
     ]
    },
    {
     "data": {
      "text/plain": "Epoch 2/30:   0%|          | 0/1875 [00:00<?, ?it/s]",
      "application/vnd.jupyter.widget-view+json": {
       "version_major": 2,
       "version_minor": 0,
       "model_id": "bc5d9f8f483d4d4488aa90b99188de65"
      }
     },
     "metadata": {},
     "output_type": "display_data"
    },
    {
     "name": "stdout",
     "output_type": "stream",
     "text": [
      "Epoch 2 Loss: 0.10626836035251618\n"
     ]
    },
    {
     "data": {
      "text/plain": "Epoch 3/30:   0%|          | 0/1875 [00:00<?, ?it/s]",
      "application/vnd.jupyter.widget-view+json": {
       "version_major": 2,
       "version_minor": 0,
       "model_id": "60028c9ed08c4db19ed6b5d2f19c00d6"
      }
     },
     "metadata": {},
     "output_type": "display_data"
    },
    {
     "name": "stdout",
     "output_type": "stream",
     "text": [
      "Epoch 3 Loss: 0.1034934496919314\n"
     ]
    },
    {
     "data": {
      "text/plain": "Epoch 4/30:   0%|          | 0/1875 [00:00<?, ?it/s]",
      "application/vnd.jupyter.widget-view+json": {
       "version_major": 2,
       "version_minor": 0,
       "model_id": "64ddb9b0c2ae455088c48bdfda4bba4c"
      }
     },
     "metadata": {},
     "output_type": "display_data"
    },
    {
     "name": "stdout",
     "output_type": "stream",
     "text": [
      "Epoch 4 Loss: 0.10176827580531438\n"
     ]
    },
    {
     "data": {
      "text/plain": "Epoch 5/30:   0%|          | 0/1875 [00:00<?, ?it/s]",
      "application/vnd.jupyter.widget-view+json": {
       "version_major": 2,
       "version_minor": 0,
       "model_id": "9d5efe2a13374f1796a5b5cc06154919"
      }
     },
     "metadata": {},
     "output_type": "display_data"
    },
    {
     "name": "stdout",
     "output_type": "stream",
     "text": [
      "Epoch 5 Loss: 0.10130564860105515\n"
     ]
    },
    {
     "data": {
      "text/plain": "Epoch 6/30:   0%|          | 0/1875 [00:00<?, ?it/s]",
      "application/vnd.jupyter.widget-view+json": {
       "version_major": 2,
       "version_minor": 0,
       "model_id": "fefe43d6899b4ee38ebcbf505a32b54d"
      }
     },
     "metadata": {},
     "output_type": "display_data"
    },
    {
     "name": "stdout",
     "output_type": "stream",
     "text": [
      "Epoch 6 Loss: 0.10066134078502655\n"
     ]
    },
    {
     "data": {
      "text/plain": "Epoch 7/30:   0%|          | 0/1875 [00:00<?, ?it/s]",
      "application/vnd.jupyter.widget-view+json": {
       "version_major": 2,
       "version_minor": 0,
       "model_id": "31c785c1f4864e7e848fb353fc9bebaa"
      }
     },
     "metadata": {},
     "output_type": "display_data"
    },
    {
     "name": "stdout",
     "output_type": "stream",
     "text": [
      "Epoch 7 Loss: 0.10006450175046921\n"
     ]
    },
    {
     "data": {
      "text/plain": "Epoch 8/30:   0%|          | 0/1875 [00:00<?, ?it/s]",
      "application/vnd.jupyter.widget-view+json": {
       "version_major": 2,
       "version_minor": 0,
       "model_id": "d0083cce53dd40bd8cbe62a5686717eb"
      }
     },
     "metadata": {},
     "output_type": "display_data"
    },
    {
     "name": "stdout",
     "output_type": "stream",
     "text": [
      "Epoch 8 Loss: 0.09986075957616171\n"
     ]
    },
    {
     "data": {
      "text/plain": "Epoch 9/30:   0%|          | 0/1875 [00:00<?, ?it/s]",
      "application/vnd.jupyter.widget-view+json": {
       "version_major": 2,
       "version_minor": 0,
       "model_id": "a52458503af742fbb598dd9f132b650d"
      }
     },
     "metadata": {},
     "output_type": "display_data"
    },
    {
     "name": "stdout",
     "output_type": "stream",
     "text": [
      "Epoch 9 Loss: 0.09883719140688578\n"
     ]
    },
    {
     "data": {
      "text/plain": "Epoch 10/30:   0%|          | 0/1875 [00:00<?, ?it/s]",
      "application/vnd.jupyter.widget-view+json": {
       "version_major": 2,
       "version_minor": 0,
       "model_id": "ef105e2343564b4dab4b361ab8b3abb4"
      }
     },
     "metadata": {},
     "output_type": "display_data"
    },
    {
     "name": "stdout",
     "output_type": "stream",
     "text": [
      "Epoch 10 Loss: 0.09841708086331685\n"
     ]
    },
    {
     "data": {
      "text/plain": "Epoch 11/30:   0%|          | 0/1875 [00:00<?, ?it/s]",
      "application/vnd.jupyter.widget-view+json": {
       "version_major": 2,
       "version_minor": 0,
       "model_id": "b4e5b6f30ada4c0d9f337f2e4a01fd25"
      }
     },
     "metadata": {},
     "output_type": "display_data"
    },
    {
     "name": "stdout",
     "output_type": "stream",
     "text": [
      "Epoch 11 Loss: 0.09880261285305023\n"
     ]
    },
    {
     "data": {
      "text/plain": "Epoch 12/30:   0%|          | 0/1875 [00:00<?, ?it/s]",
      "application/vnd.jupyter.widget-view+json": {
       "version_major": 2,
       "version_minor": 0,
       "model_id": "ceaa59c588814640bfccd1e73ec45505"
      }
     },
     "metadata": {},
     "output_type": "display_data"
    },
    {
     "name": "stdout",
     "output_type": "stream",
     "text": [
      "Epoch 12 Loss: 0.09880423323710759\n"
     ]
    },
    {
     "data": {
      "text/plain": "Epoch 13/30:   0%|          | 0/1875 [00:00<?, ?it/s]",
      "application/vnd.jupyter.widget-view+json": {
       "version_major": 2,
       "version_minor": 0,
       "model_id": "ade8922716594e509c2506e9cd822ef7"
      }
     },
     "metadata": {},
     "output_type": "display_data"
    },
    {
     "name": "stdout",
     "output_type": "stream",
     "text": [
      "Epoch 13 Loss: 0.09866079970598221\n"
     ]
    },
    {
     "data": {
      "text/plain": "Epoch 14/30:   0%|          | 0/1875 [00:00<?, ?it/s]",
      "application/vnd.jupyter.widget-view+json": {
       "version_major": 2,
       "version_minor": 0,
       "model_id": "d3de06680d5f463d8ed519f1762d6b1f"
      }
     },
     "metadata": {},
     "output_type": "display_data"
    },
    {
     "name": "stdout",
     "output_type": "stream",
     "text": [
      "Epoch 14 Loss: 0.09814156877994537\n"
     ]
    },
    {
     "data": {
      "text/plain": "Epoch 15/30:   0%|          | 0/1875 [00:00<?, ?it/s]",
      "application/vnd.jupyter.widget-view+json": {
       "version_major": 2,
       "version_minor": 0,
       "model_id": "35e34d4b325c474eb9b687ae33728029"
      }
     },
     "metadata": {},
     "output_type": "display_data"
    },
    {
     "name": "stdout",
     "output_type": "stream",
     "text": [
      "Epoch 15 Loss: 0.09748035571972528\n"
     ]
    },
    {
     "data": {
      "text/plain": "Epoch 16/30:   0%|          | 0/1875 [00:00<?, ?it/s]",
      "application/vnd.jupyter.widget-view+json": {
       "version_major": 2,
       "version_minor": 0,
       "model_id": "c2beb2c8fbf3494cbbfae8ae5ef03a6c"
      }
     },
     "metadata": {},
     "output_type": "display_data"
    },
    {
     "name": "stdout",
     "output_type": "stream",
     "text": [
      "Epoch 16 Loss: 0.09807874839305877\n"
     ]
    },
    {
     "data": {
      "text/plain": "Epoch 17/30:   0%|          | 0/1875 [00:00<?, ?it/s]",
      "application/vnd.jupyter.widget-view+json": {
       "version_major": 2,
       "version_minor": 0,
       "model_id": "0cc5b73a72c34aa9a2458d3ee95e6f7d"
      }
     },
     "metadata": {},
     "output_type": "display_data"
    },
    {
     "name": "stdout",
     "output_type": "stream",
     "text": [
      "Epoch 17 Loss: 0.09721148085594178\n"
     ]
    },
    {
     "data": {
      "text/plain": "Epoch 18/30:   0%|          | 0/1875 [00:00<?, ?it/s]",
      "application/vnd.jupyter.widget-view+json": {
       "version_major": 2,
       "version_minor": 0,
       "model_id": "d4a46e8359ac4b1e8499eeebaa475a3e"
      }
     },
     "metadata": {},
     "output_type": "display_data"
    },
    {
     "name": "stdout",
     "output_type": "stream",
     "text": [
      "Epoch 18 Loss: 0.09744670221805572\n"
     ]
    },
    {
     "data": {
      "text/plain": "Epoch 19/30:   0%|          | 0/1875 [00:00<?, ?it/s]",
      "application/vnd.jupyter.widget-view+json": {
       "version_major": 2,
       "version_minor": 0,
       "model_id": "054a608406a14d3990d9ef4b62f7cf07"
      }
     },
     "metadata": {},
     "output_type": "display_data"
    },
    {
     "name": "stdout",
     "output_type": "stream",
     "text": [
      "Epoch 19 Loss: 0.11168412574927013\n"
     ]
    },
    {
     "data": {
      "text/plain": "Epoch 20/30:   0%|          | 0/1875 [00:00<?, ?it/s]",
      "application/vnd.jupyter.widget-view+json": {
       "version_major": 2,
       "version_minor": 0,
       "model_id": "af0fb1b4253242158b9cbb41139ed6da"
      }
     },
     "metadata": {},
     "output_type": "display_data"
    },
    {
     "name": "stdout",
     "output_type": "stream",
     "text": [
      "Epoch 20 Loss: 0.12553174046278\n"
     ]
    },
    {
     "data": {
      "text/plain": "Epoch 21/30:   0%|          | 0/1875 [00:00<?, ?it/s]",
      "application/vnd.jupyter.widget-view+json": {
       "version_major": 2,
       "version_minor": 0,
       "model_id": "41613fc47af348b285d633bfb7af78e3"
      }
     },
     "metadata": {},
     "output_type": "display_data"
    },
    {
     "name": "stdout",
     "output_type": "stream",
     "text": [
      "Epoch 21 Loss: 0.10199381204446156\n"
     ]
    },
    {
     "data": {
      "text/plain": "Epoch 22/30:   0%|          | 0/1875 [00:00<?, ?it/s]",
      "application/vnd.jupyter.widget-view+json": {
       "version_major": 2,
       "version_minor": 0,
       "model_id": "83676d78d1834773950c69e7ac2fdd30"
      }
     },
     "metadata": {},
     "output_type": "display_data"
    },
    {
     "name": "stdout",
     "output_type": "stream",
     "text": [
      "Epoch 22 Loss: 0.09936484520037969\n"
     ]
    },
    {
     "data": {
      "text/plain": "Epoch 23/30:   0%|          | 0/1875 [00:00<?, ?it/s]",
      "application/vnd.jupyter.widget-view+json": {
       "version_major": 2,
       "version_minor": 0,
       "model_id": "c50a9708a33e4490bad61e555fc2e4e9"
      }
     },
     "metadata": {},
     "output_type": "display_data"
    },
    {
     "name": "stdout",
     "output_type": "stream",
     "text": [
      "Epoch 23 Loss: 0.0996956576347351\n"
     ]
    },
    {
     "data": {
      "text/plain": "Epoch 24/30:   0%|          | 0/1875 [00:00<?, ?it/s]",
      "application/vnd.jupyter.widget-view+json": {
       "version_major": 2,
       "version_minor": 0,
       "model_id": "4e1e91d1fa9b4a17ac5319c8efd76a2f"
      }
     },
     "metadata": {},
     "output_type": "display_data"
    },
    {
     "name": "stdout",
     "output_type": "stream",
     "text": [
      "Epoch 24 Loss: 0.09907591330607732\n"
     ]
    },
    {
     "data": {
      "text/plain": "Epoch 25/30:   0%|          | 0/1875 [00:00<?, ?it/s]",
      "application/vnd.jupyter.widget-view+json": {
       "version_major": 2,
       "version_minor": 0,
       "model_id": "e3b32c2467074bcd8ce05e439285d595"
      }
     },
     "metadata": {},
     "output_type": "display_data"
    },
    {
     "name": "stdout",
     "output_type": "stream",
     "text": [
      "Epoch 25 Loss: 0.0981967680255572\n"
     ]
    },
    {
     "data": {
      "text/plain": "Epoch 26/30:   0%|          | 0/1875 [00:00<?, ?it/s]",
      "application/vnd.jupyter.widget-view+json": {
       "version_major": 2,
       "version_minor": 0,
       "model_id": "0581da9707344d0289fd71ed3d89c64d"
      }
     },
     "metadata": {},
     "output_type": "display_data"
    },
    {
     "name": "stdout",
     "output_type": "stream",
     "text": [
      "Epoch 26 Loss: 0.09865778704881668\n"
     ]
    },
    {
     "data": {
      "text/plain": "Epoch 27/30:   0%|          | 0/1875 [00:00<?, ?it/s]",
      "application/vnd.jupyter.widget-view+json": {
       "version_major": 2,
       "version_minor": 0,
       "model_id": "7f6fc409ff9c428ab76d0a5c5dd37bfe"
      }
     },
     "metadata": {},
     "output_type": "display_data"
    },
    {
     "name": "stdout",
     "output_type": "stream",
     "text": [
      "Epoch 27 Loss: 0.09762298048734665\n"
     ]
    },
    {
     "data": {
      "text/plain": "Epoch 28/30:   0%|          | 0/1875 [00:00<?, ?it/s]",
      "application/vnd.jupyter.widget-view+json": {
       "version_major": 2,
       "version_minor": 0,
       "model_id": "5341b15a8d1f4153b65a65e44abf4659"
      }
     },
     "metadata": {},
     "output_type": "display_data"
    },
    {
     "name": "stdout",
     "output_type": "stream",
     "text": [
      "Epoch 28 Loss: 0.0972952848792076\n"
     ]
    },
    {
     "data": {
      "text/plain": "Epoch 29/30:   0%|          | 0/1875 [00:00<?, ?it/s]",
      "application/vnd.jupyter.widget-view+json": {
       "version_major": 2,
       "version_minor": 0,
       "model_id": "06e3e66553e94cba97f885c2cca2ab9d"
      }
     },
     "metadata": {},
     "output_type": "display_data"
    },
    {
     "name": "stdout",
     "output_type": "stream",
     "text": [
      "Epoch 29 Loss: 0.09762547135750453\n"
     ]
    },
    {
     "data": {
      "text/plain": "Epoch 30/30:   0%|          | 0/1875 [00:00<?, ?it/s]",
      "application/vnd.jupyter.widget-view+json": {
       "version_major": 2,
       "version_minor": 0,
       "model_id": "6eb65ed58b6f4466936813863156ffd9"
      }
     },
     "metadata": {},
     "output_type": "display_data"
    },
    {
     "name": "stdout",
     "output_type": "stream",
     "text": [
      "Epoch 30 Loss: 0.09697403379281362\n",
      "Checkpointed the model at the path model_ckpts_CNN\\2\\model_epoch_5.pt\n",
      "Checkpointed the model at the path model_ckpts_CNN\\2\\model_epoch_10.pt\n",
      "Checkpointed the model at the path model_ckpts_CNN\\2\\model_epoch_15.pt\n",
      "Checkpointed the model at the path model_ckpts_CNN\\2\\model_epoch_20.pt\n",
      "Checkpointed the model at the path model_ckpts_CNN\\2\\model_epoch_25.pt\n",
      "Checkpointed the model at the path model_ckpts_CNN\\2\\model_epoch_30.pt\n"
     ]
    }
   ],
   "source": [
    "#DONT RUN\n",
    "\n",
    "lambda_2_cnn_training_loss, lambda_2_cnn_epoch_numbers = train_model(params['lambda_value'][0], lambda_2_cnn_autoencoder,train_loader, params['num_epochs'], params['save_dir_cnn'])"
   ],
   "metadata": {
    "collapsed": false,
    "ExecuteTime": {
     "end_time": "2023-09-28T13:04:22.018837400Z",
     "start_time": "2023-09-28T12:54:16.161782300Z"
    }
   }
  },
  {
   "cell_type": "markdown",
   "source": [
    "### Lambda 32 for CNN Auto encoder"
   ],
   "metadata": {
    "collapsed": false
   }
  },
  {
   "cell_type": "code",
   "execution_count": 44,
   "outputs": [],
   "source": [
    "lambda_32_cnn_autoencoder = CNNAutoencoder(params['lambda_value'][1]).to(device)"
   ],
   "metadata": {
    "collapsed": false,
    "ExecuteTime": {
     "end_time": "2023-09-28T13:07:14.343775Z",
     "start_time": "2023-09-28T13:07:14.262961800Z"
    }
   }
  },
  {
   "cell_type": "code",
   "execution_count": 45,
   "outputs": [
    {
     "data": {
      "text/plain": "Total Epochs: 0.0% |          | 0/30 [00:00<?, ?it/s]",
      "application/vnd.jupyter.widget-view+json": {
       "version_major": 2,
       "version_minor": 0,
       "model_id": "dcd81b692cad4ae2889a30dbdd82773c"
      }
     },
     "metadata": {},
     "output_type": "display_data"
    },
    {
     "data": {
      "text/plain": "Epoch 1/30:   0%|          | 0/1875 [00:00<?, ?it/s]",
      "application/vnd.jupyter.widget-view+json": {
       "version_major": 2,
       "version_minor": 0,
       "model_id": "bb391ad4763b42ff954829340bc242ef"
      }
     },
     "metadata": {},
     "output_type": "display_data"
    },
    {
     "name": "stdout",
     "output_type": "stream",
     "text": [
      "Epoch 1 Loss: 0.08013959240118662\n"
     ]
    },
    {
     "data": {
      "text/plain": "Epoch 2/30:   0%|          | 0/1875 [00:00<?, ?it/s]",
      "application/vnd.jupyter.widget-view+json": {
       "version_major": 2,
       "version_minor": 0,
       "model_id": "810ba5c05f4647208128d95670e1acb9"
      }
     },
     "metadata": {},
     "output_type": "display_data"
    },
    {
     "name": "stdout",
     "output_type": "stream",
     "text": [
      "Epoch 2 Loss: 0.06198223688006401\n"
     ]
    },
    {
     "data": {
      "text/plain": "Epoch 3/30:   0%|          | 0/1875 [00:00<?, ?it/s]",
      "application/vnd.jupyter.widget-view+json": {
       "version_major": 2,
       "version_minor": 0,
       "model_id": "c510c3c2de924b48a189374004a876cc"
      }
     },
     "metadata": {},
     "output_type": "display_data"
    },
    {
     "name": "stdout",
     "output_type": "stream",
     "text": [
      "Epoch 3 Loss: 0.05933259367148081\n"
     ]
    },
    {
     "data": {
      "text/plain": "Epoch 4/30:   0%|          | 0/1875 [00:00<?, ?it/s]",
      "application/vnd.jupyter.widget-view+json": {
       "version_major": 2,
       "version_minor": 0,
       "model_id": "62de228ff074498ca5520e896915cd70"
      }
     },
     "metadata": {},
     "output_type": "display_data"
    },
    {
     "name": "stdout",
     "output_type": "stream",
     "text": [
      "Epoch 4 Loss: 0.05786083876689275\n"
     ]
    },
    {
     "data": {
      "text/plain": "Epoch 5/30:   0%|          | 0/1875 [00:00<?, ?it/s]",
      "application/vnd.jupyter.widget-view+json": {
       "version_major": 2,
       "version_minor": 0,
       "model_id": "5d548166fcb74dfda54f016cd250c51c"
      }
     },
     "metadata": {},
     "output_type": "display_data"
    },
    {
     "name": "stdout",
     "output_type": "stream",
     "text": [
      "Epoch 5 Loss: 0.056777978962659834\n"
     ]
    },
    {
     "data": {
      "text/plain": "Epoch 6/30:   0%|          | 0/1875 [00:00<?, ?it/s]",
      "application/vnd.jupyter.widget-view+json": {
       "version_major": 2,
       "version_minor": 0,
       "model_id": "e54b68f530274391834a869ed801fe75"
      }
     },
     "metadata": {},
     "output_type": "display_data"
    },
    {
     "name": "stdout",
     "output_type": "stream",
     "text": [
      "Epoch 6 Loss: 0.056036854104201\n"
     ]
    },
    {
     "data": {
      "text/plain": "Epoch 7/30:   0%|          | 0/1875 [00:00<?, ?it/s]",
      "application/vnd.jupyter.widget-view+json": {
       "version_major": 2,
       "version_minor": 0,
       "model_id": "fa78a583a9484574aafe61975c4bd9c1"
      }
     },
     "metadata": {},
     "output_type": "display_data"
    },
    {
     "name": "stdout",
     "output_type": "stream",
     "text": [
      "Epoch 7 Loss: 0.05544693913857142\n"
     ]
    },
    {
     "data": {
      "text/plain": "Epoch 8/30:   0%|          | 0/1875 [00:00<?, ?it/s]",
      "application/vnd.jupyter.widget-view+json": {
       "version_major": 2,
       "version_minor": 0,
       "model_id": "15db17c5e47b414483f132f295a65c86"
      }
     },
     "metadata": {},
     "output_type": "display_data"
    },
    {
     "name": "stdout",
     "output_type": "stream",
     "text": [
      "Epoch 8 Loss: 0.05496872566739718\n"
     ]
    },
    {
     "data": {
      "text/plain": "Epoch 9/30:   0%|          | 0/1875 [00:00<?, ?it/s]",
      "application/vnd.jupyter.widget-view+json": {
       "version_major": 2,
       "version_minor": 0,
       "model_id": "ad07746a4093418d95f76444cc3323c6"
      }
     },
     "metadata": {},
     "output_type": "display_data"
    },
    {
     "name": "stdout",
     "output_type": "stream",
     "text": [
      "Epoch 9 Loss: 0.05451673089265823\n"
     ]
    },
    {
     "data": {
      "text/plain": "Epoch 10/30:   0%|          | 0/1875 [00:00<?, ?it/s]",
      "application/vnd.jupyter.widget-view+json": {
       "version_major": 2,
       "version_minor": 0,
       "model_id": "8a38fb0d8f934f0c856ddf2596640722"
      }
     },
     "metadata": {},
     "output_type": "display_data"
    },
    {
     "name": "stdout",
     "output_type": "stream",
     "text": [
      "Epoch 10 Loss: 0.05407807159821192\n"
     ]
    },
    {
     "data": {
      "text/plain": "Epoch 11/30:   0%|          | 0/1875 [00:00<?, ?it/s]",
      "application/vnd.jupyter.widget-view+json": {
       "version_major": 2,
       "version_minor": 0,
       "model_id": "4ac542f19344422ea467bd6c4d9e931c"
      }
     },
     "metadata": {},
     "output_type": "display_data"
    },
    {
     "name": "stdout",
     "output_type": "stream",
     "text": [
      "Epoch 11 Loss: 0.05375822603702545\n"
     ]
    },
    {
     "data": {
      "text/plain": "Epoch 12/30:   0%|          | 0/1875 [00:00<?, ?it/s]",
      "application/vnd.jupyter.widget-view+json": {
       "version_major": 2,
       "version_minor": 0,
       "model_id": "cd1f6298a6564ec28e6c656f66b11738"
      }
     },
     "metadata": {},
     "output_type": "display_data"
    },
    {
     "name": "stdout",
     "output_type": "stream",
     "text": [
      "Epoch 12 Loss: 0.053453958304723104\n"
     ]
    },
    {
     "data": {
      "text/plain": "Epoch 13/30:   0%|          | 0/1875 [00:00<?, ?it/s]",
      "application/vnd.jupyter.widget-view+json": {
       "version_major": 2,
       "version_minor": 0,
       "model_id": "a5a63781f24f48ef99bbcac4bbd692e5"
      }
     },
     "metadata": {},
     "output_type": "display_data"
    },
    {
     "name": "stdout",
     "output_type": "stream",
     "text": [
      "Epoch 13 Loss: 0.05321829341848691\n"
     ]
    },
    {
     "data": {
      "text/plain": "Epoch 14/30:   0%|          | 0/1875 [00:00<?, ?it/s]",
      "application/vnd.jupyter.widget-view+json": {
       "version_major": 2,
       "version_minor": 0,
       "model_id": "827a7f282265431e88d6e7c5809d6830"
      }
     },
     "metadata": {},
     "output_type": "display_data"
    },
    {
     "name": "stdout",
     "output_type": "stream",
     "text": [
      "Epoch 14 Loss: 0.052877596541245776\n"
     ]
    },
    {
     "data": {
      "text/plain": "Epoch 15/30:   0%|          | 0/1875 [00:00<?, ?it/s]",
      "application/vnd.jupyter.widget-view+json": {
       "version_major": 2,
       "version_minor": 0,
       "model_id": "02df663a604e49c4bdef5e5af8d4eafd"
      }
     },
     "metadata": {},
     "output_type": "display_data"
    },
    {
     "name": "stdout",
     "output_type": "stream",
     "text": [
      "Epoch 15 Loss: 0.05269726159175237\n"
     ]
    },
    {
     "data": {
      "text/plain": "Epoch 16/30:   0%|          | 0/1875 [00:00<?, ?it/s]",
      "application/vnd.jupyter.widget-view+json": {
       "version_major": 2,
       "version_minor": 0,
       "model_id": "12a4c3aa20f14cadae24f9bd926df37e"
      }
     },
     "metadata": {},
     "output_type": "display_data"
    },
    {
     "name": "stdout",
     "output_type": "stream",
     "text": [
      "Epoch 16 Loss: 0.05236198431054751\n"
     ]
    },
    {
     "data": {
      "text/plain": "Epoch 17/30:   0%|          | 0/1875 [00:00<?, ?it/s]",
      "application/vnd.jupyter.widget-view+json": {
       "version_major": 2,
       "version_minor": 0,
       "model_id": "df683e301b4b45e985cc62278b004119"
      }
     },
     "metadata": {},
     "output_type": "display_data"
    },
    {
     "name": "stdout",
     "output_type": "stream",
     "text": [
      "Epoch 17 Loss: 0.05215518991748492\n"
     ]
    },
    {
     "data": {
      "text/plain": "Epoch 18/30:   0%|          | 0/1875 [00:00<?, ?it/s]",
      "application/vnd.jupyter.widget-view+json": {
       "version_major": 2,
       "version_minor": 0,
       "model_id": "c7a5ce21b9f540619ce2adb8472b3332"
      }
     },
     "metadata": {},
     "output_type": "display_data"
    },
    {
     "name": "stdout",
     "output_type": "stream",
     "text": [
      "Epoch 18 Loss: 0.05194044097860654\n"
     ]
    },
    {
     "data": {
      "text/plain": "Epoch 19/30:   0%|          | 0/1875 [00:00<?, ?it/s]",
      "application/vnd.jupyter.widget-view+json": {
       "version_major": 2,
       "version_minor": 0,
       "model_id": "1e4cd865f3cb454caa44b4eaf4a29a9f"
      }
     },
     "metadata": {},
     "output_type": "display_data"
    },
    {
     "name": "stdout",
     "output_type": "stream",
     "text": [
      "Epoch 19 Loss: 0.05176341417630514\n"
     ]
    },
    {
     "data": {
      "text/plain": "Epoch 20/30:   0%|          | 0/1875 [00:00<?, ?it/s]",
      "application/vnd.jupyter.widget-view+json": {
       "version_major": 2,
       "version_minor": 0,
       "model_id": "af30b9beb2d94bfbb281c505466f852a"
      }
     },
     "metadata": {},
     "output_type": "display_data"
    },
    {
     "name": "stdout",
     "output_type": "stream",
     "text": [
      "Epoch 20 Loss: 0.05156212235887846\n"
     ]
    },
    {
     "data": {
      "text/plain": "Epoch 21/30:   0%|          | 0/1875 [00:00<?, ?it/s]",
      "application/vnd.jupyter.widget-view+json": {
       "version_major": 2,
       "version_minor": 0,
       "model_id": "8fc28b70b6f947a0a24e974a16e39eb3"
      }
     },
     "metadata": {},
     "output_type": "display_data"
    },
    {
     "name": "stdout",
     "output_type": "stream",
     "text": [
      "Epoch 21 Loss: 0.05140056654214859\n"
     ]
    },
    {
     "data": {
      "text/plain": "Epoch 22/30:   0%|          | 0/1875 [00:00<?, ?it/s]",
      "application/vnd.jupyter.widget-view+json": {
       "version_major": 2,
       "version_minor": 0,
       "model_id": "f3922f6af3d94195aa9b061ed551ce3e"
      }
     },
     "metadata": {},
     "output_type": "display_data"
    },
    {
     "name": "stdout",
     "output_type": "stream",
     "text": [
      "Epoch 22 Loss: 0.051227589758237206\n"
     ]
    },
    {
     "data": {
      "text/plain": "Epoch 23/30:   0%|          | 0/1875 [00:00<?, ?it/s]",
      "application/vnd.jupyter.widget-view+json": {
       "version_major": 2,
       "version_minor": 0,
       "model_id": "15b8d60315cb4af59a581b1c8f8b6184"
      }
     },
     "metadata": {},
     "output_type": "display_data"
    },
    {
     "name": "stdout",
     "output_type": "stream",
     "text": [
      "Epoch 23 Loss: 0.05103021306594213\n"
     ]
    },
    {
     "data": {
      "text/plain": "Epoch 24/30:   0%|          | 0/1875 [00:00<?, ?it/s]",
      "application/vnd.jupyter.widget-view+json": {
       "version_major": 2,
       "version_minor": 0,
       "model_id": "5d24fbd515654a28af2cec5a11aa1823"
      }
     },
     "metadata": {},
     "output_type": "display_data"
    },
    {
     "name": "stdout",
     "output_type": "stream",
     "text": [
      "Epoch 24 Loss: 0.05099256905913353\n"
     ]
    },
    {
     "data": {
      "text/plain": "Epoch 25/30:   0%|          | 0/1875 [00:00<?, ?it/s]",
      "application/vnd.jupyter.widget-view+json": {
       "version_major": 2,
       "version_minor": 0,
       "model_id": "9436772a2e4e4a06b2e9fc00581c3e30"
      }
     },
     "metadata": {},
     "output_type": "display_data"
    },
    {
     "name": "stdout",
     "output_type": "stream",
     "text": [
      "Epoch 25 Loss: 0.05081039557258288\n"
     ]
    },
    {
     "data": {
      "text/plain": "Epoch 26/30:   0%|          | 0/1875 [00:00<?, ?it/s]",
      "application/vnd.jupyter.widget-view+json": {
       "version_major": 2,
       "version_minor": 0,
       "model_id": "bf29da15ee784cae8e8f4606acc01561"
      }
     },
     "metadata": {},
     "output_type": "display_data"
    },
    {
     "name": "stdout",
     "output_type": "stream",
     "text": [
      "Epoch 26 Loss: 0.050733406484127046\n"
     ]
    },
    {
     "data": {
      "text/plain": "Epoch 27/30:   0%|          | 0/1875 [00:00<?, ?it/s]",
      "application/vnd.jupyter.widget-view+json": {
       "version_major": 2,
       "version_minor": 0,
       "model_id": "4477ecfdc6274082b7c44b7d81f00d45"
      }
     },
     "metadata": {},
     "output_type": "display_data"
    },
    {
     "name": "stdout",
     "output_type": "stream",
     "text": [
      "Epoch 27 Loss: 0.05063300395210584\n"
     ]
    },
    {
     "data": {
      "text/plain": "Epoch 28/30:   0%|          | 0/1875 [00:00<?, ?it/s]",
      "application/vnd.jupyter.widget-view+json": {
       "version_major": 2,
       "version_minor": 0,
       "model_id": "4cf9b6079d52408dac168cde882b9e4a"
      }
     },
     "metadata": {},
     "output_type": "display_data"
    },
    {
     "name": "stdout",
     "output_type": "stream",
     "text": [
      "Epoch 28 Loss: 0.05051434789101283\n"
     ]
    },
    {
     "data": {
      "text/plain": "Epoch 29/30:   0%|          | 0/1875 [00:00<?, ?it/s]",
      "application/vnd.jupyter.widget-view+json": {
       "version_major": 2,
       "version_minor": 0,
       "model_id": "00fd0e711915475990027e69b0ac6fe0"
      }
     },
     "metadata": {},
     "output_type": "display_data"
    },
    {
     "name": "stdout",
     "output_type": "stream",
     "text": [
      "Epoch 29 Loss: 0.05050814507206281\n"
     ]
    },
    {
     "data": {
      "text/plain": "Epoch 30/30:   0%|          | 0/1875 [00:00<?, ?it/s]",
      "application/vnd.jupyter.widget-view+json": {
       "version_major": 2,
       "version_minor": 0,
       "model_id": "e1337749f04d41308f96af93845418c5"
      }
     },
     "metadata": {},
     "output_type": "display_data"
    },
    {
     "name": "stdout",
     "output_type": "stream",
     "text": [
      "Epoch 30 Loss: 0.05039667351047198\n",
      "Checkpointed the model at the path model_ckpts_CNN\\32\\model_epoch_5.pt\n",
      "Checkpointed the model at the path model_ckpts_CNN\\32\\model_epoch_10.pt\n",
      "Checkpointed the model at the path model_ckpts_CNN\\32\\model_epoch_15.pt\n",
      "Checkpointed the model at the path model_ckpts_CNN\\32\\model_epoch_20.pt\n",
      "Checkpointed the model at the path model_ckpts_CNN\\32\\model_epoch_25.pt\n",
      "Checkpointed the model at the path model_ckpts_CNN\\32\\model_epoch_30.pt\n"
     ]
    }
   ],
   "source": [
    "lambda_32_cnn_training_loss, lambda_32_cnn_epoch_numbers = train_model(params['lambda_value'][1], lambda_32_cnn_autoencoder,\n",
    "                                                                     train_loader, params['num_epochs'], params['save_dir_cnn'])"
   ],
   "metadata": {
    "collapsed": false,
    "ExecuteTime": {
     "end_time": "2023-09-28T13:21:16.285162700Z",
     "start_time": "2023-09-28T13:07:15.605570600Z"
    }
   }
  },
  {
   "cell_type": "markdown",
   "source": [
    "### Lambda 2 Reconstruction for CNN Autoencoder"
   ],
   "metadata": {
    "collapsed": false
   }
  },
  {
   "cell_type": "code",
   "execution_count": 52,
   "outputs": [
    {
     "data": {
      "text/plain": "<Figure size 1200x400 with 12 Axes>",
      "image/png": "[encoded data removed]"
     },
     "metadata": {},
     "output_type": "display_data"
    }
   ],
   "source": [
    "plot_original_vs_reconstructed(lambda_2_cnn_autoencoder, test_loader, num_samples=6)"
   ],
   "metadata": {
    "collapsed": false,
    "ExecuteTime": {
     "end_time": "2023-09-28T13:23:45.136038600Z",
     "start_time": "2023-09-28T13:23:44.481280200Z"
    }
   }
  },
  {
   "cell_type": "markdown",
   "source": [
    "### Lambda 32 Reconstruction for CNN Autoencoder"
   ],
   "metadata": {
    "collapsed": false
   }
  },
  {
   "cell_type": "code",
   "execution_count": 54,
   "outputs": [
    {
     "data": {
      "text/plain": "<Figure size 1200x400 with 10 Axes>",
      "image/png": "[encoded data removed]"
     },
     "metadata": {},
     "output_type": "display_data"
    }
   ],
   "source": [
    "plot_original_vs_reconstructed(lambda_32_cnn_autoencoder, test_loader, num_samples=5)"
   ],
   "metadata": {
    "collapsed": false,
    "ExecuteTime": {
     "end_time": "2023-09-28T13:23:53.556332800Z",
     "start_time": "2023-09-28T13:23:52.988974Z"
    }
   }
  },
  {
   "cell_type": "markdown",
   "source": [
    "### Training loss vs Epochs for CNN Autoencoder with same params as FC Autoencoder"
   ],
   "metadata": {
    "collapsed": false
   }
  },
  {
   "cell_type": "code",
   "execution_count": 55,
   "outputs": [
    {
     "data": {
      "text/plain": "<Figure size 1200x800 with 2 Axes>",
      "image/png": "[encoded data removed]"
     },
     "metadata": {},
     "output_type": "display_data"
    }
   ],
   "source": [
    "plot_training_loss(lambda_2_cnn_training_loss, lambda_2_cnn_epoch_numbers, lambda_32_cnn_training_loss, lambda_32_cnn_epoch_numbers)"
   ],
   "metadata": {
    "collapsed": false,
    "ExecuteTime": {
     "end_time": "2023-09-28T13:29:48.892633Z",
     "start_time": "2023-09-28T13:29:48.310965800Z"
    }
   }
  },
  {
   "cell_type": "markdown",
   "source": [
    "# Interpretation\n",
    "\n",
    "\n",
    "### Reconstruction Interpretation\n",
    "\n",
    "\n",
    "### Training loss vs epochs Interpretation"
   ],
   "metadata": {
    "collapsed": false
   }
  },
  {
   "cell_type": "markdown",
   "source": [],
   "metadata": {
    "collapsed": false
   }
  }
 ],
 "metadata": {
  "kernelspec": {
   "display_name": "Python 3",
   "language": "python",
   "name": "python3"
  },
  "language_info": {
   "codemirror_mode": {
    "name": "ipython",
    "version": 2
   },
   "file_extension": ".py",
   "mimetype": "text/x-python",
   "name": "python",
   "nbconvert_exporter": "python",
   "pygments_lexer": "ipython2",
   "version": "2.7.6"
  }
 },
 "nbformat": 4,
 "nbformat_minor": 0
}
