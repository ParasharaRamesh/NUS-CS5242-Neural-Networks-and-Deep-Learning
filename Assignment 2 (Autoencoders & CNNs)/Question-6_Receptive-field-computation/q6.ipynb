{
 "cells": [
  {
   "cell_type": "markdown",
   "source": [
    "# Calculating the receptive field\n",
    "\n",
    "The output shape of both maxpool and conv2d is the same based on the docs.\n",
    "\n",
    "Therefore, formula in normal order is (after ignoring padding and dilation from the docs):\n",
    "\n",
    "$$N_{out} = \\frac{N_{in} - k}{s} + 1$$\n",
    "\n",
    "Therefore formula in reverse is after referring to docs is\n",
    "\n",
    "$$N_{in} = {stride * (N_{out} -1)) + k$$\n",
    "\n",
    "For receptive field we consider that we are looking at a 1x1 pixel in the output. Therefore we use the reverse formula.\n"
   ],
   "metadata": {
    "collapsed": false
   }
  },
  {
   "cell_type": "code",
   "execution_count": 1,
   "outputs": [],
   "source": [
    "def compute_n_in(n_out, kernel_size, stride):\n",
    "    return (stride*(n_out - 1)) + kernel_size"
   ],
   "metadata": {
    "collapsed": false,
    "ExecuteTime": {
     "end_time": "2023-09-29T04:19:30.743639500Z",
     "start_time": "2023-09-29T04:19:30.728602100Z"
    }
   }
  },
  {
   "cell_type": "code",
   "execution_count": 9,
   "outputs": [],
   "source": [
    "#in normal order\n",
    "questions = [\n",
    "    [(3, 1), (3, 1), (1, 1), (2, 2), (2, 2)],\n",
    "    [(3, 1), (2, 2), (2, 2), (2, 2), (3, 1)],\n",
    "    [(5, 1), (3, 1), (4, 1), (2, 2), (3, 1)],\n",
    "    [(7, 2), (5, 1), (3, 2), (3, 1), (1, 1)],\n",
    "    [(4, 1), (3, 2), (2, 2), (3, 1), (2, 2)],\n",
    "    [(7, 2), (5, 2), (2, 2), (5, 2), (7, 2)],\n",
    "    [(3, 3), (2, 2), (5, 3), (3, 3), (5, 1)],\n",
    "    [(4, 2), (2, 2), (3, 1), (1, 1), (2, 1)],\n",
    "    [(4, 2), (2, 2), (3, 1), (1, 1), (2, 1)],\n",
    "    [(11, 2), (7, 2), (2, 2), (5, 2), (3, 1)]\n",
    "]"
   ],
   "metadata": {
    "collapsed": false,
    "ExecuteTime": {
     "end_time": "2023-09-29T04:27:41.994376Z",
     "start_time": "2023-09-29T04:27:41.978024Z"
    }
   }
  },
  {
   "cell_type": "code",
   "execution_count": 10,
   "outputs": [
    {
     "data": {
      "text/plain": "['8x8',\n '26x26',\n '15x15',\n '27x27',\n '20x20',\n '147x147',\n '282x282',\n '18x18',\n '18x18',\n '91x91']"
     },
     "execution_count": 10,
     "metadata": {},
     "output_type": "execute_result"
    }
   ],
   "source": [
    "receptive_field = []\n",
    "for question in questions:\n",
    "    order = list(reversed(question))\n",
    "    N_out = 1 #start with 1\n",
    "    for k, s in order:\n",
    "        N_out= compute_n_in(N_out, k,s)\n",
    "    receptive_field.append(f\"{N_out}x{N_out}\")\n",
    "\n",
    "receptive_field"
   ],
   "metadata": {
    "collapsed": false,
    "ExecuteTime": {
     "end_time": "2023-09-29T04:27:42.716766400Z",
     "start_time": "2023-09-29T04:27:42.686111800Z"
    }
   }
  },
  {
   "cell_type": "code",
   "execution_count": null,
   "outputs": [],
   "source": [],
   "metadata": {
    "collapsed": false
   }
  }
 ],
 "metadata": {
  "kernelspec": {
   "display_name": "Python 3",
   "language": "python",
   "name": "python3"
  },
  "language_info": {
   "codemirror_mode": {
    "name": "ipython",
    "version": 2
   },
   "file_extension": ".py",
   "mimetype": "text/x-python",
   "name": "python",
   "nbconvert_exporter": "python",
   "pygments_lexer": "ipython2",
   "version": "2.7.6"
  }
 },
 "nbformat": 4,
 "nbformat_minor": 0
}
