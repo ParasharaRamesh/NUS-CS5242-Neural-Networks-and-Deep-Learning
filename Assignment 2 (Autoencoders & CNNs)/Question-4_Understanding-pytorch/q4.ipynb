{
 "cells": [
  {
   "cell_type": "code",
   "execution_count": 119,
   "metadata": {
    "collapsed": true,
    "ExecuteTime": {
     "end_time": "2023-09-29T07:55:12.182068300Z",
     "start_time": "2023-09-29T07:55:12.166413800Z"
    }
   },
   "outputs": [],
   "source": [
    "import torch\n",
    "import torch.nn as nn\n",
    "import numpy as np"
   ]
  },
  {
   "cell_type": "markdown",
   "source": [
    "### <u>Compare functions one by one</u>"
   ],
   "metadata": {
    "collapsed": false
   }
  },
  {
   "cell_type": "markdown",
   "source": [
    "#### 1. MaxPool1d"
   ],
   "metadata": {
    "collapsed": false
   }
  },
  {
   "cell_type": "code",
   "execution_count": 95,
   "outputs": [
    {
     "data": {
      "text/plain": "tensor([[0.6735, 0.5949, 0.8780, 0.8296],\n        [0.3949, 0.9947, 0.2762, 0.1802],\n        [0.7275, 0.5064, 0.8903, 0.1068]])"
     },
     "execution_count": 95,
     "metadata": {},
     "output_type": "execute_result"
    }
   ],
   "source": [
    "#Create some random input\n",
    "random_tensor = torch.rand(3, 4)\n",
    "random_tensor"
   ],
   "metadata": {
    "collapsed": false,
    "ExecuteTime": {
     "end_time": "2023-09-29T05:33:15.361272300Z",
     "start_time": "2023-09-29T05:33:15.345615100Z"
    }
   }
  },
  {
   "cell_type": "code",
   "execution_count": 96,
   "outputs": [
    {
     "data": {
      "text/plain": "tensor([[0.6735, 0.8780, 0.8780],\n        [0.9947, 0.9947, 0.2762],\n        [0.7275, 0.8903, 0.8903]])"
     },
     "execution_count": 96,
     "metadata": {},
     "output_type": "execute_result"
    }
   ],
   "source": [
    "#define the pytorch equivalent\n",
    "pytorch_max_pool_fn = nn.MaxPool1d(kernel_size=2, stride=1, padding=0,dilation=1, return_indices=False, ceil_mode=False)\n",
    "output_from_pytorch = pytorch_max_pool_fn(random_tensor)\n",
    "output_from_pytorch"
   ],
   "metadata": {
    "collapsed": false,
    "ExecuteTime": {
     "end_time": "2023-09-29T05:33:15.756463300Z",
     "start_time": "2023-09-29T05:33:15.724600700Z"
    }
   }
  },
  {
   "cell_type": "code",
   "execution_count": 97,
   "outputs": [
    {
     "data": {
      "text/plain": "tensor([[0.6735, 0.8780, 0.8780],\n        [0.9947, 0.9947, 0.2762],\n        [0.7275, 0.8903, 0.8903]])"
     },
     "execution_count": 97,
     "metadata": {},
     "output_type": "execute_result"
    }
   ],
   "source": [
    "#define my custom implementation of maxPool1d ( assumes that x is 2D (C,W) shape)\n",
    "def my_MaxPool1d(x, kernel_size=2, stride=1, padding=0, dilation=1):\n",
    "    result = []\n",
    "    for row in x:\n",
    "        maxPoolForRow = []\n",
    "        #k represents start point of the kernel\n",
    "        for k in range(0, len(row) - kernel_size + 1, stride):\n",
    "            maxPoolForRow.append(max(row[k:k + kernel_size]))\n",
    "        result.append(maxPoolForRow)\n",
    "    result = torch.tensor(result)\n",
    "    return result\n",
    "\n",
    "\n",
    "output_from_my_implementation = my_MaxPool1d(random_tensor)\n",
    "output_from_my_implementation"
   ],
   "metadata": {
    "collapsed": false,
    "ExecuteTime": {
     "end_time": "2023-09-29T05:33:16.116103800Z",
     "start_time": "2023-09-29T05:33:16.101757900Z"
    }
   }
  },
  {
   "cell_type": "code",
   "execution_count": 98,
   "outputs": [
    {
     "data": {
      "text/plain": "True"
     },
     "execution_count": 98,
     "metadata": {},
     "output_type": "execute_result"
    }
   ],
   "source": [
    "#Assert that both are the same\n",
    "torch.equal(output_from_pytorch, output_from_my_implementation)"
   ],
   "metadata": {
    "collapsed": false,
    "ExecuteTime": {
     "end_time": "2023-09-29T05:33:16.601459Z",
     "start_time": "2023-09-29T05:33:16.585552700Z"
    }
   }
  },
  {
   "cell_type": "markdown",
   "source": [
    "#### 2. AvgPool1d"
   ],
   "metadata": {
    "collapsed": false
   }
  },
  {
   "cell_type": "code",
   "execution_count": 99,
   "outputs": [
    {
     "data": {
      "text/plain": "tensor([[0.5099, 0.7110, 0.6018, 0.9501],\n        [0.6111, 0.8375, 0.8109, 0.6189],\n        [0.7721, 0.2097, 0.9601, 0.4213]])"
     },
     "execution_count": 99,
     "metadata": {},
     "output_type": "execute_result"
    }
   ],
   "source": [
    "#Create some random input\n",
    "random_tensor = torch.rand(3, 4)\n",
    "random_tensor"
   ],
   "metadata": {
    "collapsed": false,
    "ExecuteTime": {
     "end_time": "2023-09-29T05:33:17.581138400Z",
     "start_time": "2023-09-29T05:33:17.565512300Z"
    }
   }
  },
  {
   "cell_type": "code",
   "execution_count": 100,
   "outputs": [
    {
     "data": {
      "text/plain": "tensor([[0.6104, 0.6564, 0.7760],\n        [0.7243, 0.8242, 0.7149],\n        [0.4909, 0.5849, 0.6907]])"
     },
     "execution_count": 100,
     "metadata": {},
     "output_type": "execute_result"
    }
   ],
   "source": [
    "#define the pytorch equivalent\n",
    "pytorch_avg_pool_fn = nn.AvgPool1d(kernel_size=2, stride=1, padding=0,ceil_mode=False, count_include_pad=True)\n",
    "output_from_pytorch = pytorch_avg_pool_fn(random_tensor)\n",
    "output_from_pytorch\n"
   ],
   "metadata": {
    "collapsed": false,
    "ExecuteTime": {
     "end_time": "2023-09-29T05:33:17.913693200Z",
     "start_time": "2023-09-29T05:33:17.898064400Z"
    }
   }
  },
  {
   "cell_type": "code",
   "execution_count": 101,
   "outputs": [
    {
     "data": {
      "text/plain": "tensor([[0.6104, 0.6564, 0.7760],\n        [0.7243, 0.8242, 0.7149],\n        [0.4909, 0.5849, 0.6907]])"
     },
     "execution_count": 101,
     "metadata": {},
     "output_type": "execute_result"
    }
   ],
   "source": [
    "#define my custom implementation of avgPool1d ( assumes that x is 2D (C,W) shape)\n",
    "def my_AvgPool1d(x, kernel_size=2, stride=1, padding=0, dilation=1):\n",
    "    result = []\n",
    "    for row in x:\n",
    "        maxPoolForRow = []\n",
    "        #k represents start point of the kernel\n",
    "        for k in range(0, len(row) - kernel_size + 1, stride):\n",
    "            maxPoolForRow.append(sum(row[k:k + kernel_size])/kernel_size)\n",
    "        result.append(maxPoolForRow)\n",
    "    result = torch.tensor(result)\n",
    "    return result\n",
    "\n",
    "\n",
    "output_from_my_implementation = my_AvgPool1d(random_tensor)\n",
    "output_from_my_implementation"
   ],
   "metadata": {
    "collapsed": false,
    "ExecuteTime": {
     "end_time": "2023-09-29T05:33:18.233774600Z",
     "start_time": "2023-09-29T05:33:18.224706800Z"
    }
   }
  },
  {
   "cell_type": "code",
   "execution_count": 102,
   "outputs": [
    {
     "data": {
      "text/plain": "True"
     },
     "execution_count": 102,
     "metadata": {},
     "output_type": "execute_result"
    }
   ],
   "source": [
    "#Assert that both are the same\n",
    "torch.equal(output_from_pytorch, output_from_my_implementation)"
   ],
   "metadata": {
    "collapsed": false,
    "ExecuteTime": {
     "end_time": "2023-09-29T05:33:18.601809700Z",
     "start_time": "2023-09-29T05:33:18.538860Z"
    }
   }
  },
  {
   "cell_type": "markdown",
   "source": [
    "#### 3. Conv1d"
   ],
   "metadata": {
    "collapsed": false
   }
  },
  {
   "cell_type": "code",
   "execution_count": 103,
   "outputs": [],
   "source": [
    "#Loading the given filter and input tensors\n",
    "pixel_input = torch.load(\"./pixel_input.pt\") #Shape (1,1,32)\n",
    "filter = torch.load(\"./filter.pt\") #(Shape 3,1,1)"
   ],
   "metadata": {
    "collapsed": false,
    "ExecuteTime": {
     "end_time": "2023-09-29T05:33:19.252890900Z",
     "start_time": "2023-09-29T05:33:19.237299200Z"
    }
   }
  },
  {
   "cell_type": "code",
   "execution_count": 104,
   "outputs": [],
   "source": [
    "#define pytorch equivalent\n",
    "pytorch_conv1d_output = nn.functional.conv1d(pixel_input, filter, bias = None,stride = 1, padding = 0, dilation = 1, groups = 1)\n",
    "\n",
    "#Shape is (1,3,32)"
   ],
   "metadata": {
    "collapsed": false,
    "ExecuteTime": {
     "end_time": "2023-09-29T05:33:19.615667200Z",
     "start_time": "2023-09-29T05:33:19.603597300Z"
    }
   }
  },
  {
   "cell_type": "code",
   "execution_count": 120,
   "outputs": [],
   "source": [
    "#define custom implementation\n",
    "def my_Conv1d(inp, filter, stride=1, padding=0, dilation=1, groups = 1):\n",
    "    result = []\n",
    "\n",
    "    for f in filter:\n",
    "        #as f in this case is 1x1 ( but it could in theory be something like 1 x k)\n",
    "        f = f[0]\n",
    "        batch_row = []\n",
    "        for batch in inp: #(1,32)\n",
    "            conv_row = []\n",
    "            for channel in batch: #(32,)\n",
    "                #convolve f over this channel array using this filter by using dot product to convolve!\n",
    "                for f_ind in range(0, len(channel) - len(f) + 1, stride):\n",
    "                    f = np.array(f)\n",
    "                    conv_row.append(np.dot(f, np.array(channel[f_ind: f_ind + len(f)])))\n",
    "            batch_row.append(conv_row)\n",
    "        result.append(batch_row)\n",
    "\n",
    "    result = torch.tensor(result)\n",
    "\n",
    "    #permute it so that the shapes are correct.\n",
    "    result = result.permute(1,0,2)\n",
    "    return result\n",
    "\n",
    "my_conv1d_output = my_Conv1d(pixel_input, filter)"
   ],
   "metadata": {
    "collapsed": false,
    "ExecuteTime": {
     "end_time": "2023-09-29T07:56:07.904143800Z",
     "start_time": "2023-09-29T07:56:07.872891900Z"
    }
   }
  },
  {
   "cell_type": "code",
   "execution_count": 121,
   "outputs": [
    {
     "data": {
      "text/plain": "True"
     },
     "execution_count": 121,
     "metadata": {},
     "output_type": "execute_result"
    }
   ],
   "source": [
    "#Assert that both are the same\n",
    "torch.equal(pytorch_conv1d_output, my_conv1d_output)"
   ],
   "metadata": {
    "collapsed": false,
    "ExecuteTime": {
     "end_time": "2023-09-29T07:56:09.597989200Z",
     "start_time": "2023-09-29T07:56:09.582350700Z"
    }
   }
  },
  {
   "cell_type": "markdown",
   "source": [
    "#### 4. Sigmoid\n",
    "\n"
   ],
   "metadata": {
    "collapsed": false
   }
  },
  {
   "cell_type": "code",
   "execution_count": 122,
   "outputs": [
    {
     "data": {
      "text/plain": "tensor([[0.8103, 0.1572],\n        [0.4445, 0.2277]])"
     },
     "execution_count": 122,
     "metadata": {},
     "output_type": "execute_result"
    }
   ],
   "source": [
    "#Create some random input\n",
    "random_tensor = torch.rand(2, 2)\n",
    "random_tensor"
   ],
   "metadata": {
    "collapsed": false,
    "ExecuteTime": {
     "end_time": "2023-09-29T07:56:19.144224500Z",
     "start_time": "2023-09-29T07:56:19.128594600Z"
    }
   }
  },
  {
   "cell_type": "code",
   "execution_count": 123,
   "outputs": [
    {
     "data": {
      "text/plain": "tensor([[0.6922, 0.5392],\n        [0.6093, 0.5567]])"
     },
     "execution_count": 123,
     "metadata": {},
     "output_type": "execute_result"
    }
   ],
   "source": [
    "#define the pytorch equivalent\n",
    "pytorch_sigmoid_fn = nn.Sigmoid()\n",
    "output_from_pytorch = pytorch_sigmoid_fn(random_tensor)\n",
    "output_from_pytorch\n"
   ],
   "metadata": {
    "collapsed": false,
    "ExecuteTime": {
     "end_time": "2023-09-29T07:56:22.223369600Z",
     "start_time": "2023-09-29T07:56:22.192083300Z"
    }
   }
  },
  {
   "cell_type": "code",
   "execution_count": 124,
   "outputs": [
    {
     "name": "stderr",
     "output_type": "stream",
     "text": [
      "C:\\Users\\paras\\AppData\\Local\\Temp\\ipykernel_5716\\1711964653.py:5: UserWarning: To copy construct from a tensor, it is recommended to use sourceTensor.clone().detach() or sourceTensor.clone().detach().requires_grad_(True), rather than torch.tensor(sourceTensor).\n",
      "  output_from_my_implementation = torch.tensor(my_Sigmoid(random_tensor))\n"
     ]
    },
    {
     "data": {
      "text/plain": "tensor([[0.6922, 0.5392],\n        [0.6093, 0.5567]])"
     },
     "execution_count": 124,
     "metadata": {},
     "output_type": "execute_result"
    }
   ],
   "source": [
    "#define my custom implementation of maxPool1d ( assumes that x is 2D (C,W) shape)\n",
    "def my_Sigmoid(x):\n",
    "    return 1/(1+np.exp(-x))\n",
    "\n",
    "output_from_my_implementation = torch.tensor(my_Sigmoid(random_tensor))\n",
    "output_from_my_implementation"
   ],
   "metadata": {
    "collapsed": false,
    "ExecuteTime": {
     "end_time": "2023-09-29T07:56:40.097067600Z",
     "start_time": "2023-09-29T07:56:40.063292600Z"
    }
   }
  },
  {
   "cell_type": "code",
   "execution_count": 125,
   "outputs": [
    {
     "data": {
      "text/plain": "True"
     },
     "execution_count": 125,
     "metadata": {},
     "output_type": "execute_result"
    }
   ],
   "source": [
    "#Assert that both are the same\n",
    "torch.equal(pytorch_conv1d_output, my_conv1d_output)"
   ],
   "metadata": {
    "collapsed": false,
    "ExecuteTime": {
     "end_time": "2023-09-29T07:56:42.316941Z",
     "start_time": "2023-09-29T07:56:42.300272800Z"
    }
   }
  },
  {
   "cell_type": "markdown",
   "source": [
    "#### 5. BatchNorm1d"
   ],
   "metadata": {
    "collapsed": false
   }
  },
  {
   "cell_type": "code",
   "execution_count": 126,
   "outputs": [
    {
     "data": {
      "text/plain": "tensor([[[0.8012, 0.8653, 0.0883, 0.3625]],\n\n        [[0.9214, 0.6491, 0.8451, 0.5259]]])"
     },
     "execution_count": 126,
     "metadata": {},
     "output_type": "execute_result"
    }
   ],
   "source": [
    "#Create some random input\n",
    "random_tensor = torch.rand(2,1,4) #(batchsize,numfeatures, actualfeatures)\n",
    "random_tensor"
   ],
   "metadata": {
    "collapsed": false,
    "ExecuteTime": {
     "end_time": "2023-09-29T07:56:47.519816Z",
     "start_time": "2023-09-29T07:56:47.505259600Z"
    }
   }
  },
  {
   "cell_type": "code",
   "execution_count": 127,
   "outputs": [
    {
     "data": {
      "text/plain": "tensor([[[ 0.6205,  0.8562, -1.9999, -0.9918]],\n\n        [[ 1.0624,  0.0616,  0.7822, -0.3914]]])"
     },
     "execution_count": 127,
     "metadata": {},
     "output_type": "execute_result"
    }
   ],
   "source": [
    "#define the pytorch equivalent\n",
    "pytorch_batchnorm_fn = nn.BatchNorm1d(1, eps=1e-05, momentum=0.1, affine=True, track_running_stats=True, device=None, dtype=None)\n",
    "output_from_pytorch = pytorch_batchnorm_fn(random_tensor)\n",
    "output_from_pytorch = output_from_pytorch.data.detach()\n",
    "output_from_pytorch"
   ],
   "metadata": {
    "collapsed": false,
    "ExecuteTime": {
     "end_time": "2023-09-29T07:56:47.855829900Z",
     "start_time": "2023-09-29T07:56:47.808456700Z"
    }
   }
  },
  {
   "cell_type": "code",
   "execution_count": 128,
   "outputs": [
    {
     "data": {
      "text/plain": "tensor([[[ 0.6205,  0.8562, -1.9999, -0.9918]],\n\n        [[ 1.0624,  0.0616,  0.7822, -0.3914]]])"
     },
     "execution_count": 128,
     "metadata": {},
     "output_type": "execute_result"
    }
   ],
   "source": [
    "#define my custom implementation of batchnorm ( assumes that x is 3D (B,1,N) shape)\n",
    "def my_BatchNorm1d(x, eps=1e-05, momentum=0.1, affine=True):\n",
    "    #momentum is used only during training and not used during inference!\n",
    "    # Compute batch mean and batch variance\n",
    "    batch_mean = x.mean(dim=(0, 2), keepdim=True)\n",
    "    batch_var = x.var(dim=(0, 2), unbiased=False, keepdim=True)\n",
    "\n",
    "    # Normalize the input using batch mean and variance\n",
    "    x_normalized = (x - batch_mean) / torch.sqrt(batch_var + eps)\n",
    "\n",
    "    return x_normalized\n",
    "\n",
    "output_from_my_implementation = my_BatchNorm1d(random_tensor)\n",
    "output_from_my_implementation"
   ],
   "metadata": {
    "collapsed": false,
    "ExecuteTime": {
     "end_time": "2023-09-29T07:56:58.758686600Z",
     "start_time": "2023-09-29T07:56:58.727398300Z"
    }
   }
  },
  {
   "cell_type": "code",
   "execution_count": 129,
   "outputs": [
    {
     "data": {
      "text/plain": "True"
     },
     "execution_count": 129,
     "metadata": {},
     "output_type": "execute_result"
    }
   ],
   "source": [
    "#Assert that both are the same\n",
    "torch.allclose(output_from_pytorch, output_from_my_implementation, rtol=1e-05, atol=1e-05)"
   ],
   "metadata": {
    "collapsed": false,
    "ExecuteTime": {
     "end_time": "2023-09-29T07:56:59.602092100Z",
     "start_time": "2023-09-29T07:56:59.570383900Z"
    }
   }
  },
  {
   "cell_type": "markdown",
   "source": [
    "#### 6. Linear"
   ],
   "metadata": {
    "collapsed": false
   }
  },
  {
   "cell_type": "code",
   "execution_count": 130,
   "outputs": [
    {
     "data": {
      "text/plain": "tensor([[0.5134, 0.2622, 0.7205],\n        [0.0827, 0.9248, 0.4095],\n        [0.5334, 0.2096, 0.2256],\n        [0.7453, 0.0175, 0.8764]])"
     },
     "execution_count": 130,
     "metadata": {},
     "output_type": "execute_result"
    }
   ],
   "source": [
    "#Create some random input\n",
    "random_tensor = torch.rand(4,3)\n",
    "random_tensor"
   ],
   "metadata": {
    "collapsed": false,
    "ExecuteTime": {
     "end_time": "2023-09-29T07:57:01.437166Z",
     "start_time": "2023-09-29T07:57:01.421829300Z"
    }
   }
  },
  {
   "cell_type": "code",
   "execution_count": 134,
   "outputs": [
    {
     "data": {
      "text/plain": "tensor([[ 0.5355, -0.1164, -0.4184,  0.6875, -0.5266],\n        [ 0.0998, -0.3222, -0.7425,  0.4450, -0.7156],\n        [ 0.6154, -0.0929, -0.4633,  0.4859, -0.3784],\n        [ 0.7250, -0.0533, -0.2870,  0.8293, -0.4755]])"
     },
     "execution_count": 134,
     "metadata": {},
     "output_type": "execute_result"
    }
   ],
   "source": [
    "#define the pytorch equivalent\n",
    "in_features = 3\n",
    "out_features = 5\n",
    "pytorch_linear_fn = nn.Linear(in_features, out_features, bias=True)\n",
    "output_from_pytorch = pytorch_linear_fn(random_tensor)\n",
    "output_from_pytorch = output_from_pytorch.data.detach()\n",
    "output_from_pytorch"
   ],
   "metadata": {
    "collapsed": false,
    "ExecuteTime": {
     "end_time": "2023-09-29T07:58:32.074120400Z",
     "start_time": "2023-09-29T07:58:32.058057400Z"
    }
   }
  },
  {
   "cell_type": "code",
   "execution_count": 135,
   "outputs": [
    {
     "name": "stderr",
     "output_type": "stream",
     "text": [
      "C:\\Users\\paras\\AppData\\Local\\Temp\\ipykernel_5716\\2481492983.py:7: UserWarning: To copy construct from a tensor, it is recommended to use sourceTensor.clone().detach() or sourceTensor.clone().detach().requires_grad_(True), rather than torch.tensor(sourceTensor).\n",
      "  return torch.tensor(np.matmul(x, weights)) + biases\n"
     ]
    },
    {
     "data": {
      "text/plain": "tensor([[-1.4493,  0.4005,  3.1598, -0.5529, -1.6624],\n        [-1.5099,  1.1979,  1.3416, -0.4581, -1.6808],\n        [-2.2352,  0.6601,  2.1254, -0.5660, -0.8809],\n        [-1.4059, -0.0915,  3.9784, -0.5868, -1.7810]])"
     },
     "execution_count": 135,
     "metadata": {},
     "output_type": "execute_result"
    }
   ],
   "source": [
    "#define my custom implementation of batchnorm ( assumes that x is 3D (B,1,N) shape)\n",
    "def my_Linear(x, in_features=3, out_features=5):\n",
    "    weights = torch.randn(in_features, out_features)  # Corrected order\n",
    "    biases = torch.randn(out_features)\n",
    "\n",
    "    # Perform linear transformation\n",
    "    return torch.tensor(np.matmul(x, weights)) + biases\n",
    "\n",
    "output_from_my_implementation = my_Linear(random_tensor)\n",
    "output_from_my_implementation"
   ],
   "metadata": {
    "collapsed": false,
    "ExecuteTime": {
     "end_time": "2023-09-29T07:58:32.510996Z",
     "start_time": "2023-09-29T07:58:32.494071100Z"
    }
   }
  },
  {
   "cell_type": "code",
   "execution_count": 136,
   "outputs": [
    {
     "data": {
      "text/plain": "True"
     },
     "execution_count": 136,
     "metadata": {},
     "output_type": "execute_result"
    }
   ],
   "source": [
    "#Assert that both are the same size as the data inside may be random\n",
    "output_from_pytorch.shape == output_from_my_implementation.shape"
   ],
   "metadata": {
    "collapsed": false,
    "ExecuteTime": {
     "end_time": "2023-09-29T07:58:33.519348100Z",
     "start_time": "2023-09-29T07:58:33.503723300Z"
    }
   }
  }
 ],
 "metadata": {
  "kernelspec": {
   "display_name": "Python 3",
   "language": "python",
   "name": "python3"
  },
  "language_info": {
   "codemirror_mode": {
    "name": "ipython",
    "version": 2
   },
   "file_extension": ".py",
   "mimetype": "text/x-python",
   "name": "python",
   "nbconvert_exporter": "python",
   "pygments_lexer": "ipython2",
   "version": "2.7.6"
  }
 },
 "nbformat": 4,
 "nbformat_minor": 0
}
