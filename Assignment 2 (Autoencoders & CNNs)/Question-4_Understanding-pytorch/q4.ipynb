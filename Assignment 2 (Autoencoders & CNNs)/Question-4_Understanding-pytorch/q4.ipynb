{
 "cells": [
  {
   "cell_type": "code",
   "execution_count": 94,
   "metadata": {
    "collapsed": true,
    "ExecuteTime": {
     "end_time": "2023-09-29T05:33:14.342767Z",
     "start_time": "2023-09-29T05:33:14.326635800Z"
    }
   },
   "outputs": [],
   "source": [
    "import torch\n",
    "import torch.nn as nn"
   ]
  },
  {
   "cell_type": "markdown",
   "source": [
    "### <u>Compare functions one by one</u>"
   ],
   "metadata": {
    "collapsed": false
   }
  },
  {
   "cell_type": "markdown",
   "source": [
    "#### 1. MaxPool1d"
   ],
   "metadata": {
    "collapsed": false
   }
  },
  {
   "cell_type": "code",
   "execution_count": 95,
   "outputs": [
    {
     "data": {
      "text/plain": "tensor([[0.6735, 0.5949, 0.8780, 0.8296],\n        [0.3949, 0.9947, 0.2762, 0.1802],\n        [0.7275, 0.5064, 0.8903, 0.1068]])"
     },
     "execution_count": 95,
     "metadata": {},
     "output_type": "execute_result"
    }
   ],
   "source": [
    "#Create some random input\n",
    "random_tensor = torch.rand(3, 4)\n",
    "random_tensor"
   ],
   "metadata": {
    "collapsed": false,
    "ExecuteTime": {
     "end_time": "2023-09-29T05:33:15.361272300Z",
     "start_time": "2023-09-29T05:33:15.345615100Z"
    }
   }
  },
  {
   "cell_type": "code",
   "execution_count": 96,
   "outputs": [
    {
     "data": {
      "text/plain": "tensor([[0.6735, 0.8780, 0.8780],\n        [0.9947, 0.9947, 0.2762],\n        [0.7275, 0.8903, 0.8903]])"
     },
     "execution_count": 96,
     "metadata": {},
     "output_type": "execute_result"
    }
   ],
   "source": [
    "#define the pytorch equivalent\n",
    "pytorch_max_pool_fn = nn.MaxPool1d(kernel_size=2, stride=1, padding=0,dilation=1, return_indices=False, ceil_mode=False)\n",
    "output_from_pytorch = pytorch_max_pool_fn(random_tensor)\n",
    "output_from_pytorch"
   ],
   "metadata": {
    "collapsed": false,
    "ExecuteTime": {
     "end_time": "2023-09-29T05:33:15.756463300Z",
     "start_time": "2023-09-29T05:33:15.724600700Z"
    }
   }
  },
  {
   "cell_type": "code",
   "execution_count": 97,
   "outputs": [
    {
     "data": {
      "text/plain": "tensor([[0.6735, 0.8780, 0.8780],\n        [0.9947, 0.9947, 0.2762],\n        [0.7275, 0.8903, 0.8903]])"
     },
     "execution_count": 97,
     "metadata": {},
     "output_type": "execute_result"
    }
   ],
   "source": [
    "#define my custom implementation of maxPool1d ( assumes that x is 2D (C,W) shape)\n",
    "def my_MaxPool1d(x, kernel_size=2, stride=1, padding=0, dilation=1):\n",
    "    result = []\n",
    "    for row in x:\n",
    "        maxPoolForRow = []\n",
    "        #k represents start point of the kernel\n",
    "        for k in range(0, len(row) - kernel_size + 1, stride):\n",
    "            maxPoolForRow.append(max(row[k:k + kernel_size]))\n",
    "        result.append(maxPoolForRow)\n",
    "    result = torch.tensor(result)\n",
    "    return result\n",
    "\n",
    "\n",
    "output_from_my_implementation = my_MaxPool1d(random_tensor)\n",
    "output_from_my_implementation"
   ],
   "metadata": {
    "collapsed": false,
    "ExecuteTime": {
     "end_time": "2023-09-29T05:33:16.116103800Z",
     "start_time": "2023-09-29T05:33:16.101757900Z"
    }
   }
  },
  {
   "cell_type": "code",
   "execution_count": 98,
   "outputs": [
    {
     "data": {
      "text/plain": "True"
     },
     "execution_count": 98,
     "metadata": {},
     "output_type": "execute_result"
    }
   ],
   "source": [
    "#Assert that both are the same\n",
    "torch.equal(output_from_pytorch, output_from_my_implementation)"
   ],
   "metadata": {
    "collapsed": false,
    "ExecuteTime": {
     "end_time": "2023-09-29T05:33:16.601459Z",
     "start_time": "2023-09-29T05:33:16.585552700Z"
    }
   }
  },
  {
   "cell_type": "markdown",
   "source": [
    "#### 2. AvgPool1d"
   ],
   "metadata": {
    "collapsed": false
   }
  },
  {
   "cell_type": "code",
   "execution_count": 99,
   "outputs": [
    {
     "data": {
      "text/plain": "tensor([[0.5099, 0.7110, 0.6018, 0.9501],\n        [0.6111, 0.8375, 0.8109, 0.6189],\n        [0.7721, 0.2097, 0.9601, 0.4213]])"
     },
     "execution_count": 99,
     "metadata": {},
     "output_type": "execute_result"
    }
   ],
   "source": [
    "#Create some random input\n",
    "random_tensor = torch.rand(3, 4)\n",
    "random_tensor"
   ],
   "metadata": {
    "collapsed": false,
    "ExecuteTime": {
     "end_time": "2023-09-29T05:33:17.581138400Z",
     "start_time": "2023-09-29T05:33:17.565512300Z"
    }
   }
  },
  {
   "cell_type": "code",
   "execution_count": 100,
   "outputs": [
    {
     "data": {
      "text/plain": "tensor([[0.6104, 0.6564, 0.7760],\n        [0.7243, 0.8242, 0.7149],\n        [0.4909, 0.5849, 0.6907]])"
     },
     "execution_count": 100,
     "metadata": {},
     "output_type": "execute_result"
    }
   ],
   "source": [
    "#define the pytorch equivalent\n",
    "pytorch_avg_pool_fn = nn.AvgPool1d(kernel_size=2, stride=1, padding=0,ceil_mode=False, count_include_pad=True)\n",
    "output_from_pytorch = pytorch_avg_pool_fn(random_tensor)\n",
    "output_from_pytorch\n"
   ],
   "metadata": {
    "collapsed": false,
    "ExecuteTime": {
     "end_time": "2023-09-29T05:33:17.913693200Z",
     "start_time": "2023-09-29T05:33:17.898064400Z"
    }
   }
  },
  {
   "cell_type": "code",
   "execution_count": 101,
   "outputs": [
    {
     "data": {
      "text/plain": "tensor([[0.6104, 0.6564, 0.7760],\n        [0.7243, 0.8242, 0.7149],\n        [0.4909, 0.5849, 0.6907]])"
     },
     "execution_count": 101,
     "metadata": {},
     "output_type": "execute_result"
    }
   ],
   "source": [
    "#define my custom implementation of avgPool1d ( assumes that x is 2D (C,W) shape)\n",
    "def my_AvgPool1d(x, kernel_size=2, stride=1, padding=0, dilation=1):\n",
    "    result = []\n",
    "    for row in x:\n",
    "        maxPoolForRow = []\n",
    "        #k represents start point of the kernel\n",
    "        for k in range(0, len(row) - kernel_size + 1, stride):\n",
    "            maxPoolForRow.append(sum(row[k:k + kernel_size])/kernel_size)\n",
    "        result.append(maxPoolForRow)\n",
    "    result = torch.tensor(result)\n",
    "    return result\n",
    "\n",
    "\n",
    "output_from_my_implementation = my_AvgPool1d(random_tensor)\n",
    "output_from_my_implementation"
   ],
   "metadata": {
    "collapsed": false,
    "ExecuteTime": {
     "end_time": "2023-09-29T05:33:18.233774600Z",
     "start_time": "2023-09-29T05:33:18.224706800Z"
    }
   }
  },
  {
   "cell_type": "code",
   "execution_count": 102,
   "outputs": [
    {
     "data": {
      "text/plain": "True"
     },
     "execution_count": 102,
     "metadata": {},
     "output_type": "execute_result"
    }
   ],
   "source": [
    "#Assert that both are the same\n",
    "torch.equal(output_from_pytorch, output_from_my_implementation)"
   ],
   "metadata": {
    "collapsed": false,
    "ExecuteTime": {
     "end_time": "2023-09-29T05:33:18.601809700Z",
     "start_time": "2023-09-29T05:33:18.538860Z"
    }
   }
  },
  {
   "cell_type": "markdown",
   "source": [
    "#### 3. Conv1d"
   ],
   "metadata": {
    "collapsed": false
   }
  },
  {
   "cell_type": "code",
   "execution_count": 103,
   "outputs": [],
   "source": [
    "#Loading the given filter and input tensors\n",
    "pixel_input = torch.load(\"./pixel_input.pt\") #Shape (1,1,32)\n",
    "filter = torch.load(\"./filter.pt\") #(Shape 3,1,1)"
   ],
   "metadata": {
    "collapsed": false,
    "ExecuteTime": {
     "end_time": "2023-09-29T05:33:19.252890900Z",
     "start_time": "2023-09-29T05:33:19.237299200Z"
    }
   }
  },
  {
   "cell_type": "code",
   "execution_count": 104,
   "outputs": [],
   "source": [
    "#define pytorch equivalent\n",
    "pytorch_conv1d_output = nn.functional.conv1d(pixel_input, filter, bias = None,stride = 1, padding = 0, dilation = 1, groups = 1)\n",
    "\n",
    "#Shape is (1,3,32)"
   ],
   "metadata": {
    "collapsed": false,
    "ExecuteTime": {
     "end_time": "2023-09-29T05:33:19.615667200Z",
     "start_time": "2023-09-29T05:33:19.603597300Z"
    }
   }
  },
  {
   "cell_type": "code",
   "execution_count": 105,
   "outputs": [],
   "source": [
    "#define custom implementation\n",
    "def my_Conv1d(inp, filter, stride=1, padding=0, dilation=1, groups = 1):\n",
    "    result = []\n",
    "\n",
    "    for f in filter:\n",
    "        #as f in this case is 1x1 ( but it could in theory be something like 1 x k)\n",
    "        f = f[0]\n",
    "        batch_row = []\n",
    "        for batch in inp: #(1,32)\n",
    "            conv_row = []\n",
    "            for channel in batch: #(32,)\n",
    "                #convolve f over this channel array using this filter by using dot product to convolve!\n",
    "                for f_ind in range(0, len(channel) - len(f) + 1, stride):\n",
    "                    conv_row.append(torch.dot(f, channel[f_ind: f_ind + len(f)]))\n",
    "            batch_row.append(conv_row)\n",
    "        result.append(batch_row)\n",
    "\n",
    "    result = torch.tensor(result)\n",
    "\n",
    "    #permute it so that the shapes are correct.\n",
    "    result = result.permute(1,0,2)\n",
    "    return result\n",
    "\n",
    "my_conv1d_output = my_Conv1d(pixel_input, filter)"
   ],
   "metadata": {
    "collapsed": false,
    "ExecuteTime": {
     "end_time": "2023-09-29T05:33:19.948053700Z",
     "start_time": "2023-09-29T05:33:19.916780200Z"
    }
   }
  },
  {
   "cell_type": "code",
   "execution_count": 106,
   "outputs": [
    {
     "data": {
      "text/plain": "True"
     },
     "execution_count": 106,
     "metadata": {},
     "output_type": "execute_result"
    }
   ],
   "source": [
    "#Assert that both are the same\n",
    "torch.equal(pytorch_conv1d_output, my_conv1d_output)"
   ],
   "metadata": {
    "collapsed": false,
    "ExecuteTime": {
     "end_time": "2023-09-29T05:33:20.313673400Z",
     "start_time": "2023-09-29T05:33:20.282436100Z"
    }
   }
  },
  {
   "cell_type": "markdown",
   "source": [
    "#### 4. Sigmoid\n",
    "\n"
   ],
   "metadata": {
    "collapsed": false
   }
  },
  {
   "cell_type": "code",
   "execution_count": 107,
   "outputs": [
    {
     "data": {
      "text/plain": "tensor([[0.5459, 0.0456],\n        [0.0720, 0.1420]])"
     },
     "execution_count": 107,
     "metadata": {},
     "output_type": "execute_result"
    }
   ],
   "source": [
    "#Create some random input\n",
    "random_tensor = torch.rand(2, 2)\n",
    "random_tensor"
   ],
   "metadata": {
    "collapsed": false,
    "ExecuteTime": {
     "end_time": "2023-09-29T05:33:21.113160500Z",
     "start_time": "2023-09-29T05:33:21.097490900Z"
    }
   }
  },
  {
   "cell_type": "code",
   "execution_count": 108,
   "outputs": [
    {
     "data": {
      "text/plain": "tensor([[0.6332, 0.5114],\n        [0.5180, 0.5354]])"
     },
     "execution_count": 108,
     "metadata": {},
     "output_type": "execute_result"
    }
   ],
   "source": [
    "#define the pytorch equivalent\n",
    "pytorch_sigmoid_fn = nn.Sigmoid()\n",
    "output_from_pytorch = pytorch_sigmoid_fn(random_tensor)\n",
    "output_from_pytorch\n"
   ],
   "metadata": {
    "collapsed": false,
    "ExecuteTime": {
     "end_time": "2023-09-29T05:33:21.421949300Z",
     "start_time": "2023-09-29T05:33:21.406686600Z"
    }
   }
  },
  {
   "cell_type": "code",
   "execution_count": 109,
   "outputs": [
    {
     "data": {
      "text/plain": "tensor([[0.6332, 0.5114],\n        [0.5180, 0.5354]])"
     },
     "execution_count": 109,
     "metadata": {},
     "output_type": "execute_result"
    }
   ],
   "source": [
    "#define my custom implementation of maxPool1d ( assumes that x is 2D (C,W) shape)\n",
    "def my_Sigmoid(x):\n",
    "    return 1/(1+torch.exp(-x))\n",
    "\n",
    "output_from_my_implementation = my_Sigmoid(random_tensor)\n",
    "output_from_my_implementation"
   ],
   "metadata": {
    "collapsed": false,
    "ExecuteTime": {
     "end_time": "2023-09-29T05:33:21.719505600Z",
     "start_time": "2023-09-29T05:33:21.703879200Z"
    }
   }
  },
  {
   "cell_type": "code",
   "execution_count": 110,
   "outputs": [
    {
     "data": {
      "text/plain": "True"
     },
     "execution_count": 110,
     "metadata": {},
     "output_type": "execute_result"
    }
   ],
   "source": [
    "#Assert that both are the same\n",
    "torch.equal(pytorch_conv1d_output, my_conv1d_output)"
   ],
   "metadata": {
    "collapsed": false,
    "ExecuteTime": {
     "end_time": "2023-09-29T05:33:22.140208900Z",
     "start_time": "2023-09-29T05:33:22.078102100Z"
    }
   }
  },
  {
   "cell_type": "markdown",
   "source": [
    "#### 5. BatchNorm1d"
   ],
   "metadata": {
    "collapsed": false
   }
  },
  {
   "cell_type": "code",
   "execution_count": 111,
   "outputs": [
    {
     "data": {
      "text/plain": "tensor([[[0.1715, 0.7690, 0.0808, 0.1541]],\n\n        [[0.3075, 0.4730, 0.8076, 0.8334]]])"
     },
     "execution_count": 111,
     "metadata": {},
     "output_type": "execute_result"
    }
   ],
   "source": [
    "#Create some random input\n",
    "random_tensor = torch.rand(2,1,4) #(batchsize,numfeatures, actualfeatures)\n",
    "random_tensor"
   ],
   "metadata": {
    "collapsed": false,
    "ExecuteTime": {
     "end_time": "2023-09-29T05:33:22.820706200Z",
     "start_time": "2023-09-29T05:33:22.805067700Z"
    }
   }
  },
  {
   "cell_type": "code",
   "execution_count": 112,
   "outputs": [
    {
     "data": {
      "text/plain": "tensor([[[-0.9408,  1.0804, -1.2479, -0.9997]],\n\n        [[-0.4807,  0.0791,  1.2110,  1.2985]]])"
     },
     "execution_count": 112,
     "metadata": {},
     "output_type": "execute_result"
    }
   ],
   "source": [
    "#define the pytorch equivalent\n",
    "pytorch_batchnorm_fn = nn.BatchNorm1d(1, eps=1e-05, momentum=0.1, affine=True, track_running_stats=True, device=None, dtype=None)\n",
    "output_from_pytorch = pytorch_batchnorm_fn(random_tensor)\n",
    "output_from_pytorch = output_from_pytorch.data.detach()\n",
    "output_from_pytorch"
   ],
   "metadata": {
    "collapsed": false,
    "ExecuteTime": {
     "end_time": "2023-09-29T05:33:23.123101Z",
     "start_time": "2023-09-29T05:33:23.107976700Z"
    }
   }
  },
  {
   "cell_type": "code",
   "execution_count": 113,
   "outputs": [
    {
     "data": {
      "text/plain": "tensor([[[-0.9408,  1.0804, -1.2479, -0.9997]],\n\n        [[-0.4807,  0.0791,  1.2110,  1.2985]]])"
     },
     "execution_count": 113,
     "metadata": {},
     "output_type": "execute_result"
    }
   ],
   "source": [
    "#define my custom implementation of batchnorm ( assumes that x is 3D (B,1,N) shape)\n",
    "def my_BatchNorm1d(x, eps=1e-05, momentum=0.1, affine=True):\n",
    "    #momentum is used only during training and not used during inference!\n",
    "    # Compute batch mean and batch variance\n",
    "    batch_mean = x.mean(dim=(0, 2), keepdim=True)\n",
    "    batch_var = x.var(dim=(0, 2), unbiased=False, keepdim=True)\n",
    "\n",
    "    # Normalize the input using batch mean and variance\n",
    "    x_normalized = (x - batch_mean) / torch.sqrt(batch_var + eps)\n",
    "\n",
    "    return x_normalized\n",
    "\n",
    "output_from_my_implementation = my_BatchNorm1d(random_tensor)\n",
    "output_from_my_implementation"
   ],
   "metadata": {
    "collapsed": false,
    "ExecuteTime": {
     "end_time": "2023-09-29T05:33:23.399033Z",
     "start_time": "2023-09-29T05:33:23.367663100Z"
    }
   }
  },
  {
   "cell_type": "code",
   "execution_count": 114,
   "outputs": [
    {
     "data": {
      "text/plain": "True"
     },
     "execution_count": 114,
     "metadata": {},
     "output_type": "execute_result"
    }
   ],
   "source": [
    "#Assert that both are the same\n",
    "torch.allclose(output_from_pytorch, output_from_my_implementation, rtol=1e-05, atol=1e-05)"
   ],
   "metadata": {
    "collapsed": false,
    "ExecuteTime": {
     "end_time": "2023-09-29T05:33:23.661474800Z",
     "start_time": "2023-09-29T05:33:23.645452700Z"
    }
   }
  },
  {
   "cell_type": "markdown",
   "source": [
    "#### 6. Linear"
   ],
   "metadata": {
    "collapsed": false
   }
  },
  {
   "cell_type": "code",
   "execution_count": 115,
   "outputs": [
    {
     "data": {
      "text/plain": "tensor([[0.2100, 0.7635, 0.4117],\n        [0.7382, 0.9847, 0.2794],\n        [0.4901, 0.1510, 0.3108],\n        [0.9837, 0.4750, 0.9455]])"
     },
     "execution_count": 115,
     "metadata": {},
     "output_type": "execute_result"
    }
   ],
   "source": [
    "#Create some random input\n",
    "random_tensor = torch.rand(4,3)\n",
    "random_tensor"
   ],
   "metadata": {
    "collapsed": false,
    "ExecuteTime": {
     "end_time": "2023-09-29T05:33:24.357730800Z",
     "start_time": "2023-09-29T05:33:24.340541700Z"
    }
   }
  },
  {
   "cell_type": "code",
   "execution_count": 116,
   "outputs": [
    {
     "data": {
      "text/plain": "tensor([[-0.4839,  0.8569,  0.2203,  0.3922, -0.9922],\n        [-0.3001,  0.9489,  0.2005,  0.4876, -0.8936],\n        [-0.0809,  0.6080, -0.1912,  0.0976, -0.5068],\n        [ 0.1376,  1.0333, -0.2396, -0.1431, -0.9159]])"
     },
     "execution_count": 116,
     "metadata": {},
     "output_type": "execute_result"
    }
   ],
   "source": [
    "#define the pytorch equivalent\n",
    "in_features = 3\n",
    "out_features = 5\n",
    "pytorch_linear_fn = nn.Linear(in_features, out_features, bias=True)\n",
    "output_from_pytorch = pytorch_linear_fn(random_tensor)\n",
    "output_from_pytorch = output_from_pytorch.data.detach()\n",
    "output_from_pytorch"
   ],
   "metadata": {
    "collapsed": false,
    "ExecuteTime": {
     "end_time": "2023-09-29T05:33:24.850404700Z",
     "start_time": "2023-09-29T05:33:24.834761600Z"
    }
   }
  },
  {
   "cell_type": "code",
   "execution_count": 117,
   "outputs": [
    {
     "data": {
      "text/plain": "tensor([[ 0.9288,  2.0881,  0.9052, -0.6827, -2.0643],\n        [ 1.0260,  2.5993,  0.7594, -1.2396, -2.8089],\n        [ 1.7913,  1.9512,  0.6871, -0.3314, -0.8802],\n        [ 2.7243,  2.7840,  1.6021, -1.1745, -0.5432]])"
     },
     "execution_count": 117,
     "metadata": {},
     "output_type": "execute_result"
    }
   ],
   "source": [
    "#define my custom implementation of batchnorm ( assumes that x is 3D (B,1,N) shape)\n",
    "def my_Linear(x, in_features=3, out_features=5):\n",
    "    weights = torch.randn(in_features, out_features)  # Corrected order\n",
    "    biases = torch.randn(out_features)\n",
    "\n",
    "    # Perform linear transformation\n",
    "    return torch.matmul(x, weights) + biases\n",
    "\n",
    "output_from_my_implementation = my_Linear(random_tensor)\n",
    "output_from_my_implementation"
   ],
   "metadata": {
    "collapsed": false,
    "ExecuteTime": {
     "end_time": "2023-09-29T05:33:25.142498Z",
     "start_time": "2023-09-29T05:33:25.127253500Z"
    }
   }
  },
  {
   "cell_type": "code",
   "execution_count": 118,
   "outputs": [
    {
     "data": {
      "text/plain": "True"
     },
     "execution_count": 118,
     "metadata": {},
     "output_type": "execute_result"
    }
   ],
   "source": [
    "#Assert that both are the same size as the data inside may be random\n",
    "output_from_pytorch.shape == output_from_my_implementation.shape"
   ],
   "metadata": {
    "collapsed": false,
    "ExecuteTime": {
     "end_time": "2023-09-29T05:33:25.948818400Z",
     "start_time": "2023-09-29T05:33:25.948818400Z"
    }
   }
  }
 ],
 "metadata": {
  "kernelspec": {
   "display_name": "Python 3",
   "language": "python",
   "name": "python3"
  },
  "language_info": {
   "codemirror_mode": {
    "name": "ipython",
    "version": 2
   },
   "file_extension": ".py",
   "mimetype": "text/x-python",
   "name": "python",
   "nbconvert_exporter": "python",
   "pygments_lexer": "ipython2",
   "version": "2.7.6"
  }
 },
 "nbformat": 4,
 "nbformat_minor": 0
}
