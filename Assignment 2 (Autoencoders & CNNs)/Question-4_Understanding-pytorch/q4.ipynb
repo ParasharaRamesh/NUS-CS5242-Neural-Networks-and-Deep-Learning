{
 "cells": [
  {
   "cell_type": "code",
   "execution_count": 10,
   "metadata": {
    "collapsed": true,
    "ExecuteTime": {
     "end_time": "2023-09-29T02:30:43.567689700Z",
     "start_time": "2023-09-29T02:30:43.552025Z"
    }
   },
   "outputs": [],
   "source": [
    "import torch\n",
    "import torch.nn as nn"
   ]
  },
  {
   "cell_type": "markdown",
   "source": [
    "### <u>Compare functions one by one</u>"
   ],
   "metadata": {
    "collapsed": false
   }
  },
  {
   "cell_type": "markdown",
   "source": [
    "#### 1. MaxPool1d"
   ],
   "metadata": {
    "collapsed": false
   }
  },
  {
   "cell_type": "code",
   "execution_count": 47,
   "outputs": [
    {
     "data": {
      "text/plain": "tensor([[0.5260, 0.2067, 0.6972, 0.6780],\n        [0.7745, 0.1303, 0.6338, 0.8962],\n        [0.0936, 0.5606, 0.8696, 0.9967]])"
     },
     "execution_count": 47,
     "metadata": {},
     "output_type": "execute_result"
    }
   ],
   "source": [
    "#Create some random input\n",
    "random_tensor = torch.rand(3, 4)\n",
    "random_tensor"
   ],
   "metadata": {
    "collapsed": false,
    "ExecuteTime": {
     "end_time": "2023-09-29T03:37:04.284595400Z",
     "start_time": "2023-09-29T03:37:04.268984800Z"
    }
   }
  },
  {
   "cell_type": "code",
   "execution_count": 48,
   "outputs": [
    {
     "data": {
      "text/plain": "tensor([[0.5260, 0.6972, 0.6972],\n        [0.7745, 0.6338, 0.8962],\n        [0.5606, 0.8696, 0.9967]])"
     },
     "execution_count": 48,
     "metadata": {},
     "output_type": "execute_result"
    }
   ],
   "source": [
    "#define the pytorch equivalent\n",
    "pytorch_max_pool_fn = nn.MaxPool1d(kernel_size=2, stride=1, padding=0,dilation=1, return_indices=False, ceil_mode=False)\n",
    "output_from_pytorch = pytorch_max_pool_fn(random_tensor)\n",
    "output_from_pytorch"
   ],
   "metadata": {
    "collapsed": false,
    "ExecuteTime": {
     "end_time": "2023-09-29T03:37:04.666940600Z",
     "start_time": "2023-09-29T03:37:04.649196Z"
    }
   }
  },
  {
   "cell_type": "code",
   "execution_count": 49,
   "outputs": [
    {
     "data": {
      "text/plain": "tensor([[0.5260, 0.6972, 0.6972],\n        [0.7745, 0.6338, 0.8962],\n        [0.5606, 0.8696, 0.9967]])"
     },
     "execution_count": 49,
     "metadata": {},
     "output_type": "execute_result"
    }
   ],
   "source": [
    "#define my custom implementation of maxPool1d ( assumes that x is 2D (C,W) shape)\n",
    "def my_MaxPool1d(x, kernel_size=2, stride=1, padding=0, dilation=1):\n",
    "    result = []\n",
    "    for row in x:\n",
    "        maxPoolForRow = []\n",
    "        #k represents start point of the kernel\n",
    "        for k in range(0, len(row) - kernel_size + 1, stride):\n",
    "            maxPoolForRow.append(max(row[k:k + kernel_size]))\n",
    "        result.append(maxPoolForRow)\n",
    "    result = torch.tensor(result)\n",
    "    return result\n",
    "\n",
    "\n",
    "output_from_my_implementation = my_MaxPool1d(random_tensor)\n",
    "output_from_my_implementation"
   ],
   "metadata": {
    "collapsed": false,
    "ExecuteTime": {
     "end_time": "2023-09-29T03:37:05.087420100Z",
     "start_time": "2023-09-29T03:37:05.051046600Z"
    }
   }
  },
  {
   "cell_type": "code",
   "execution_count": 50,
   "outputs": [
    {
     "data": {
      "text/plain": "True"
     },
     "execution_count": 50,
     "metadata": {},
     "output_type": "execute_result"
    }
   ],
   "source": [
    "#Assert that both are the same\n",
    "torch.equal(output_from_pytorch, output_from_my_implementation)"
   ],
   "metadata": {
    "collapsed": false,
    "ExecuteTime": {
     "end_time": "2023-09-29T03:37:05.773773Z",
     "start_time": "2023-09-29T03:37:05.759986700Z"
    }
   }
  },
  {
   "cell_type": "markdown",
   "source": [
    "#### 2. AvgPool1d"
   ],
   "metadata": {
    "collapsed": false
   }
  },
  {
   "cell_type": "code",
   "execution_count": 51,
   "outputs": [
    {
     "data": {
      "text/plain": "tensor([[0.3352, 0.0846, 0.9417, 0.8539],\n        [0.4941, 0.7751, 0.7935, 0.9459],\n        [0.8634, 0.1323, 0.0889, 0.7605]])"
     },
     "execution_count": 51,
     "metadata": {},
     "output_type": "execute_result"
    }
   ],
   "source": [
    "#Create some random input\n",
    "random_tensor = torch.rand(3, 4)\n",
    "random_tensor"
   ],
   "metadata": {
    "collapsed": false,
    "ExecuteTime": {
     "end_time": "2023-09-29T03:37:07.086603700Z",
     "start_time": "2023-09-29T03:37:07.081095300Z"
    }
   }
  },
  {
   "cell_type": "code",
   "execution_count": 52,
   "outputs": [
    {
     "data": {
      "text/plain": "tensor([[0.2099, 0.5131, 0.8978],\n        [0.6346, 0.7843, 0.8697],\n        [0.4978, 0.1106, 0.4247]])"
     },
     "execution_count": 52,
     "metadata": {},
     "output_type": "execute_result"
    }
   ],
   "source": [
    "#define the pytorch equivalent\n",
    "pytorch_avg_pool_fn = nn.AvgPool1d(kernel_size=2, stride=1, padding=0,ceil_mode=False, count_include_pad=True)\n",
    "output_from_pytorch = pytorch_avg_pool_fn(random_tensor)\n",
    "output_from_pytorch\n"
   ],
   "metadata": {
    "collapsed": false,
    "ExecuteTime": {
     "end_time": "2023-09-29T03:37:08.864966800Z",
     "start_time": "2023-09-29T03:37:08.833223100Z"
    }
   }
  },
  {
   "cell_type": "code",
   "execution_count": 53,
   "outputs": [
    {
     "data": {
      "text/plain": "tensor([[0.2099, 0.5131, 0.8978],\n        [0.6346, 0.7843, 0.8697],\n        [0.4978, 0.1106, 0.4247]])"
     },
     "execution_count": 53,
     "metadata": {},
     "output_type": "execute_result"
    }
   ],
   "source": [
    "#define my custom implementation of avgPool1d ( assumes that x is 2D (C,W) shape)\n",
    "def my_AvgPool1d(x, kernel_size=2, stride=1, padding=0, dilation=1):\n",
    "    result = []\n",
    "    for row in x:\n",
    "        maxPoolForRow = []\n",
    "        #k represents start point of the kernel\n",
    "        for k in range(0, len(row) - kernel_size + 1, stride):\n",
    "            maxPoolForRow.append(sum(row[k:k + kernel_size])/kernel_size)\n",
    "        result.append(maxPoolForRow)\n",
    "    result = torch.tensor(result)\n",
    "    return result\n",
    "\n",
    "\n",
    "output_from_my_implementation = my_AvgPool1d(random_tensor)\n",
    "output_from_my_implementation"
   ],
   "metadata": {
    "collapsed": false,
    "ExecuteTime": {
     "end_time": "2023-09-29T03:37:09.255706600Z",
     "start_time": "2023-09-29T03:37:09.240189700Z"
    }
   }
  },
  {
   "cell_type": "code",
   "execution_count": 54,
   "outputs": [
    {
     "data": {
      "text/plain": "True"
     },
     "execution_count": 54,
     "metadata": {},
     "output_type": "execute_result"
    }
   ],
   "source": [
    "#Assert that both are the same\n",
    "torch.equal(output_from_pytorch, output_from_my_implementation)"
   ],
   "metadata": {
    "collapsed": false,
    "ExecuteTime": {
     "end_time": "2023-09-29T03:37:10.602894900Z",
     "start_time": "2023-09-29T03:37:10.587268100Z"
    }
   }
  },
  {
   "cell_type": "markdown",
   "source": [
    "#### 3. Conv1d"
   ],
   "metadata": {
    "collapsed": false
   }
  },
  {
   "cell_type": "code",
   "execution_count": 65,
   "outputs": [],
   "source": [
    "#Loading the given filter and input tensors\n",
    "pixel_input = torch.load(\"./pixel_input.pt\") #Shape (1,1,32)\n",
    "filter = torch.load(\"./filter.pt\") #(Shape 3,1,1)"
   ],
   "metadata": {
    "collapsed": false,
    "ExecuteTime": {
     "end_time": "2023-09-29T03:48:35.439532500Z",
     "start_time": "2023-09-29T03:48:35.408658500Z"
    }
   }
  },
  {
   "cell_type": "code",
   "execution_count": 66,
   "outputs": [],
   "source": [
    "#define pytorch equivalent\n",
    "pytorch_conv1d_output = nn.functional.conv1d(pixel_input, filter, bias = None,stride = 1, padding = 0, dilation = 1, groups = 1)\n",
    "\n",
    "#Shape is (1,3,32)"
   ],
   "metadata": {
    "collapsed": false,
    "ExecuteTime": {
     "end_time": "2023-09-29T03:48:36.236089500Z",
     "start_time": "2023-09-29T03:48:36.215957Z"
    }
   }
  },
  {
   "cell_type": "code",
   "execution_count": 67,
   "outputs": [],
   "source": [
    "#define custom implementation\n",
    "def my_Conv1d(inp, filter, stride=1, padding=0, dilation=1, groups = 1):\n",
    "    result = []\n",
    "\n",
    "    for f in filter:\n",
    "        #as f in this case is 1x1 ( but it could in theory be something like 1 x k)\n",
    "        f = f[0]\n",
    "        batch_row = []\n",
    "        for batch in inp: #(1,32)\n",
    "            conv_row = []\n",
    "            for channel in batch: #(32,)\n",
    "                #convolve f over this channel array using this filter by using dot product to convolve!\n",
    "                for f_ind in range(0, len(channel) - len(f) + 1, stride):\n",
    "                    conv_row.append(torch.dot(f, channel[f_ind: f_ind + len(f)]))\n",
    "            batch_row.append(conv_row)\n",
    "        result.append(batch_row)\n",
    "\n",
    "    result = torch.tensor(result)\n",
    "\n",
    "    #permute it so that the shapes are correct.\n",
    "    result = result.permute(1,0,2)\n",
    "    return result\n",
    "\n",
    "my_conv1d_output = my_Conv1d(pixel_input, filter)"
   ],
   "metadata": {
    "collapsed": false,
    "ExecuteTime": {
     "end_time": "2023-09-29T03:48:38.751772400Z",
     "start_time": "2023-09-29T03:48:38.735443300Z"
    }
   }
  },
  {
   "cell_type": "code",
   "execution_count": 68,
   "outputs": [
    {
     "data": {
      "text/plain": "True"
     },
     "execution_count": 68,
     "metadata": {},
     "output_type": "execute_result"
    }
   ],
   "source": [
    "#Assert that both are the same\n",
    "torch.equal(pytorch_conv1d_output, my_conv1d_output)"
   ],
   "metadata": {
    "collapsed": false,
    "ExecuteTime": {
     "end_time": "2023-09-29T03:48:39.467594900Z",
     "start_time": "2023-09-29T03:48:39.452217600Z"
    }
   }
  },
  {
   "cell_type": "markdown",
   "source": [
    "#### 4. Sigmoid\n",
    "\n"
   ],
   "metadata": {
    "collapsed": false
   }
  },
  {
   "cell_type": "code",
   "execution_count": 69,
   "outputs": [
    {
     "data": {
      "text/plain": "tensor([[0.9921, 0.1134],\n        [0.2238, 0.0080]])"
     },
     "execution_count": 69,
     "metadata": {},
     "output_type": "execute_result"
    }
   ],
   "source": [
    "#Create some random input\n",
    "random_tensor = torch.rand(2, 2)\n",
    "random_tensor"
   ],
   "metadata": {
    "collapsed": false,
    "ExecuteTime": {
     "end_time": "2023-09-29T03:49:51.037897500Z",
     "start_time": "2023-09-29T03:49:50.988628600Z"
    }
   }
  },
  {
   "cell_type": "code",
   "execution_count": 70,
   "outputs": [
    {
     "data": {
      "text/plain": "tensor([[0.7295, 0.5283],\n        [0.5557, 0.5020]])"
     },
     "execution_count": 70,
     "metadata": {},
     "output_type": "execute_result"
    }
   ],
   "source": [
    "#define the pytorch equivalent\n",
    "pytorch_sigmoid_fn = nn.Sigmoid()\n",
    "output_from_pytorch = pytorch_sigmoid_fn(random_tensor)\n",
    "output_from_pytorch\n"
   ],
   "metadata": {
    "collapsed": false,
    "ExecuteTime": {
     "end_time": "2023-09-29T03:50:19.300192900Z",
     "start_time": "2023-09-29T03:50:19.251442400Z"
    }
   }
  },
  {
   "cell_type": "code",
   "execution_count": 71,
   "outputs": [
    {
     "data": {
      "text/plain": "tensor([[0.7295, 0.5283],\n        [0.5557, 0.5020]])"
     },
     "execution_count": 71,
     "metadata": {},
     "output_type": "execute_result"
    }
   ],
   "source": [
    "#define my custom implementation of maxPool1d ( assumes that x is 2D (C,W) shape)\n",
    "def my_Sigmoid(x):\n",
    "    return 1/(1+torch.exp(-x))\n",
    "\n",
    "output_from_my_implementation = my_Sigmoid(random_tensor)\n",
    "output_from_my_implementation"
   ],
   "metadata": {
    "collapsed": false,
    "ExecuteTime": {
     "end_time": "2023-09-29T03:53:09.553422500Z",
     "start_time": "2023-09-29T03:53:09.519054600Z"
    }
   }
  },
  {
   "cell_type": "code",
   "execution_count": 72,
   "outputs": [
    {
     "data": {
      "text/plain": "True"
     },
     "execution_count": 72,
     "metadata": {},
     "output_type": "execute_result"
    }
   ],
   "source": [
    "#Assert that both are the same\n",
    "torch.equal(pytorch_conv1d_output, my_conv1d_output)"
   ],
   "metadata": {
    "collapsed": false,
    "ExecuteTime": {
     "end_time": "2023-09-29T03:53:11.065011800Z",
     "start_time": "2023-09-29T03:53:11.031565Z"
    }
   }
  },
  {
   "cell_type": "markdown",
   "source": [
    "#### 5. BatchNorm1d"
   ],
   "metadata": {
    "collapsed": false
   }
  },
  {
   "cell_type": "code",
   "execution_count": null,
   "outputs": [],
   "source": [],
   "metadata": {
    "collapsed": false
   }
  }
 ],
 "metadata": {
  "kernelspec": {
   "display_name": "Python 3",
   "language": "python",
   "name": "python3"
  },
  "language_info": {
   "codemirror_mode": {
    "name": "ipython",
    "version": 2
   },
   "file_extension": ".py",
   "mimetype": "text/x-python",
   "name": "python",
   "nbconvert_exporter": "python",
   "pygments_lexer": "ipython2",
   "version": "2.7.6"
  }
 },
 "nbformat": 4,
 "nbformat_minor": 0
}
