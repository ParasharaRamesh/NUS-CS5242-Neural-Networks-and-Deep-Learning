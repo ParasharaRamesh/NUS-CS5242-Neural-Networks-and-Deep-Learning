{
 "cells": [
  {
   "cell_type": "code",
   "execution_count": 26,
   "metadata": {
    "collapsed": true,
    "ExecuteTime": {
     "end_time": "2023-08-30T10:40:52.405162600Z",
     "start_time": "2023-08-30T10:40:52.384091200Z"
    }
   },
   "outputs": [],
   "source": [
    "import numpy as np"
   ]
  },
  {
   "cell_type": "code",
   "execution_count": 36,
   "outputs": [],
   "source": [
    "def sigmoid(x):\n",
    "    return 1 / (1 + np.exp(-x))\n",
    "\n",
    "def del_sigmoid(x):\n",
    "    return sigmoid(x) * (1-sigmoid(x))\n",
    "\n",
    "x = 1\n",
    "y = 1\n",
    "w1 = 0.1\n",
    "b1 = 0\n",
    "w2 = -0.2\n",
    "b2 = 0.1\n",
    "w3 = -0.1\n",
    "b3 = 0.2\n",
    "z1 = w1 * x + b1\n",
    "a1 = sigmoid(z1)\n",
    "z2 = w2 * a1 + b2\n",
    "a2 = sigmoid(z2)\n",
    "z3 = w3 * a2 + b3\n",
    "a3 = sigmoid(z3)\n",
    "L = (a3 - y)**2"
   ],
   "metadata": {
    "collapsed": false,
    "ExecuteTime": {
     "end_time": "2023-08-31T12:39:31.405313700Z",
     "start_time": "2023-08-31T12:39:31.389269200Z"
    }
   }
  },
  {
   "cell_type": "code",
   "execution_count": 37,
   "outputs": [
    {
     "name": "stdout",
     "output_type": "stream",
     "text": [
      "a1 : 0.52497918747894\n",
      "a2 : 0.4987510432237148\n",
      "a3 : 0.5374608941399582\n",
      "L : 0.21394242444980693\n"
     ]
    }
   ],
   "source": [
    "print(f\"a1 : {a1}\")\n",
    "print(f\"a2 : {a2}\")\n",
    "print(f\"a3 : {a3}\")\n",
    "print(f\"L : {L}\")"
   ],
   "metadata": {
    "collapsed": false,
    "ExecuteTime": {
     "end_time": "2023-08-31T12:39:32.399861500Z",
     "start_time": "2023-08-31T12:39:32.380915200Z"
    }
   }
  },
  {
   "cell_type": "code",
   "execution_count": null,
   "outputs": [],
   "source": [],
   "metadata": {
    "collapsed": false
   }
  },
  {
   "cell_type": "code",
   "execution_count": 29,
   "outputs": [
    {
     "data": {
      "text/plain": "-0.11469846243400605"
     },
     "execution_count": 29,
     "metadata": {},
     "output_type": "execute_result"
    }
   ],
   "source": [
    "del_L_w3 = 2 * (a3 - y) * a3 * (1 - a3) * a2\n",
    "del_L_w3"
   ],
   "metadata": {
    "collapsed": false,
    "ExecuteTime": {
     "end_time": "2023-08-30T10:40:53.759185700Z",
     "start_time": "2023-08-30T10:40:53.749179600Z"
    }
   }
  },
  {
   "cell_type": "code",
   "execution_count": 30,
   "outputs": [
    {
     "data": {
      "text/plain": "0.003018235787186964"
     },
     "execution_count": 30,
     "metadata": {},
     "output_type": "execute_result"
    }
   ],
   "source": [
    "del_L_w2 = 2 * (a3 - y) * del_sigmoid(z3) * w3 * del_sigmoid(z2) * a1\n",
    "del_L_w2"
   ],
   "metadata": {
    "collapsed": false,
    "ExecuteTime": {
     "end_time": "2023-08-30T10:40:54.194151300Z",
     "start_time": "2023-08-30T10:40:54.189073600Z"
    }
   }
  },
  {
   "cell_type": "code",
   "execution_count": 31,
   "outputs": [
    {
     "data": {
      "text/plain": "-0.00028674496320193853"
     },
     "execution_count": 31,
     "metadata": {},
     "output_type": "execute_result"
    }
   ],
   "source": [
    "del_L_w1 = 2 * (a3 - y) * del_sigmoid(z3) * w3 * del_sigmoid(z2) * w2 * del_sigmoid(z1) * x\n",
    "del_L_w1"
   ],
   "metadata": {
    "collapsed": false,
    "ExecuteTime": {
     "end_time": "2023-08-30T10:40:54.619008300Z",
     "start_time": "2023-08-30T10:40:54.613953800Z"
    }
   }
  },
  {
   "cell_type": "code",
   "execution_count": 32,
   "outputs": [
    {
     "data": {
      "text/plain": "-0.22997137347852736"
     },
     "execution_count": 32,
     "metadata": {},
     "output_type": "execute_result"
    }
   ],
   "source": [
    "del_L_b3 = 2 * (a3 - y) * del_sigmoid(z3)\n",
    "del_L_b3"
   ],
   "metadata": {
    "collapsed": false,
    "ExecuteTime": {
     "end_time": "2023-08-30T10:40:55.071652Z",
     "start_time": "2023-08-30T10:40:55.058986Z"
    }
   }
  },
  {
   "cell_type": "code",
   "execution_count": 33,
   "outputs": [
    {
     "data": {
      "text/plain": "0.005749248463888947"
     },
     "execution_count": 33,
     "metadata": {},
     "output_type": "execute_result"
    }
   ],
   "source": [
    "del_L_b2 = 2 * (a3 - y) * del_sigmoid(z3) * w3 * del_sigmoid(z2)\n",
    "del_L_b2"
   ],
   "metadata": {
    "collapsed": false,
    "ExecuteTime": {
     "end_time": "2023-08-30T10:40:55.762737500Z",
     "start_time": "2023-08-30T10:40:55.749035800Z"
    }
   }
  },
  {
   "cell_type": "code",
   "execution_count": 34,
   "outputs": [
    {
     "data": {
      "text/plain": "-0.00028674496320193853"
     },
     "execution_count": 34,
     "metadata": {},
     "output_type": "execute_result"
    }
   ],
   "source": [
    "del_L_b1 = 2 * (a3 - y) * del_sigmoid(z3) * w3 * del_sigmoid(z2) * w2 * del_sigmoid(z1)\n",
    "del_L_b1"
   ],
   "metadata": {
    "collapsed": false,
    "ExecuteTime": {
     "end_time": "2023-08-30T10:40:56.167248800Z",
     "start_time": "2023-08-30T10:40:56.151140900Z"
    }
   }
  },
  {
   "cell_type": "code",
   "execution_count": null,
   "outputs": [],
   "source": [],
   "metadata": {
    "collapsed": false
   }
  }
 ],
 "metadata": {
  "kernelspec": {
   "display_name": "Python 3",
   "language": "python",
   "name": "python3"
  },
  "language_info": {
   "codemirror_mode": {
    "name": "ipython",
    "version": 2
   },
   "file_extension": ".py",
   "mimetype": "text/x-python",
   "name": "python",
   "nbconvert_exporter": "python",
   "pygments_lexer": "ipython2",
   "version": "2.7.6"
  }
 },
 "nbformat": 4,
 "nbformat_minor": 0
}
