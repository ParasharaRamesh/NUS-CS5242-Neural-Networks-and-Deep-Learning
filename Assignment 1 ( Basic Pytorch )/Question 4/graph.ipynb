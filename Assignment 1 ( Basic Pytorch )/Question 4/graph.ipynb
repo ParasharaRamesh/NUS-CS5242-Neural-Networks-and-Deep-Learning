{
 "cells": [
  {
   "cell_type": "code",
   "execution_count": 19,
   "metadata": {
    "collapsed": true,
    "ExecuteTime": {
     "end_time": "2023-08-30T10:45:52.819889800Z",
     "start_time": "2023-08-30T10:45:52.813233800Z"
    }
   },
   "outputs": [],
   "source": [
    "import torch\n",
    "from torchviz import make_dot\n",
    "from torch import float64\n"
   ]
  },
  {
   "cell_type": "code",
   "execution_count": 33,
   "outputs": [],
   "source": [
    "def print_compute_tree(name,node):\n",
    "    dot = make_dot(node)\n",
    "    dot.render(\"graph/\"+name)\n",
    "\n",
    "inp1 = torch.tensor([1,2,3], dtype = float64, requires_grad=True)\n",
    "inp2 = torch.tensor([1,2,3], dtype = float64, requires_grad=True)\n",
    "inp3 = torch.tensor([1,2,3], dtype = float64, requires_grad=True)\n",
    "inp4 = torch.tensor([1,2,3], dtype = float64, requires_grad=True)\n",
    "\n",
    "test_inp1 = torch.tensor([4,5,6], dtype = float64, requires_grad=True)\n",
    "test_inp2 = torch.tensor([4,5,6], dtype = float64, requires_grad=True)\n",
    "test_inp3 = torch.tensor([4,5,6], dtype = float64, requires_grad=True)\n",
    "test_inp4 = torch.tensor([4,5,6], dtype = float64, requires_grad=True)\n"
   ],
   "metadata": {
    "collapsed": false,
    "ExecuteTime": {
     "end_time": "2023-08-30T10:57:26.242415300Z",
     "start_time": "2023-08-30T10:57:26.234891200Z"
    }
   }
  },
  {
   "cell_type": "code",
   "execution_count": 41,
   "outputs": [
    {
     "name": "stdout",
     "output_type": "stream",
     "text": [
      "F1 Check tensor([ 20.8000, 161.6000, 542.4000], dtype=torch.float64,\n",
      "       grad_fn=<MulBackward0>)\n",
      "F1 On Test inp tensor([1283.2000, 2504.0000, 4324.8000], dtype=torch.float64,\n",
      "       grad_fn=<MulBackward0>)\n"
     ]
    }
   ],
   "source": [
    "'''when both inputs are [1, 2, 3], the output is [20.8, 161.6, 542.4].'''\n",
    "def f1(x, y):\n",
    "    mul21 = x * 5\n",
    "    sub31 = mul21 - y\n",
    "    mul42 = mul21 * y\n",
    "    div43 = y / mul21\n",
    "    add51 = div43 + mul42\n",
    "    mul61 = sub31 * add51\n",
    "    f1 = mul61\n",
    "    print_compute_tree(\"f1\",f1)\n",
    "    return f1\n",
    "\n",
    "print(f\"F1 Check {f1(inp1,inp2)}\")\n",
    "print(f\"F1 On Test inp {f1(test_inp1, test_inp2)}\")"
   ],
   "metadata": {
    "collapsed": false,
    "ExecuteTime": {
     "end_time": "2023-08-30T11:08:18.839496500Z",
     "start_time": "2023-08-30T11:08:18.723714300Z"
    }
   }
  },
  {
   "cell_type": "code",
   "execution_count": 53,
   "outputs": [
    {
     "name": "stdout",
     "output_type": "stream",
     "text": [
      "F2 Check tensor([0.0035, 0.0026, 0.0021], dtype=torch.float64, grad_fn=<DivBackward0>)\n",
      "F2 On Test inp tensor([0.0017, 0.0014, 0.0012], dtype=torch.float64, grad_fn=<DivBackward0>)\n"
     ]
    }
   ],
   "source": [
    "#when both inputs are [1, 2, 3], the output is [0.0035, 0.0026, 0.0021].\n",
    "#TODO ignore the graph order as the answer is correct!\n",
    "def f2(x, y, z):\n",
    "    add31 = y + 5\n",
    "    add32 = z + 5\n",
    "    add41 = x + 5\n",
    "    mul42 = add31 * add32\n",
    "    add51 = add41 + mul42\n",
    "    add61 = add51 + add31\n",
    "    sub71 = add61 - mul42\n",
    "    add81 = add61 + sub71\n",
    "    add82 = sub71 + add32\n",
    "    add91 = add81 + mul42\n",
    "    mulx1 = add91 * add82\n",
    "    divxi1 = add32 / mulx1\n",
    "\n",
    "    f2 = divxi1\n",
    "    print_compute_tree(\"f2\", f2)\n",
    "    return f2\n",
    "\n",
    "\n",
    "print(f\"F2 Check {f2(inp1, inp2, inp3)}\")\n",
    "print(f\"F2 On Test inp {f2(test_inp1, test_inp2, test_inp3)}\")"
   ],
   "metadata": {
    "collapsed": false,
    "ExecuteTime": {
     "end_time": "2023-08-30T11:31:50.591680400Z",
     "start_time": "2023-08-30T11:31:50.371733300Z"
    }
   }
  },
  {
   "cell_type": "code",
   "execution_count": 73,
   "outputs": [
    {
     "name": "stdout",
     "output_type": "stream",
     "text": [
      "F3 Check tensor([ -104.0000, -1188.0000, -6468.0000], dtype=torch.float64,\n",
      "       grad_fn=<MulBackward0>)\n",
      "F3 On Test inp tensor([-11132.,      0.,  56316.], dtype=torch.float64,\n",
      "       grad_fn=<MulBackward0>)\n"
     ]
    }
   ],
   "source": [
    "# when both the inputs are [1, 2, 3], the output is [−104,−1188,−6468].\n",
    "#TODO try diff permutations of operations!\n",
    "def f3(w, x, y, z):\n",
    "    mul31 = z * 5\n",
    "    add41 = x + y\n",
    "    add42 = y + 5\n",
    "    add43 = mul31 + 5\n",
    "    sub51 = add41 - add42  #0\n",
    "    # sub51 = add42 - add41  #1\n",
    "    mul52 = add42 * add43\n",
    "    add61 = add41 + sub51\n",
    "    add71 = w + add61\n",
    "    add72 = w + add61\n",
    "    sub73 = add61 - add42  #0\n",
    "    # sub73 = add42 - add61  #1\n",
    "    mul81 = add72 * sub73\n",
    "    add82 = mul52 + 5\n",
    "    mul91 = add71 * mul81\n",
    "    divx1 = mul91 / 5  #0\n",
    "    # divx1 = 5 / mul91 #1\n",
    "    mulxi1 = divx1 * add82\n",
    "\n",
    "    f3 = mulxi1\n",
    "    print_compute_tree(\"f3\", f3)\n",
    "    return f3\n",
    "\n",
    "print(f\"F3 Check {f3(inp1, inp2, inp3, inp4)}\")\n",
    "print(f\"F3 On Test inp {f3(test_inp1, test_inp2, test_inp3, test_inp4)}\")"
   ],
   "metadata": {
    "collapsed": false,
    "ExecuteTime": {
     "end_time": "2023-08-30T11:44:42.167361900Z",
     "start_time": "2023-08-30T11:44:42.062237300Z"
    }
   }
  }
 ],
 "metadata": {
  "kernelspec": {
   "display_name": "Python 3",
   "language": "python",
   "name": "python3"
  },
  "language_info": {
   "codemirror_mode": {
    "name": "ipython",
    "version": 2
   },
   "file_extension": ".py",
   "mimetype": "text/x-python",
   "name": "python",
   "nbconvert_exporter": "python",
   "pygments_lexer": "ipython2",
   "version": "2.7.6"
  }
 },
 "nbformat": 4,
 "nbformat_minor": 0
}
