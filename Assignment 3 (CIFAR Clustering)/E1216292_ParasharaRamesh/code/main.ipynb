{
 "cells": [
  {
   "cell_type": "markdown",
   "source": [
    "# Notebook setup"
   ],
   "metadata": {
    "collapsed": false
   }
  },
  {
   "cell_type": "code",
   "execution_count": 2,
   "outputs": [],
   "source": [
    "%load_ext autoreload\n",
    "%autoreload 2"
   ],
   "metadata": {
    "collapsed": false,
    "ExecuteTime": {
     "end_time": "2023-10-13T05:34:33.818870800Z",
     "start_time": "2023-10-13T05:34:33.755887400Z"
    }
   }
  },
  {
   "cell_type": "markdown",
   "source": [
    "# Importing relevant things"
   ],
   "metadata": {
    "collapsed": false
   }
  },
  {
   "cell_type": "code",
   "execution_count": 4,
   "metadata": {
    "collapsed": true,
    "ExecuteTime": {
     "end_time": "2023-10-13T05:38:05.106477500Z",
     "start_time": "2023-10-13T05:38:05.048150800Z"
    }
   },
   "outputs": [],
   "source": [
    "import numpy as np"
   ]
  },
  {
   "cell_type": "markdown",
   "source": [
    "# Loading the dataset"
   ],
   "metadata": {
    "collapsed": false
   }
  },
  {
   "cell_type": "code",
   "execution_count": 9,
   "outputs": [],
   "source": [
    "splitted_dataset = np.load('splitted_cifar10_dataset.npz')\n"
   ],
   "metadata": {
    "collapsed": false,
    "ExecuteTime": {
     "end_time": "2023-10-13T05:39:20.295601300Z",
     "start_time": "2023-10-13T05:39:20.236923800Z"
    }
   }
  },
  {
   "cell_type": "code",
   "execution_count": 10,
   "outputs": [],
   "source": [
    "x_train = splitted_dataset['x_train']\n",
    "y_train = splitted_dataset['y_train']\n",
    "x_val = splitted_dataset['x_val']\n",
    "y_val = splitted_dataset['y_val']\n",
    "x_test = splitted_dataset['x_test']\n",
    "y_test = splitted_dataset['y_test']\n"
   ],
   "metadata": {
    "collapsed": false,
    "ExecuteTime": {
     "end_time": "2023-10-13T05:39:22.283362500Z",
     "start_time": "2023-10-13T05:39:21.974519200Z"
    }
   }
  },
  {
   "cell_type": "code",
   "execution_count": 11,
   "outputs": [
    {
     "name": "stdout",
     "output_type": "stream",
     "text": [
      "uint8\n",
      "uint8\n",
      "uint8\n",
      "uint8\n",
      "uint8\n",
      "int64\n"
     ]
    }
   ],
   "source": [
    "print(x_train.dtype)\n",
    "print(y_train.dtype)\n",
    "print(x_val.dtype)\n",
    "print(y_val.dtype)\n",
    "print(x_test.dtype)\n",
    "print(y_test.dtype)\n"
   ],
   "metadata": {
    "collapsed": false,
    "ExecuteTime": {
     "end_time": "2023-10-13T05:39:23.635159400Z",
     "start_time": "2023-10-13T05:39:23.603909800Z"
    }
   }
  },
  {
   "cell_type": "code",
   "execution_count": 12,
   "outputs": [
    {
     "name": "stdout",
     "output_type": "stream",
     "text": [
      "##### Splitted Dataset #####\n",
      "digit:0,\tnum_train:4000,\tnum_val:1000,\tnum_test:1000,\ttotal:6000\n",
      "digit:1,\tnum_train:4000,\tnum_val:1000,\tnum_test:1000,\ttotal:6000\n",
      "digit:2,\tnum_train:4000,\tnum_val:1000,\tnum_test:1000,\ttotal:6000\n",
      "digit:3,\tnum_train:4000,\tnum_val:1000,\tnum_test:1000,\ttotal:6000\n",
      "digit:4,\tnum_train:4000,\tnum_val:1000,\tnum_test:1000,\ttotal:6000\n",
      "digit:5,\tnum_train:4000,\tnum_val:1000,\tnum_test:1000,\ttotal:6000\n",
      "digit:6,\tnum_train:4000,\tnum_val:1000,\tnum_test:1000,\ttotal:6000\n",
      "digit:7,\tnum_train:4000,\tnum_val:1000,\tnum_test:1000,\ttotal:6000\n",
      "digit:8,\tnum_train:4000,\tnum_val:1000,\tnum_test:1000,\ttotal:6000\n",
      "digit:9,\tnum_train:4000,\tnum_val:1000,\tnum_test:1000,\ttotal:6000\n",
      "TOTAL:,\tnum_train:40000.0,\tnum_val:10000.0,\tnum_test:10000.0,\ttotal:60000.0\n"
     ]
    }
   ],
   "source": [
    "\n",
    "print('##### Splitted Dataset #####')\n",
    "splitted_totals=np.zeros(4)\n",
    "for i in range(10):\n",
    "\tnum_train = len(np.where(y_train == i)[0])\n",
    "\tnum_val = len(np.where(y_val == i)[0])\n",
    "\tnum_test = len(np.where(y_test == i)[0])\n",
    "\ttotal = num_train + num_val + num_test\n",
    "\n",
    "\tsplitted_totals[0] += num_train\n",
    "\tsplitted_totals[1] += num_val\n",
    "\tsplitted_totals[2] += num_test\n",
    "\tsplitted_totals[3] += total\n",
    "\n",
    "\tprint('digit:{},\\tnum_train:{},\\tnum_val:{},\\tnum_test:{},\\ttotal:{}'.format(i,num_train, num_val, num_test, total))\n",
    "\n",
    "print('TOTAL:,\\tnum_train:{},\\tnum_val:{},\\tnum_test:{},\\ttotal:{}'.format(splitted_totals[0], splitted_totals[1], splitted_totals[2], splitted_totals[3]))"
   ],
   "metadata": {
    "collapsed": false,
    "ExecuteTime": {
     "end_time": "2023-10-13T05:39:30.804237800Z",
     "start_time": "2023-10-13T05:39:30.725257400Z"
    }
   }
  },
  {
   "cell_type": "code",
   "execution_count": null,
   "outputs": [],
   "source": [],
   "metadata": {
    "collapsed": false
   }
  }
 ],
 "metadata": {
  "kernelspec": {
   "display_name": "Python 3",
   "language": "python",
   "name": "python3"
  },
  "language_info": {
   "codemirror_mode": {
    "name": "ipython",
    "version": 2
   },
   "file_extension": ".py",
   "mimetype": "text/x-python",
   "name": "python",
   "nbconvert_exporter": "python",
   "pygments_lexer": "ipython2",
   "version": "2.7.6"
  }
 },
 "nbformat": 4,
 "nbformat_minor": 0
}
