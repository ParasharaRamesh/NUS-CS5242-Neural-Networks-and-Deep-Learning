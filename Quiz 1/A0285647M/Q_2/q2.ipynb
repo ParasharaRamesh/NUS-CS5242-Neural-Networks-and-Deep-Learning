{
 "cells": [
  {
   "cell_type": "code",
   "execution_count": 1,
   "metadata": {
    "collapsed": true,
    "ExecuteTime": {
     "end_time": "2023-10-03T10:46:29.192637400Z",
     "start_time": "2023-10-03T10:46:25.143424900Z"
    }
   },
   "outputs": [],
   "source": [
    "import torch\n",
    "from torchviz import make_dot\n",
    "from torch import float64\n"
   ]
  },
  {
   "cell_type": "code",
   "execution_count": 27,
   "outputs": [],
   "source": [
    "def print_compute_tree(name,node):\n",
    "    dot = make_dot(node)\n",
    "    dot.render(\"graph/\"+name)\n",
    "\n",
    "# output is [7,11,17]\n",
    "inp1 = torch.tensor([1,2,3], dtype = float64, requires_grad=True)\n",
    "inp2 = torch.tensor([1,2,3], dtype = float64, requires_grad=True)\n",
    "inp3 = torch.tensor([1,2,3], dtype = float64, requires_grad=True)\n",
    "\n",
    "test_inp1 = torch.tensor([4,5,6], dtype = float64, requires_grad=True)\n",
    "test_inp2 = torch.tensor([4,5,6], dtype = float64, requires_grad=True)\n",
    "test_inp3 = torch.tensor([4,5,6], dtype = float64, requires_grad=True)\n"
   ],
   "metadata": {
    "collapsed": false,
    "ExecuteTime": {
     "end_time": "2023-10-03T11:09:30.727968200Z",
     "start_time": "2023-10-03T11:09:30.696201600Z"
    }
   }
  },
  {
   "cell_type": "code",
   "execution_count": 43,
   "outputs": [],
   "source": [
    "# output is [7,11,17]\n",
    "def f(x, y, z):\n",
    "    mul21 = x * 5\n",
    "    div22 = x / 5 #0\n",
    "    # div22 = 5 / x  #1\n",
    "\n",
    "    mul31 = mul21 * div22\n",
    "    add32 = x + 5\n",
    "\n",
    "    add41 = mul31 + add32\n",
    "    add42 = y + div22\n",
    "\n",
    "    add51 = add41 + y\n",
    "    # div52 = add42 / z #0\n",
    "    div52 = z / add42  #1\n",
    "\n",
    "    # sub61 = add51 - mul21 #0\n",
    "    sub61 = mul21 - add51  #1\n",
    "    add62 = add42 + div52\n",
    "\n",
    "    add71 = sub61 + add62\n",
    "    return add71"
   ],
   "metadata": {
    "collapsed": false,
    "ExecuteTime": {
     "end_time": "2023-10-03T11:18:22.212035800Z",
     "start_time": "2023-10-03T11:18:22.203736200Z"
    }
   }
  },
  {
   "cell_type": "code",
   "execution_count": 44,
   "outputs": [
    {
     "data": {
      "text/plain": "tensor([-0.9667,  0.2333, -0.5667], dtype=torch.float64,\n       grad_fn=<AddBackward0>)"
     },
     "execution_count": 44,
     "metadata": {},
     "output_type": "execute_result"
    }
   ],
   "source": [
    "f(inp1, inp2, inp3)"
   ],
   "metadata": {
    "collapsed": false,
    "ExecuteTime": {
     "end_time": "2023-10-03T11:18:22.610738900Z",
     "start_time": "2023-10-03T11:18:22.595113200Z"
    }
   }
  },
  {
   "cell_type": "code",
   "execution_count": 45,
   "outputs": [
    {
     "data": {
      "text/plain": "tensor([ -3.3667,  -8.1667, -14.9667], dtype=torch.float64,\n       grad_fn=<AddBackward0>)"
     },
     "execution_count": 45,
     "metadata": {},
     "output_type": "execute_result"
    }
   ],
   "source": [
    "f(test_inp1, test_inp2, test_inp3)"
   ],
   "metadata": {
    "collapsed": false,
    "ExecuteTime": {
     "end_time": "2023-10-03T11:18:34.666563900Z",
     "start_time": "2023-10-03T11:18:34.603483400Z"
    }
   }
  },
  {
   "cell_type": "code",
   "execution_count": null,
   "outputs": [],
   "source": [],
   "metadata": {
    "collapsed": false
   }
  }
 ],
 "metadata": {
  "kernelspec": {
   "display_name": "Python 3",
   "language": "python",
   "name": "python3"
  },
  "language_info": {
   "codemirror_mode": {
    "name": "ipython",
    "version": 2
   },
   "file_extension": ".py",
   "mimetype": "text/x-python",
   "name": "python",
   "nbconvert_exporter": "python",
   "pygments_lexer": "ipython2",
   "version": "2.7.6"
  }
 },
 "nbformat": 4,
 "nbformat_minor": 0
}
