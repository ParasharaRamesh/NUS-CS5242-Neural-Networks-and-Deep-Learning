{
 "cells": [
  {
   "cell_type": "markdown",
   "source": [
    "$$f1 = W_{11}^1x_1 + W_{21}^1x_2 + W_{31}^1x_3 + b1$$"
   ],
   "metadata": {
    "collapsed": false
   }
  },
  {
   "cell_type": "markdown",
   "source": [
    "$$f2 = W_{12}^1x_1 + W_{22}^1x_2 + W_{32}^1x_3 + b2$$"
   ],
   "metadata": {
    "collapsed": false
   }
  },
  {
   "cell_type": "markdown",
   "source": [
    "$$k1 = f1.W_{11}^2 + f2.W_{21}^2 + b3$$"
   ],
   "metadata": {
    "collapsed": false
   }
  },
  {
   "cell_type": "markdown",
   "source": [
    "$$relu_1 = max(f1, 0)$$\n",
    "$$relu_2 = max(f2, 0)$$"
   ],
   "metadata": {
    "collapsed": false
   }
  },
  {
   "cell_type": "markdown",
   "source": [
    "$$y = relu1 + relu2 + k1$$"
   ],
   "metadata": {
    "collapsed": false
   }
  },
  {
   "cell_type": "markdown",
   "source": [
    "$$z = \\sigma(y) E R^3$$\n",
    "i.e. $ z = [z1,z2,z3]$"
   ],
   "metadata": {
    "collapsed": false
   }
  },
  {
   "cell_type": "markdown",
   "source": [
    "$$p_i = \\frac{z_i}{z1+z2+z3}$$"
   ],
   "metadata": {
    "collapsed": false
   }
  },
  {
   "cell_type": "markdown",
   "source": [
    "now L is\n",
    "\n",
    "$$L = sum(-y_i.ln(p_i))$$"
   ],
   "metadata": {
    "collapsed": false
   }
  },
  {
   "cell_type": "markdown",
   "source": [
    "$$\\frac{\\partial{L}}{\\partial{z_i}}= \\frac{\\partial{L}}{\\partial{p_i}} . \\frac{\\partial{p_i}}{\\partial{z_i}}$$"
   ],
   "metadata": {
    "collapsed": false
   }
  },
  {
   "cell_type": "markdown",
   "source": [
    "$$\\frac{\\partial{L}}{\\partial{p_i}} = -(\\frac{y_i}{p_i} - \\frac{1-y_i}{1-p_i}) $$"
   ],
   "metadata": {
    "collapsed": false
   }
  },
  {
   "cell_type": "markdown",
   "source": [
    "using derivative of u/v formula we can find\n",
    "\n",
    "$$ \\frac{\\partial{p_i}}{\\partial{z_i}} = \\frac{sum(z_i)without{z_i}}{[sum(z_i)]^2}$$"
   ],
   "metadata": {
    "collapsed": false
   }
  },
  {
   "cell_type": "markdown",
   "source": [
    "$$\\frac{\\partial{L}}{\\partial{z_i}}=-(\\frac{y_i}{p_i} - \\frac{1-y_i}{1-p_i}).\\frac{sum(z_i)without{z_i}}{[sum(z_i)]^2}$$"
   ],
   "metadata": {
    "collapsed": false
   }
  },
  {
   "cell_type": "markdown",
   "source": [],
   "metadata": {
    "collapsed": false
   }
  }
 ],
 "metadata": {
  "kernelspec": {
   "display_name": "Python 3",
   "language": "python",
   "name": "python3"
  },
  "language_info": {
   "codemirror_mode": {
    "name": "ipython",
    "version": 2
   },
   "file_extension": ".py",
   "mimetype": "text/x-python",
   "name": "python",
   "nbconvert_exporter": "python",
   "pygments_lexer": "ipython2",
   "version": "2.7.6"
  }
 },
 "nbformat": 4,
 "nbformat_minor": 0
}
