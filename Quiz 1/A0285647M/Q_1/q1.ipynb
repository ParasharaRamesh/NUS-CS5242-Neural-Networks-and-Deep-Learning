{
 "cells": [
  {
   "cell_type": "code",
   "execution_count": 45,
   "metadata": {
    "collapsed": true,
    "ExecuteTime": {
     "end_time": "2023-10-03T11:55:35.023626Z",
     "start_time": "2023-10-03T11:55:35.023626Z"
    }
   },
   "outputs": [],
   "source": [
    "import copy\n",
    "\n",
    "import numpy as np\n"
   ]
  },
  {
   "cell_type": "code",
   "execution_count": 64,
   "outputs": [],
   "source": [
    "# import data and lavels\n",
    "data = []\n",
    "labels = []\n",
    "with open(\"data.txt\", \"r\") as data_file:\n",
    "    data_lines = data_file.readlines()\n",
    "    for dl in data_lines:\n",
    "        dl_str = str(dl)\n",
    "        dl_nums = dl_str.split(\" \")\n",
    "        dl_nums = list(map(lambda x: float(x), dl_nums))\n",
    "        data.append(dl_nums)\n",
    "\n",
    "with open(\"labels.txt\", \"r\") as data_file:\n",
    "    label_lines = data_file.readlines()\n",
    "    for ll in label_lines:\n",
    "        ll_str = str(ll)\n",
    "        ll_nums = ll_str.split(\" \")\n",
    "        ll_nums = list(map(lambda x: float(x),ll_nums))\n",
    "        labels.append(ll_nums)\n",
    "\n"
   ],
   "metadata": {
    "collapsed": false,
    "ExecuteTime": {
     "end_time": "2023-10-03T12:03:28.060973700Z",
     "start_time": "2023-10-03T12:03:28.059528900Z"
    }
   }
  },
  {
   "cell_type": "code",
   "execution_count": 68,
   "outputs": [],
   "source": [
    "data = np.array(data)\n",
    "labels = np.array(labels)"
   ],
   "metadata": {
    "collapsed": false,
    "ExecuteTime": {
     "end_time": "2023-10-03T12:05:35.575505600Z",
     "start_time": "2023-10-03T12:05:35.559831500Z"
    }
   }
  },
  {
   "cell_type": "code",
   "execution_count": 73,
   "outputs": [],
   "source": [
    "min_vals = np.min(data, axis=1, keepdims=True)\n",
    "max_vals = np.max(data, axis=1, keepdims=True)\n",
    "\n",
    "# Normalize each data point to the range [0, 1]\n",
    "normalized_data = (data - min_vals) / (max_vals - min_vals)\n",
    "data = normalized_data"
   ],
   "metadata": {
    "collapsed": false,
    "ExecuteTime": {
     "end_time": "2023-10-03T12:07:07.451411400Z",
     "start_time": "2023-10-03T12:07:07.435794400Z"
    }
   }
  },
  {
   "cell_type": "code",
   "execution_count": 74,
   "outputs": [
    {
     "data": {
      "text/plain": "array([0.29851466, 0.46197562, 0.44111288, 0.51093793, 0.40352981,\n       0.47422537, 0.66291609, 0.1655874 , 0.57486745, 0.14586933,\n       0.9997642 , 0.53459824, 0.28927902, 0.86914475, 0.81095486,\n       0.80215741, 0.60814172, 0.41561366, 0.55423892, 0.21386518,\n       0.88726209, 0.45869804, 0.57391811, 0.02275642, 0.20230834,\n       0.24424557, 0.50042071, 0.16437651, 0.10286602, 0.47685835,\n       0.3765237 , 0.29236939, 0.36391652, 0.10214601, 0.74970338,\n       0.06784104, 0.7050685 , 0.92762509, 0.4074721 , 0.14305853,\n       0.        , 0.81188599, 0.23771865, 0.86101998, 0.35425055,\n       0.23255021, 0.57003628, 0.32110404, 0.78927854, 0.7450759 ,\n       0.58070159, 0.43724779, 0.49623663, 0.44494755, 0.96924805,\n       0.98455634, 0.73414975, 0.92107814, 0.61073205, 0.58370347,\n       0.80025043, 0.39210142, 0.84073368, 0.48529755, 0.61745687,\n       0.27517962, 0.86993613, 1.        , 0.21630899, 0.64999924,\n       0.98835508, 0.76604846, 0.1536952 , 0.58061941, 0.66773627,\n       0.93478422, 0.89165587, 0.3391706 , 0.70415107, 0.67930162,\n       0.24237463, 0.13519491, 0.72973186, 0.66238513, 0.90489489,\n       0.3814153 , 0.45342446, 0.63799809, 0.81174682, 0.73752157,\n       0.77072354, 0.19243609, 0.69959056, 0.06548584, 0.3104385 ,\n       0.93842098, 0.9474239 , 0.38044126, 0.62765362, 0.21262509])"
     },
     "execution_count": 74,
     "metadata": {},
     "output_type": "execute_result"
    }
   ],
   "source": [
    "data[0]"
   ],
   "metadata": {
    "collapsed": false,
    "ExecuteTime": {
     "end_time": "2023-10-03T12:07:09.280674500Z",
     "start_time": "2023-10-03T12:07:09.265145100Z"
    }
   }
  },
  {
   "cell_type": "code",
   "execution_count": 75,
   "outputs": [],
   "source": [
    "from numpy import float64\n",
    "\n",
    "#50 data points of size 100 are there now\n",
    "total_exp = np.zeros(100)\n",
    "\n",
    "for d in data:\n",
    "    d = np.array(d, dtype=float64)\n",
    "    total_exp += np.exp(d)\n"
   ],
   "metadata": {
    "collapsed": false,
    "ExecuteTime": {
     "end_time": "2023-10-03T12:07:12.301437900Z",
     "start_time": "2023-10-03T12:07:12.285872200Z"
    }
   }
  },
  {
   "cell_type": "code",
   "execution_count": 79,
   "outputs": [],
   "source": [
    "softmax = np.exp(data)/total_exp"
   ],
   "metadata": {
    "collapsed": false,
    "ExecuteTime": {
     "end_time": "2023-10-03T12:08:03.391328Z",
     "start_time": "2023-10-03T12:08:03.374952Z"
    }
   }
  },
  {
   "cell_type": "code",
   "execution_count": 95,
   "outputs": [
    {
     "data": {
      "text/plain": "50"
     },
     "execution_count": 95,
     "metadata": {},
     "output_type": "execute_result"
    }
   ],
   "source": [
    "len(softmax)"
   ],
   "metadata": {
    "collapsed": false,
    "ExecuteTime": {
     "end_time": "2023-10-03T12:13:05.952802600Z",
     "start_time": "2023-10-03T12:13:05.931033300Z"
    }
   }
  },
  {
   "cell_type": "code",
   "execution_count": 90,
   "outputs": [
    {
     "data": {
      "text/plain": "-4.055224829182344"
     },
     "execution_count": 90,
     "metadata": {},
     "output_type": "execute_result"
    }
   ],
   "source": [
    "np.dot(np.log(softmax[0]), labels[0])"
   ],
   "metadata": {
    "collapsed": false,
    "ExecuteTime": {
     "end_time": "2023-10-03T12:12:24.047185600Z",
     "start_time": "2023-10-03T12:12:24.047185600Z"
    }
   }
  },
  {
   "cell_type": "code",
   "execution_count": 96,
   "outputs": [],
   "source": [
    "loss = 0\n",
    "\n",
    "for i in range(50):\n",
    "    y = labels[i]\n",
    "    p = softmax[i]\n",
    "    ln = np.log(p)\n",
    "    product = np.dot(y,ln)\n",
    "    loss += product\n"
   ],
   "metadata": {
    "collapsed": false,
    "ExecuteTime": {
     "end_time": "2023-10-03T12:13:47.314110100Z",
     "start_time": "2023-10-03T12:13:47.308910600Z"
    }
   }
  },
  {
   "cell_type": "code",
   "execution_count": 98,
   "outputs": [
    {
     "data": {
      "text/plain": "-197.71602699385943"
     },
     "execution_count": 98,
     "metadata": {},
     "output_type": "execute_result"
    }
   ],
   "source": [
    "loss"
   ],
   "metadata": {
    "collapsed": false,
    "ExecuteTime": {
     "end_time": "2023-10-03T12:13:50.235977100Z",
     "start_time": "2023-10-03T12:13:50.220152200Z"
    }
   }
  },
  {
   "cell_type": "code",
   "execution_count": null,
   "outputs": [],
   "source": [],
   "metadata": {
    "collapsed": false
   }
  }
 ],
 "metadata": {
  "kernelspec": {
   "display_name": "Python 3",
   "language": "python",
   "name": "python3"
  },
  "language_info": {
   "codemirror_mode": {
    "name": "ipython",
    "version": 2
   },
   "file_extension": ".py",
   "mimetype": "text/x-python",
   "name": "python",
   "nbconvert_exporter": "python",
   "pygments_lexer": "ipython2",
   "version": "2.7.6"
  }
 },
 "nbformat": 4,
 "nbformat_minor": 0
}
